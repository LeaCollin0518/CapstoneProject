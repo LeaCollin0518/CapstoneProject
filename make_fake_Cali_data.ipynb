{
 "cells": [
  {
   "cell_type": "code",
   "execution_count": 1,
   "metadata": {},
   "outputs": [],
   "source": [
    "import pandas as pd\n",
    "import numpy as np\n",
    "import pyreadr"
   ]
  },
  {
   "cell_type": "markdown",
   "metadata": {},
   "source": [
    "## Create fake California data with gridding from Dalhousie"
   ]
  },
  {
   "cell_type": "code",
   "execution_count": 2,
   "metadata": {},
   "outputs": [],
   "source": [
    "dh_2010 = pd.read_csv('./Data/cali_example/dh_ca_annual_2010.csv')"
   ]
  },
  {
   "cell_type": "code",
   "execution_count": 3,
   "metadata": {},
   "outputs": [
    {
     "data": {
      "text/html": [
       "<div>\n",
       "<style scoped>\n",
       "    .dataframe tbody tr th:only-of-type {\n",
       "        vertical-align: middle;\n",
       "    }\n",
       "\n",
       "    .dataframe tbody tr th {\n",
       "        vertical-align: top;\n",
       "    }\n",
       "\n",
       "    .dataframe thead th {\n",
       "        text-align: right;\n",
       "    }\n",
       "</style>\n",
       "<table border=\"1\" class=\"dataframe\">\n",
       "  <thead>\n",
       "    <tr style=\"text-align: right;\">\n",
       "      <th></th>\n",
       "      <th>x</th>\n",
       "      <th>y</th>\n",
       "      <th>PM25</th>\n",
       "    </tr>\n",
       "  </thead>\n",
       "  <tbody>\n",
       "    <tr>\n",
       "      <th>0</th>\n",
       "      <td>-124.405</td>\n",
       "      <td>42.005</td>\n",
       "      <td>NaN</td>\n",
       "    </tr>\n",
       "    <tr>\n",
       "      <th>1</th>\n",
       "      <td>-124.395</td>\n",
       "      <td>42.005</td>\n",
       "      <td>NaN</td>\n",
       "    </tr>\n",
       "    <tr>\n",
       "      <th>2</th>\n",
       "      <td>-124.385</td>\n",
       "      <td>42.005</td>\n",
       "      <td>NaN</td>\n",
       "    </tr>\n",
       "    <tr>\n",
       "      <th>3</th>\n",
       "      <td>-124.375</td>\n",
       "      <td>42.005</td>\n",
       "      <td>NaN</td>\n",
       "    </tr>\n",
       "    <tr>\n",
       "      <th>4</th>\n",
       "      <td>-124.365</td>\n",
       "      <td>42.005</td>\n",
       "      <td>NaN</td>\n",
       "    </tr>\n",
       "  </tbody>\n",
       "</table>\n",
       "</div>"
      ],
      "text/plain": [
       "         x       y  PM25\n",
       "0 -124.405  42.005   NaN\n",
       "1 -124.395  42.005   NaN\n",
       "2 -124.385  42.005   NaN\n",
       "3 -124.375  42.005   NaN\n",
       "4 -124.365  42.005   NaN"
      ]
     },
     "execution_count": 3,
     "metadata": {},
     "output_type": "execute_result"
    }
   ],
   "source": [
    "dh_2010.head()"
   ]
  },
  {
   "cell_type": "code",
   "execution_count": 4,
   "metadata": {},
   "outputs": [],
   "source": [
    "dh_2010 = dh_2010.dropna()"
   ]
  },
  {
   "cell_type": "code",
   "execution_count": 5,
   "metadata": {},
   "outputs": [],
   "source": [
    "dh_2010 = dh_2010.rename(columns={\"x\": \"lon\", \"y\": \"lat\", \"PM25\": \"pm25\"})"
   ]
  },
  {
   "cell_type": "code",
   "execution_count": 6,
   "metadata": {},
   "outputs": [
    {
     "data": {
      "text/html": [
       "<div>\n",
       "<style scoped>\n",
       "    .dataframe tbody tr th:only-of-type {\n",
       "        vertical-align: middle;\n",
       "    }\n",
       "\n",
       "    .dataframe tbody tr th {\n",
       "        vertical-align: top;\n",
       "    }\n",
       "\n",
       "    .dataframe thead th {\n",
       "        text-align: right;\n",
       "    }\n",
       "</style>\n",
       "<table border=\"1\" class=\"dataframe\">\n",
       "  <thead>\n",
       "    <tr style=\"text-align: right;\">\n",
       "      <th></th>\n",
       "      <th>lon</th>\n",
       "      <th>lat</th>\n",
       "      <th>pm25</th>\n",
       "    </tr>\n",
       "  </thead>\n",
       "  <tbody>\n",
       "    <tr>\n",
       "      <th>17</th>\n",
       "      <td>-124.235</td>\n",
       "      <td>42.005</td>\n",
       "      <td>3.1</td>\n",
       "    </tr>\n",
       "    <tr>\n",
       "      <th>18</th>\n",
       "      <td>-124.225</td>\n",
       "      <td>42.005</td>\n",
       "      <td>3.1</td>\n",
       "    </tr>\n",
       "    <tr>\n",
       "      <th>19</th>\n",
       "      <td>-124.215</td>\n",
       "      <td>42.005</td>\n",
       "      <td>3.1</td>\n",
       "    </tr>\n",
       "    <tr>\n",
       "      <th>20</th>\n",
       "      <td>-124.205</td>\n",
       "      <td>42.005</td>\n",
       "      <td>3.0</td>\n",
       "    </tr>\n",
       "    <tr>\n",
       "      <th>21</th>\n",
       "      <td>-124.195</td>\n",
       "      <td>42.005</td>\n",
       "      <td>3.0</td>\n",
       "    </tr>\n",
       "  </tbody>\n",
       "</table>\n",
       "</div>"
      ],
      "text/plain": [
       "        lon     lat  pm25\n",
       "17 -124.235  42.005   3.1\n",
       "18 -124.225  42.005   3.1\n",
       "19 -124.215  42.005   3.1\n",
       "20 -124.205  42.005   3.0\n",
       "21 -124.195  42.005   3.0"
      ]
     },
     "execution_count": 6,
     "metadata": {},
     "output_type": "execute_result"
    }
   ],
   "source": [
    "dh_2010.head()"
   ]
  },
  {
   "cell_type": "code",
   "execution_count": 7,
   "metadata": {},
   "outputs": [],
   "source": [
    "fake_data_1 = dh_2010.copy()\n",
    "fake_data_2 = dh_2010.copy()\n",
    "fake_data_3 = dh_2010.copy()"
   ]
  },
  {
   "cell_type": "code",
   "execution_count": 8,
   "metadata": {},
   "outputs": [
    {
     "data": {
      "text/plain": [
       "(2.79999995231628, 16.5)"
      ]
     },
     "execution_count": 8,
     "metadata": {},
     "output_type": "execute_result"
    }
   ],
   "source": [
    "dh_2010['pm25'].min(), dh_2010['pm25'].max()"
   ]
  },
  {
   "cell_type": "code",
   "execution_count": 9,
   "metadata": {},
   "outputs": [],
   "source": [
    "np.random.seed(5578942)\n",
    "\n",
    "#fake_pm25 = np.random.uniform(dh_2010['pm25'].min(), dh_2010['pm25'].max(), dh_2010.shape[0])\n",
    "fake_pm25 = np.random.uniform(dh_2010['pm25'].min(), dh_2010['pm25'].max(), (3, dh_2010.shape[0]))"
   ]
  },
  {
   "cell_type": "code",
   "execution_count": 10,
   "metadata": {},
   "outputs": [
    {
     "data": {
      "text/plain": [
       "(3, 731615)"
      ]
     },
     "execution_count": 10,
     "metadata": {},
     "output_type": "execute_result"
    }
   ],
   "source": [
    "fake_pm25.shape"
   ]
  },
  {
   "cell_type": "code",
   "execution_count": 11,
   "metadata": {},
   "outputs": [],
   "source": [
    "fake_data_1['pm25'] = fake_pm25[0]\n",
    "fake_data_2['pm25'] = fake_pm25[1]\n",
    "fake_data_3['pm25'] = fake_pm25[2]"
   ]
  },
  {
   "cell_type": "code",
   "execution_count": 12,
   "metadata": {},
   "outputs": [],
   "source": [
    "fake_data_1.to_csv('./Data/cali_example/dhFake1_2010_align.csv')\n",
    "fake_data_2.to_csv('./Data/cali_example/dhFake2_2010_align.csv')\n",
    "fake_data_3.to_csv('./Data/cali_example/dhFake3_2010_align.csv')"
   ]
  },
  {
   "cell_type": "markdown",
   "metadata": {},
   "source": [
    "## Create training data file"
   ]
  },
  {
   "cell_type": "code",
   "execution_count": null,
   "metadata": {},
   "outputs": [],
   "source": [
    "fake_data_1 = pd.read_csv('./Data/cali_example/dhFake1_2010_align.csv')\n",
    "fake_data_2 = pd.read_csv('./Data/cali_example/dhFake2_2010_align.csv')\n",
    "fake_data_3 = pd.read_csv('./Data/cali_example/dhFake3_2010_align.csv')"
   ]
  },
  {
   "cell_type": "code",
   "execution_count": 13,
   "metadata": {},
   "outputs": [],
   "source": [
    "monitor_data = pyreadr.read_r('./Data/epa_data/pm25_observed_2000_2016.rds')\n",
    "monitor_data = monitor_data[None]"
   ]
  },
  {
   "cell_type": "code",
   "execution_count": 14,
   "metadata": {},
   "outputs": [
    {
     "data": {
      "text/html": [
       "<div>\n",
       "<style scoped>\n",
       "    .dataframe tbody tr th:only-of-type {\n",
       "        vertical-align: middle;\n",
       "    }\n",
       "\n",
       "    .dataframe tbody tr th {\n",
       "        vertical-align: top;\n",
       "    }\n",
       "\n",
       "    .dataframe thead th {\n",
       "        text-align: right;\n",
       "    }\n",
       "</style>\n",
       "<table border=\"1\" class=\"dataframe\">\n",
       "  <thead>\n",
       "    <tr style=\"text-align: right;\">\n",
       "      <th></th>\n",
       "      <th>Date</th>\n",
       "      <th>uid</th>\n",
       "      <th>source</th>\n",
       "      <th>pm25_obs</th>\n",
       "      <th>Latitude</th>\n",
       "      <th>Longitude</th>\n",
       "      <th>State.Code</th>\n",
       "      <th>County.Code</th>\n",
       "    </tr>\n",
       "  </thead>\n",
       "  <tbody>\n",
       "    <tr>\n",
       "      <th>0</th>\n",
       "      <td>2000-01-16</td>\n",
       "      <td>010030010</td>\n",
       "      <td>EPA</td>\n",
       "      <td>5.9</td>\n",
       "      <td>30.497478</td>\n",
       "      <td>-87.880258</td>\n",
       "      <td>01</td>\n",
       "      <td>003</td>\n",
       "    </tr>\n",
       "    <tr>\n",
       "      <th>1</th>\n",
       "      <td>2000-01-19</td>\n",
       "      <td>010030010</td>\n",
       "      <td>EPA</td>\n",
       "      <td>11.0</td>\n",
       "      <td>30.497478</td>\n",
       "      <td>-87.880258</td>\n",
       "      <td>01</td>\n",
       "      <td>003</td>\n",
       "    </tr>\n",
       "    <tr>\n",
       "      <th>2</th>\n",
       "      <td>2000-01-22</td>\n",
       "      <td>010030010</td>\n",
       "      <td>EPA</td>\n",
       "      <td>8.6</td>\n",
       "      <td>30.497478</td>\n",
       "      <td>-87.880258</td>\n",
       "      <td>01</td>\n",
       "      <td>003</td>\n",
       "    </tr>\n",
       "    <tr>\n",
       "      <th>3</th>\n",
       "      <td>2000-01-25</td>\n",
       "      <td>010030010</td>\n",
       "      <td>EPA</td>\n",
       "      <td>6.2</td>\n",
       "      <td>30.497478</td>\n",
       "      <td>-87.880258</td>\n",
       "      <td>01</td>\n",
       "      <td>003</td>\n",
       "    </tr>\n",
       "    <tr>\n",
       "      <th>4</th>\n",
       "      <td>2000-01-28</td>\n",
       "      <td>010030010</td>\n",
       "      <td>EPA</td>\n",
       "      <td>7.6</td>\n",
       "      <td>30.497478</td>\n",
       "      <td>-87.880258</td>\n",
       "      <td>01</td>\n",
       "      <td>003</td>\n",
       "    </tr>\n",
       "  </tbody>\n",
       "</table>\n",
       "</div>"
      ],
      "text/plain": [
       "         Date        uid source  pm25_obs   Latitude  Longitude State.Code  \\\n",
       "0  2000-01-16  010030010    EPA       5.9  30.497478 -87.880258         01   \n",
       "1  2000-01-19  010030010    EPA      11.0  30.497478 -87.880258         01   \n",
       "2  2000-01-22  010030010    EPA       8.6  30.497478 -87.880258         01   \n",
       "3  2000-01-25  010030010    EPA       6.2  30.497478 -87.880258         01   \n",
       "4  2000-01-28  010030010    EPA       7.6  30.497478 -87.880258         01   \n",
       "\n",
       "  County.Code  \n",
       "0         003  \n",
       "1         003  \n",
       "2         003  \n",
       "3         003  \n",
       "4         003  "
      ]
     },
     "execution_count": 14,
     "metadata": {},
     "output_type": "execute_result"
    }
   ],
   "source": [
    "monitor_data.head()"
   ]
  },
  {
   "cell_type": "code",
   "execution_count": 15,
   "metadata": {},
   "outputs": [],
   "source": [
    "cali_monitors = monitor_data.loc[(pd.to_datetime(monitor_data['Date']).dt.year == 2010) & (monitor_data['State.Code'] == '06') & ((monitor_data['County.Code'] == '001') | (monitor_data['County.Code'] == '007') | (monitor_data['County.Code'] == '009'))]"
   ]
  },
  {
   "cell_type": "code",
   "execution_count": 16,
   "metadata": {},
   "outputs": [
    {
     "data": {
      "text/plain": [
       "(298, 8)"
      ]
     },
     "execution_count": 16,
     "metadata": {},
     "output_type": "execute_result"
    }
   ],
   "source": [
    "cali_monitors.shape"
   ]
  },
  {
   "cell_type": "code",
   "execution_count": 18,
   "metadata": {},
   "outputs": [
    {
     "data": {
      "text/plain": [
       "(-121.843286, 37.687526, -120.680277, 39.757371)"
      ]
     },
     "execution_count": 18,
     "metadata": {},
     "output_type": "execute_result"
    }
   ],
   "source": [
    "cali_monitors.Longitude.min(), cali_monitors.Latitude.min(), cali_monitors.Longitude.max(), cali_monitors.Latitude.max()"
   ]
  },
  {
   "cell_type": "code",
   "execution_count": 19,
   "metadata": {},
   "outputs": [],
   "source": [
    "dh_2010 = dh_2010.loc[(dh_2010.lon >= cali_monitors.Longitude.min()) & (dh_2010.lon <= cali_monitors.Longitude.max()) & (dh_2010.lat >= cali_monitors.Latitude.min()) & (dh_2010.lat <= cali_monitors.Latitude.max())]"
   ]
  },
  {
   "cell_type": "code",
   "execution_count": 20,
   "metadata": {},
   "outputs": [],
   "source": [
    "fake_data_1 = fake_data_1.loc[(fake_data_1.lon >= cali_monitors.Longitude.min()) & (fake_data_1.lon <= cali_monitors.Longitude.max()) & (fake_data_1.lat >= cali_monitors.Latitude.min()) & (fake_data_1.lat <= cali_monitors.Latitude.max())]"
   ]
  },
  {
   "cell_type": "code",
   "execution_count": 21,
   "metadata": {},
   "outputs": [],
   "source": [
    "fake_data_2 = fake_data_2.loc[(fake_data_2.lon >= cali_monitors.Longitude.min()) & (fake_data_2.lon <= cali_monitors.Longitude.max()) & (fake_data_2.lat >= cali_monitors.Latitude.min()) & (fake_data_2.lat <= cali_monitors.Latitude.max())]"
   ]
  },
  {
   "cell_type": "code",
   "execution_count": 22,
   "metadata": {},
   "outputs": [],
   "source": [
    "fake_data_3 = fake_data_3.loc[(fake_data_3.lon >= cali_monitors.Longitude.min()) & (fake_data_3.lon <= cali_monitors.Longitude.max()) & (fake_data_3.lat >= cali_monitors.Latitude.min()) & (fake_data_3.lat <= cali_monitors.Latitude.max())]"
   ]
  },
  {
   "cell_type": "code",
   "execution_count": 24,
   "metadata": {},
   "outputs": [],
   "source": [
    "cali_monitors = cali_monitors[['Longitude', 'Latitude', 'pm25_obs']]"
   ]
  },
  {
   "cell_type": "code",
   "execution_count": 25,
   "metadata": {},
   "outputs": [],
   "source": [
    "cali_monitors = cali_monitors.rename(columns={\"Longitude\": \"lon\", \"Latitude\": \"lat\"})"
   ]
  },
  {
   "cell_type": "code",
   "execution_count": 26,
   "metadata": {},
   "outputs": [],
   "source": [
    "training_data_2010 = cali_monitors.groupby(['lon','lat']).mean().reset_index()"
   ]
  },
  {
   "cell_type": "code",
   "execution_count": 27,
   "metadata": {},
   "outputs": [
    {
     "data": {
      "text/html": [
       "<div>\n",
       "<style scoped>\n",
       "    .dataframe tbody tr th:only-of-type {\n",
       "        vertical-align: middle;\n",
       "    }\n",
       "\n",
       "    .dataframe tbody tr th {\n",
       "        vertical-align: top;\n",
       "    }\n",
       "\n",
       "    .dataframe thead th {\n",
       "        text-align: right;\n",
       "    }\n",
       "</style>\n",
       "<table border=\"1\" class=\"dataframe\">\n",
       "  <thead>\n",
       "    <tr style=\"text-align: right;\">\n",
       "      <th></th>\n",
       "      <th>lon</th>\n",
       "      <th>lat</th>\n",
       "      <th>pm25_obs</th>\n",
       "    </tr>\n",
       "  </thead>\n",
       "  <tbody>\n",
       "    <tr>\n",
       "      <th>0</th>\n",
       "      <td>-121.843286</td>\n",
       "      <td>39.757371</td>\n",
       "      <td>7.987931</td>\n",
       "    </tr>\n",
       "    <tr>\n",
       "      <th>1</th>\n",
       "      <td>-121.784217</td>\n",
       "      <td>37.687526</td>\n",
       "      <td>8.575714</td>\n",
       "    </tr>\n",
       "    <tr>\n",
       "      <th>2</th>\n",
       "      <td>-120.680277</td>\n",
       "      <td>38.201850</td>\n",
       "      <td>4.883333</td>\n",
       "    </tr>\n",
       "  </tbody>\n",
       "</table>\n",
       "</div>"
      ],
      "text/plain": [
       "          lon        lat  pm25_obs\n",
       "0 -121.843286  39.757371  7.987931\n",
       "1 -121.784217  37.687526  8.575714\n",
       "2 -120.680277  38.201850  4.883333"
      ]
     },
     "execution_count": 27,
     "metadata": {},
     "output_type": "execute_result"
    }
   ],
   "source": [
    "training_data_2010"
   ]
  },
  {
   "cell_type": "code",
   "execution_count": 28,
   "metadata": {},
   "outputs": [],
   "source": [
    "# round to nearest 0.05 \n",
    "training_data_2010['approx_Long'] = round(training_data_2010.lon/0.01) * 0.01 - 0.005\n",
    "training_data_2010['approx_Lat'] = round(training_data_2010.lat/0.01) * 0.01 - 0.005"
   ]
  },
  {
   "cell_type": "code",
   "execution_count": 29,
   "metadata": {},
   "outputs": [
    {
     "data": {
      "text/html": [
       "<div>\n",
       "<style scoped>\n",
       "    .dataframe tbody tr th:only-of-type {\n",
       "        vertical-align: middle;\n",
       "    }\n",
       "\n",
       "    .dataframe tbody tr th {\n",
       "        vertical-align: top;\n",
       "    }\n",
       "\n",
       "    .dataframe thead th {\n",
       "        text-align: right;\n",
       "    }\n",
       "</style>\n",
       "<table border=\"1\" class=\"dataframe\">\n",
       "  <thead>\n",
       "    <tr style=\"text-align: right;\">\n",
       "      <th></th>\n",
       "      <th>lon</th>\n",
       "      <th>lat</th>\n",
       "      <th>pm25_obs</th>\n",
       "      <th>approx_Long</th>\n",
       "      <th>approx_Lat</th>\n",
       "    </tr>\n",
       "  </thead>\n",
       "  <tbody>\n",
       "    <tr>\n",
       "      <th>0</th>\n",
       "      <td>-121.843286</td>\n",
       "      <td>39.757371</td>\n",
       "      <td>7.987931</td>\n",
       "      <td>-121.845</td>\n",
       "      <td>39.755</td>\n",
       "    </tr>\n",
       "    <tr>\n",
       "      <th>1</th>\n",
       "      <td>-121.784217</td>\n",
       "      <td>37.687526</td>\n",
       "      <td>8.575714</td>\n",
       "      <td>-121.785</td>\n",
       "      <td>37.685</td>\n",
       "    </tr>\n",
       "    <tr>\n",
       "      <th>2</th>\n",
       "      <td>-120.680277</td>\n",
       "      <td>38.201850</td>\n",
       "      <td>4.883333</td>\n",
       "      <td>-120.685</td>\n",
       "      <td>38.195</td>\n",
       "    </tr>\n",
       "  </tbody>\n",
       "</table>\n",
       "</div>"
      ],
      "text/plain": [
       "          lon        lat  pm25_obs  approx_Long  approx_Lat\n",
       "0 -121.843286  39.757371  7.987931     -121.845      39.755\n",
       "1 -121.784217  37.687526  8.575714     -121.785      37.685\n",
       "2 -120.680277  38.201850  4.883333     -120.685      38.195"
      ]
     },
     "execution_count": 29,
     "metadata": {},
     "output_type": "execute_result"
    }
   ],
   "source": [
    "training_data_2010.head()"
   ]
  },
  {
   "cell_type": "code",
   "execution_count": 23,
   "metadata": {},
   "outputs": [],
   "source": [
    "training_data_2010.drop_duplicates(subset = ['approx_Long','approx_Lat'], \n",
    "                     keep = False, inplace = True) "
   ]
  },
  {
   "cell_type": "code",
   "execution_count": 30,
   "metadata": {},
   "outputs": [
    {
     "data": {
      "text/html": [
       "<div>\n",
       "<style scoped>\n",
       "    .dataframe tbody tr th:only-of-type {\n",
       "        vertical-align: middle;\n",
       "    }\n",
       "\n",
       "    .dataframe tbody tr th {\n",
       "        vertical-align: top;\n",
       "    }\n",
       "\n",
       "    .dataframe thead th {\n",
       "        text-align: right;\n",
       "    }\n",
       "</style>\n",
       "<table border=\"1\" class=\"dataframe\">\n",
       "  <thead>\n",
       "    <tr style=\"text-align: right;\">\n",
       "      <th></th>\n",
       "      <th>approx_Long</th>\n",
       "      <th>approx_Lat</th>\n",
       "      <th>pm25_dh</th>\n",
       "    </tr>\n",
       "  </thead>\n",
       "  <tbody>\n",
       "    <tr>\n",
       "      <th>231557</th>\n",
       "      <td>-121.835</td>\n",
       "      <td>39.755</td>\n",
       "      <td>7.3</td>\n",
       "    </tr>\n",
       "    <tr>\n",
       "      <th>231558</th>\n",
       "      <td>-121.825</td>\n",
       "      <td>39.755</td>\n",
       "      <td>7.2</td>\n",
       "    </tr>\n",
       "    <tr>\n",
       "      <th>231559</th>\n",
       "      <td>-121.815</td>\n",
       "      <td>39.755</td>\n",
       "      <td>7.2</td>\n",
       "    </tr>\n",
       "    <tr>\n",
       "      <th>231560</th>\n",
       "      <td>-121.805</td>\n",
       "      <td>39.755</td>\n",
       "      <td>7.2</td>\n",
       "    </tr>\n",
       "    <tr>\n",
       "      <th>231561</th>\n",
       "      <td>-121.795</td>\n",
       "      <td>39.755</td>\n",
       "      <td>6.8</td>\n",
       "    </tr>\n",
       "  </tbody>\n",
       "</table>\n",
       "</div>"
      ],
      "text/plain": [
       "        approx_Long  approx_Lat  pm25_dh\n",
       "231557     -121.835      39.755      7.3\n",
       "231558     -121.825      39.755      7.2\n",
       "231559     -121.815      39.755      7.2\n",
       "231560     -121.805      39.755      7.2\n",
       "231561     -121.795      39.755      6.8"
      ]
     },
     "execution_count": 30,
     "metadata": {},
     "output_type": "execute_result"
    }
   ],
   "source": [
    "dh_2010 = dh_2010.rename(columns={\"lon\": \"approx_Long\", \"lat\": \"approx_Lat\", 'pm25' : 'pm25_dh'})\n",
    "dh_2010.head()"
   ]
  },
  {
   "cell_type": "code",
   "execution_count": 31,
   "metadata": {},
   "outputs": [],
   "source": [
    "joined_df = training_data_2010.merge(dh_2010, how='left', on=['approx_Long','approx_Lat'])"
   ]
  },
  {
   "cell_type": "code",
   "execution_count": 32,
   "metadata": {},
   "outputs": [],
   "source": [
    "fake_data_1 = fake_data_1.rename(columns={\"lon\": \"approx_Long\", \"lat\": \"approx_Lat\", 'pm25' : 'pm25_fakeDH1'})\n",
    "fake_data_2 = fake_data_2.rename(columns={\"lon\": \"approx_Long\", \"lat\": \"approx_Lat\", 'pm25' : 'pm25_fakeDH2'})\n",
    "fake_data_3 = fake_data_3.rename(columns={\"lon\": \"approx_Long\", \"lat\": \"approx_Lat\", 'pm25' : 'pm25_fakeDH3'})"
   ]
  },
  {
   "cell_type": "code",
   "execution_count": 33,
   "metadata": {},
   "outputs": [],
   "source": [
    "joined_df = joined_df.merge(fake_data_1, how='left', on=['approx_Long','approx_Lat'])\n",
    "joined_df = joined_df.merge(fake_data_2, how='left', on=['approx_Long','approx_Lat'])\n",
    "joined_df = joined_df.merge(fake_data_3, how='left', on=['approx_Long','approx_Lat'])"
   ]
  },
  {
   "cell_type": "code",
   "execution_count": 34,
   "metadata": {},
   "outputs": [
    {
     "data": {
      "text/html": [
       "<div>\n",
       "<style scoped>\n",
       "    .dataframe tbody tr th:only-of-type {\n",
       "        vertical-align: middle;\n",
       "    }\n",
       "\n",
       "    .dataframe tbody tr th {\n",
       "        vertical-align: top;\n",
       "    }\n",
       "\n",
       "    .dataframe thead th {\n",
       "        text-align: right;\n",
       "    }\n",
       "</style>\n",
       "<table border=\"1\" class=\"dataframe\">\n",
       "  <thead>\n",
       "    <tr style=\"text-align: right;\">\n",
       "      <th></th>\n",
       "      <th>lon</th>\n",
       "      <th>lat</th>\n",
       "      <th>pm25_obs</th>\n",
       "      <th>approx_Long</th>\n",
       "      <th>approx_Lat</th>\n",
       "      <th>pm25_dh</th>\n",
       "      <th>pm25_fakeDH1</th>\n",
       "      <th>pm25_fakeDH2</th>\n",
       "      <th>pm25_fakeDH3</th>\n",
       "    </tr>\n",
       "  </thead>\n",
       "  <tbody>\n",
       "    <tr>\n",
       "      <th>0</th>\n",
       "      <td>-121.843286</td>\n",
       "      <td>39.757371</td>\n",
       "      <td>7.987931</td>\n",
       "      <td>-121.845</td>\n",
       "      <td>39.755</td>\n",
       "      <td>NaN</td>\n",
       "      <td>NaN</td>\n",
       "      <td>NaN</td>\n",
       "      <td>NaN</td>\n",
       "    </tr>\n",
       "    <tr>\n",
       "      <th>1</th>\n",
       "      <td>-121.784217</td>\n",
       "      <td>37.687526</td>\n",
       "      <td>8.575714</td>\n",
       "      <td>-121.785</td>\n",
       "      <td>37.685</td>\n",
       "      <td>NaN</td>\n",
       "      <td>NaN</td>\n",
       "      <td>NaN</td>\n",
       "      <td>NaN</td>\n",
       "    </tr>\n",
       "    <tr>\n",
       "      <th>2</th>\n",
       "      <td>-120.680277</td>\n",
       "      <td>38.201850</td>\n",
       "      <td>4.883333</td>\n",
       "      <td>-120.685</td>\n",
       "      <td>38.195</td>\n",
       "      <td>6.8</td>\n",
       "      <td>10.566755</td>\n",
       "      <td>5.498932</td>\n",
       "      <td>15.060017</td>\n",
       "    </tr>\n",
       "  </tbody>\n",
       "</table>\n",
       "</div>"
      ],
      "text/plain": [
       "          lon        lat  pm25_obs  approx_Long  approx_Lat  pm25_dh  \\\n",
       "0 -121.843286  39.757371  7.987931     -121.845      39.755      NaN   \n",
       "1 -121.784217  37.687526  8.575714     -121.785      37.685      NaN   \n",
       "2 -120.680277  38.201850  4.883333     -120.685      38.195      6.8   \n",
       "\n",
       "   pm25_fakeDH1  pm25_fakeDH2  pm25_fakeDH3  \n",
       "0           NaN           NaN           NaN  \n",
       "1           NaN           NaN           NaN  \n",
       "2     10.566755      5.498932     15.060017  "
      ]
     },
     "execution_count": 34,
     "metadata": {},
     "output_type": "execute_result"
    }
   ],
   "source": [
    "joined_df.head()"
   ]
  },
  {
   "cell_type": "code",
   "execution_count": null,
   "metadata": {},
   "outputs": [],
   "source": [
    "# cmaq_1 = pd.read_csv('./Data/cali_example/CMAQ_2010_align.csv')\n",
    "# cmaq_2 = pd.read_csv('./Data/cali_example/CMAQ1_2010_align.csv')"
   ]
  },
  {
   "cell_type": "code",
   "execution_count": null,
   "metadata": {},
   "outputs": [],
   "source": [
    "# cmaq_1 = cmaq_1.drop(['Unnamed: 0'], axis = 1)\n",
    "# cmaq_2 = cmaq_2.drop(['Unnamed: 0'], axis = 1)"
   ]
  },
  {
   "cell_type": "code",
   "execution_count": null,
   "metadata": {},
   "outputs": [],
   "source": [
    "# cmaq_1 = cmaq_1.rename(columns={\"lon\": \"approx_Long\", \"lat\": \"approx_Lat\", 'pm25' : 'pm25_CMAQ'})\n",
    "# cmaq_2 = cmaq_2.rename(columns={\"lon\": \"approx_Long\", \"lat\": \"approx_Lat\", 'pm25' : 'pm25_CMAQ1'})"
   ]
  },
  {
   "cell_type": "code",
   "execution_count": null,
   "metadata": {},
   "outputs": [],
   "source": [
    "# joined_df = joined_df.merge(cmaq_1, how='left', on=['approx_Long','approx_Lat'])\n",
    "# joined_df = joined_df.merge(cmaq_2, how='left', on=['approx_Long','approx_Lat'])"
   ]
  },
  {
   "cell_type": "code",
   "execution_count": null,
   "metadata": {},
   "outputs": [],
   "source": [
    "# joined_df.head()"
   ]
  },
  {
   "cell_type": "code",
   "execution_count": 35,
   "metadata": {},
   "outputs": [],
   "source": [
    "joined_df = joined_df.fillna(method = 'bfill', axis = 0)"
   ]
  },
  {
   "cell_type": "code",
   "execution_count": 36,
   "metadata": {},
   "outputs": [],
   "source": [
    "joined_df = joined_df.drop(['approx_Long', 'approx_Lat'], axis = 1)\n",
    "joined_df = joined_df.rename(columns={\"pm25_dh\": \"pred_dh\", \"pm25_fakeDH2\": \"pred_dhFake2\", 'pm25_fakeDH1' : 'pred_dhFake1', \"pm25_fakeDH3\" : 'pred_dhFake3'})"
   ]
  },
  {
   "cell_type": "code",
   "execution_count": 39,
   "metadata": {},
   "outputs": [],
   "source": [
    "joined_df.to_csv('./Data/cali_example/training_data_2010.csv', index = False)"
   ]
  },
  {
   "cell_type": "code",
   "execution_count": 48,
   "metadata": {},
   "outputs": [],
   "source": [
    "dh_2010 = dh_2010.rename(columns={'approx_Long' : 'lon', 'approx_Lat' : 'lat', 'pm25_dh' : 'pm25'})\n",
    "fake_data_1 = fake_data_1.rename(columns={'approx_Long' : 'lon', 'approx_Lat' : 'lat', 'pm25_fakeDH1' : 'pm25'})\n",
    "fake_data_2 = fake_data_2.rename(columns={'approx_Long' : 'lon', 'approx_Lat' : 'lat', 'pm25_fakeDH2' : 'pm25'})\n",
    "fake_data_3 = fake_data_3.rename(columns={'approx_Long' : 'lon', 'approx_Lat' : 'lat', 'pm25_fakeDH3' : 'pm25'})"
   ]
  },
  {
   "cell_type": "code",
   "execution_count": 52,
   "metadata": {},
   "outputs": [],
   "source": [
    "dh_2010.to_csv('./Data/cali_example/dh_2010_align.csv')\n",
    "fake_data_1.to_csv('./Data/cali_example/dhFake1_2010_align.csv')\n",
    "fake_data_2.to_csv('./Data/cali_example/dhFake2_2010_align.csv')\n",
    "fake_data_3.to_csv('./Data/cali_example/dhFake3_2010_align.csv')"
   ]
  }
 ],
 "metadata": {
  "kernelspec": {
   "display_name": "Python 3",
   "language": "python",
   "name": "python3"
  },
  "language_info": {
   "codemirror_mode": {
    "name": "ipython",
    "version": 3
   },
   "file_extension": ".py",
   "mimetype": "text/x-python",
   "name": "python",
   "nbconvert_exporter": "python",
   "pygments_lexer": "ipython3",
   "version": "3.6.8"
  }
 },
 "nbformat": 4,
 "nbformat_minor": 2
}
