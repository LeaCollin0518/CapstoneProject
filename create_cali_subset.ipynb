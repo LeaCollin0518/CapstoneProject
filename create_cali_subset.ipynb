{
 "cells": [
  {
   "cell_type": "markdown",
   "metadata": {},
   "source": [
    "## Create Subset"
   ]
  },
  {
   "cell_type": "code",
   "execution_count": 34,
   "metadata": {},
   "outputs": [],
   "source": [
    "import pandas as pd\n",
    "import numpy as np\n",
    "import os\n",
    "import pickle as pk\n",
    "from collections import defaultdict"
   ]
  },
  {
   "cell_type": "code",
   "execution_count": 2,
   "metadata": {},
   "outputs": [],
   "source": [
    "training_data = pd.read_csv('./Data/cali_example/training_data_2010.csv', usecols = [1, 2, 3, 4, 5, 6])\n",
    "av = pd.read_csv('./Data/cali_example/AV_2010_align.csv', usecols = [1,2,3])\n",
    "gm = pd.read_csv('./Data/cali_example/GM_2010_align.csv', usecols = [1,2,3])\n",
    "gs = pd.read_csv('./Data/cali_example/GS_2010_align.csv', usecols = [1,2,3])"
   ]
  },
  {
   "cell_type": "code",
   "execution_count": 3,
   "metadata": {
    "scrolled": true
   },
   "outputs": [
    {
     "data": {
      "text/plain": [
       "((83, 6), (974544, 3), (974544, 3), (974544, 3))"
      ]
     },
     "execution_count": 3,
     "metadata": {},
     "output_type": "execute_result"
    }
   ],
   "source": [
    "training_data.shape, av.shape, gm.shape, gs.shape"
   ]
  },
  {
   "cell_type": "code",
   "execution_count": 4,
   "metadata": {},
   "outputs": [],
   "source": [
    "training_ = training_data[~training_data['pred_GS'].isnull()]"
   ]
  },
  {
   "cell_type": "code",
   "execution_count": 5,
   "metadata": {},
   "outputs": [],
   "source": [
    "training_data = training_"
   ]
  },
  {
   "cell_type": "code",
   "execution_count": 6,
   "metadata": {},
   "outputs": [
    {
     "data": {
      "text/plain": [
       "(80, 6)"
      ]
     },
     "execution_count": 6,
     "metadata": {},
     "output_type": "execute_result"
    }
   ],
   "source": [
    "training_data.shape"
   ]
  },
  {
   "cell_type": "code",
   "execution_count": null,
   "metadata": {},
   "outputs": [],
   "source": [
    "av.isna().sum()"
   ]
  },
  {
   "cell_type": "code",
   "execution_count": null,
   "metadata": {},
   "outputs": [],
   "source": [
    "gm.isna().sum()"
   ]
  },
  {
   "cell_type": "code",
   "execution_count": null,
   "metadata": {},
   "outputs": [],
   "source": [
    "gs.isna().sum()"
   ]
  },
  {
   "cell_type": "code",
   "execution_count": null,
   "metadata": {},
   "outputs": [],
   "source": [
    "av.head()"
   ]
  },
  {
   "cell_type": "markdown",
   "metadata": {},
   "source": [
    "### Getting all indices with no null predictions"
   ]
  },
  {
   "cell_type": "code",
   "execution_count": 7,
   "metadata": {},
   "outputs": [],
   "source": [
    "av_ = av[~av['pm25'].isnull()]\n",
    "gs_ = gs[~gs['pm25'].isnull()]"
   ]
  },
  {
   "cell_type": "code",
   "execution_count": null,
   "metadata": {},
   "outputs": [],
   "source": [
    "av_.shape, gs_.shape"
   ]
  },
  {
   "cell_type": "code",
   "execution_count": 8,
   "metadata": {},
   "outputs": [],
   "source": [
    "indices = list(set(av_.index) & set(gs_.index))"
   ]
  },
  {
   "cell_type": "code",
   "execution_count": 9,
   "metadata": {},
   "outputs": [
    {
     "data": {
      "text/plain": [
       "723716"
      ]
     },
     "execution_count": 9,
     "metadata": {},
     "output_type": "execute_result"
    }
   ],
   "source": [
    "len(indices)"
   ]
  },
  {
   "cell_type": "code",
   "execution_count": 10,
   "metadata": {},
   "outputs": [],
   "source": [
    "av = av.loc[indices]\n",
    "gm = gm.loc[indices]\n",
    "gs = gs.loc[indices]"
   ]
  },
  {
   "cell_type": "code",
   "execution_count": null,
   "metadata": {},
   "outputs": [],
   "source": [
    "av.shape, gm.shape, gs.shape"
   ]
  },
  {
   "cell_type": "code",
   "execution_count": null,
   "metadata": {},
   "outputs": [],
   "source": [
    "training_data.head()"
   ]
  },
  {
   "cell_type": "code",
   "execution_count": null,
   "metadata": {},
   "outputs": [],
   "source": [
    "min       max\n",
    "x -124.48200 -114.1312\n",
    "y   32.52883   42.0095"
   ]
  },
  {
   "cell_type": "code",
   "execution_count": 11,
   "metadata": {},
   "outputs": [],
   "source": [
    "min_lon = -118.0\n",
    "max_lon = -117.0\n",
    "min_lat = 33.7\n",
    "max_lat = 35.0"
   ]
  },
  {
   "cell_type": "code",
   "execution_count": 12,
   "metadata": {},
   "outputs": [],
   "source": [
    "training_data = training_data.loc[(training_data.lon >= min_lon) & (training_data.lon <= max_lon) & (training_data.lat >= min_lat) & (training_data.lat <= max_lat)]"
   ]
  },
  {
   "cell_type": "code",
   "execution_count": 13,
   "metadata": {},
   "outputs": [],
   "source": [
    "av = av.loc[(av.lon >= min_lon) & (av.lon <= max_lon) & (av.lat >= min_lat) & (av.lat <= max_lat)]"
   ]
  },
  {
   "cell_type": "code",
   "execution_count": 14,
   "metadata": {},
   "outputs": [],
   "source": [
    "gm = gm.loc[(gm.lon >= min_lon) & (gm.lon <= max_lon) & (gm.lat >= min_lat) & (gm.lat <= max_lat)]"
   ]
  },
  {
   "cell_type": "code",
   "execution_count": 15,
   "metadata": {},
   "outputs": [],
   "source": [
    "gs = gs.loc[(gs.lon >= min_lon) & (gs.lon <= max_lon) & (gs.lat >= min_lat) & (gs.lat <= max_lat)]"
   ]
  },
  {
   "cell_type": "code",
   "execution_count": 16,
   "metadata": {},
   "outputs": [
    {
     "data": {
      "text/plain": [
       "((13000, 3), (13000, 3), (13000, 3))"
      ]
     },
     "execution_count": 16,
     "metadata": {},
     "output_type": "execute_result"
    }
   ],
   "source": [
    "av.shape, gm.shape, gs.shape"
   ]
  },
  {
   "cell_type": "code",
   "execution_count": null,
   "metadata": {},
   "outputs": [],
   "source": [
    "av.isna().sum()"
   ]
  },
  {
   "cell_type": "code",
   "execution_count": null,
   "metadata": {},
   "outputs": [],
   "source": [
    "gm.isna().sum()"
   ]
  },
  {
   "cell_type": "code",
   "execution_count": null,
   "metadata": {},
   "outputs": [],
   "source": [
    "gs.isna().sum()"
   ]
  },
  {
   "cell_type": "code",
   "execution_count": null,
   "metadata": {},
   "outputs": [],
   "source": [
    "av = av.fillna(method='bfill')\n",
    "gs = gs.fillna(method='bfill')"
   ]
  },
  {
   "cell_type": "code",
   "execution_count": 17,
   "metadata": {},
   "outputs": [],
   "source": [
    "training_data.to_csv('./Cali_Example/example/data/training_data_2010.csv', index = False)\n",
    "av.to_csv('./Cali_Example/example/data/AV_2010_align.csv')\n",
    "gm.to_csv('./Cali_Example/example/data/GM_2010_align.csv')\n",
    "gs.to_csv('./Cali_Example/example/data/GS_2010_align.csv')"
   ]
  },
  {
   "cell_type": "markdown",
   "metadata": {},
   "source": [
    "## Create file to visualize BNE predictions"
   ]
  },
  {
   "cell_type": "code",
   "execution_count": 18,
   "metadata": {},
   "outputs": [],
   "source": [
    "num_coords = av.shape[0]\n",
    "num_mcmc = 5000"
   ]
  },
  {
   "cell_type": "code",
   "execution_count": 24,
   "metadata": {},
   "outputs": [],
   "source": [
    "_SAVE_ADDR_PREFIX = \"./Cali_Example/result_ca_2010/calibre_2d_annual_pm25_example_ca_2010\"\n",
    "family_name = 'hmc'"
   ]
  },
  {
   "cell_type": "code",
   "execution_count": 36,
   "metadata": {},
   "outputs": [
    {
     "name": "stdout",
     "output_type": "stream",
     "text": [
      "0\n",
      "1\n"
     ]
    }
   ],
   "source": [
    "ensemble_mean_val = []\n",
    "ensemble_uncn_val = []\n",
    "\n",
    "num_subsegs = 2\n",
    "\n",
    "for i in range(num_subsegs):\n",
    "    print (i)\n",
    "    with open(os.path.join(_SAVE_ADDR_PREFIX,\n",
    "                           '{}/ensemble_mean_dict_{}.pkl'.format(family_name, i)), 'rb') as file:\n",
    "        ensemble_mean_val.append(pk.load(file))\n",
    "\n",
    "    with open(os.path.join(_SAVE_ADDR_PREFIX,\n",
    "                           '{}/ensemble_uncn_dict_{}.pkl'.format(family_name, i)), 'rb') as file:\n",
    "        ensemble_uncn_val.append(pk.load(file))"
   ]
  },
  {
   "cell_type": "code",
   "execution_count": 37,
   "metadata": {},
   "outputs": [
    {
     "data": {
      "text/plain": [
       "(6500,)"
      ]
     },
     "execution_count": 37,
     "metadata": {},
     "output_type": "execute_result"
    }
   ],
   "source": [
    "ensemble_uncn_val[1]['overall'].shape"
   ]
  },
  {
   "cell_type": "code",
   "execution_count": 38,
   "metadata": {},
   "outputs": [],
   "source": [
    "num_coords = 0\n",
    "mean_dict = defaultdict()\n",
    "unc_dict = defaultdict()\n",
    "\n",
    "for i in range(num_subsegs):\n",
    "    num_coords += ensemble_mean_val[i]['overall'].shape[0]\n",
    "\n",
    "post_mean_dict = {'overall': None, 'mean': None, 'resid': None}\n",
    "post_uncn_dict = {'overall': None, 'mean': None, 'resid': None, 'noise': None}\n",
    "\n",
    "for key in post_mean_dict:\n",
    "    post_mean_dict[key] = np.concatenate([ensemble_mean_val[i][key] for i in range(num_subsegs)], axis = None).reshape(num_coords)\n",
    "\n",
    "for key in post_uncn_dict:\n",
    "    post_uncn_dict[key] = np.concatenate([ensemble_uncn_val[i][key] for i in range(num_subsegs)], axis = None).reshape(num_coords)\n",
    "\n",
    "with open(os.path.join(_SAVE_ADDR_PREFIX,\n",
    "                       '{}/ensemble_mean_dict.pkl'.format(family_name)), 'wb') as file:\n",
    "    pk.dump(post_mean_dict, file, protocol=pk.HIGHEST_PROTOCOL)\n",
    "with open(os.path.join(_SAVE_ADDR_PREFIX,\n",
    "                       '{}/ensemble_uncn_dict.pkl'.format(family_name)), 'wb') as file:\n",
    "    pk.dump(post_uncn_dict, file, protocol=pk.HIGHEST_PROTOCOL)"
   ]
  },
  {
   "cell_type": "code",
   "execution_count": null,
   "metadata": {},
   "outputs": [],
   "source": [
    "av_sub = av.iloc[:num_coords]\n",
    "av_sub = av_sub.drop(['pm25'], axis = 1)\n",
    "\n",
    "locations = av_sub[['lat', 'lon']]\n",
    "locations['mean_overall'] = post_mean_dict['overall']\n",
    "locations['mean_mean'] = post_mean_dict['mean']\n",
    "\n",
    "locations.to_csv('./Cali_Example/example/data/model_predictions_sub.csv', index = False)"
   ]
  },
  {
   "cell_type": "code",
   "execution_count": null,
   "metadata": {},
   "outputs": [],
   "source": [
    "av_sub = av.iloc[:num_coords]\n",
    "av_sub = av_sub.drop(['pm25'], axis = 1)"
   ]
  },
  {
   "cell_type": "code",
   "execution_count": null,
   "metadata": {},
   "outputs": [],
   "source": [
    "av_sub['mean_overall'] = np.mean(sample_val, axis = 1)\n",
    "av_sub['mean_mean'] = np.mean(mean_val, axis = 1)"
   ]
  },
  {
   "cell_type": "code",
   "execution_count": null,
   "metadata": {},
   "outputs": [],
   "source": [
    "av_sub.to_csv('./Data/cali_example/model_predictions_sub.csv', index = False)"
   ]
  },
  {
   "cell_type": "code",
   "execution_count": null,
   "metadata": {},
   "outputs": [],
   "source": [
    "locations = pd.read_csv('./Cali_Example/example/data/AV_2010_align.csv', usecols = [1,2,3])"
   ]
  },
  {
   "cell_type": "code",
   "execution_count": null,
   "metadata": {},
   "outputs": [],
   "source": [
    "locations.shape"
   ]
  },
  {
   "cell_type": "code",
   "execution_count": null,
   "metadata": {},
   "outputs": [],
   "source": [
    "locations['mean_overall'] = post_mean_dict['overall']\n",
    "locations['mean_mean'] = post_mean_dict['mean']"
   ]
  },
  {
   "cell_type": "code",
   "execution_count": null,
   "metadata": {},
   "outputs": [],
   "source": [
    "locations.head()"
   ]
  },
  {
   "cell_type": "code",
   "execution_count": null,
   "metadata": {},
   "outputs": [],
   "source": [
    "locations.to_csv('./Data/cali_example/model_predictions_LA.csv', index = False)"
   ]
  }
 ],
 "metadata": {
  "kernelspec": {
   "display_name": "Python 3",
   "language": "python",
   "name": "python3"
  },
  "language_info": {
   "codemirror_mode": {
    "name": "ipython",
    "version": 3
   },
   "file_extension": ".py",
   "mimetype": "text/x-python",
   "name": "python",
   "nbconvert_exporter": "python",
   "pygments_lexer": "ipython3",
   "version": "3.6.8"
  }
 },
 "nbformat": 4,
 "nbformat_minor": 2
}
