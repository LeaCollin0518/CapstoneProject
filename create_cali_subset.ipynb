{
 "cells": [
  {
   "cell_type": "markdown",
   "metadata": {},
   "source": [
    "## Create Subset"
   ]
  },
  {
   "cell_type": "code",
   "execution_count": 1,
   "metadata": {},
   "outputs": [],
   "source": [
    "import pandas as pd\n",
    "import numpy as np\n",
    "import os\n",
    "import pickle as pk"
   ]
  },
  {
   "cell_type": "code",
   "execution_count": 3,
   "metadata": {},
   "outputs": [],
   "source": [
    "training_data = pd.read_csv('./Data/cali_example/training_data_2010.csv', usecols = [1, 2, 3, 4, 5, 6])\n",
    "av = pd.read_csv('./Data/cali_example/AV_2010_align.csv', usecols = [1,2,3])\n",
    "gm = pd.read_csv('./Data/cali_example/GM_2010_align.csv', usecols = [1,2,3])\n",
    "gs = pd.read_csv('./Data/cali_example/GS_2010_align.csv', usecols = [1,2,3])"
   ]
  },
  {
   "cell_type": "code",
   "execution_count": 5,
   "metadata": {},
   "outputs": [
    {
     "data": {
      "text/plain": [
       "((83, 6), (974544, 3), (974544, 3), (974544, 3))"
      ]
     },
     "execution_count": 5,
     "metadata": {},
     "output_type": "execute_result"
    }
   ],
   "source": [
    "training_data.shape, av.shape, gm.shape, gs.shape"
   ]
  },
  {
   "cell_type": "code",
   "execution_count": 6,
   "metadata": {},
   "outputs": [
    {
     "data": {
      "text/html": [
       "<div>\n",
       "<style scoped>\n",
       "    .dataframe tbody tr th:only-of-type {\n",
       "        vertical-align: middle;\n",
       "    }\n",
       "\n",
       "    .dataframe tbody tr th {\n",
       "        vertical-align: top;\n",
       "    }\n",
       "\n",
       "    .dataframe thead th {\n",
       "        text-align: right;\n",
       "    }\n",
       "</style>\n",
       "<table border=\"1\" class=\"dataframe\">\n",
       "  <thead>\n",
       "    <tr style=\"text-align: right;\">\n",
       "      <th></th>\n",
       "      <th>lon</th>\n",
       "      <th>lat</th>\n",
       "      <th>pm25_obs</th>\n",
       "      <th>pred_AV</th>\n",
       "      <th>pred_GS</th>\n",
       "      <th>pred_GM</th>\n",
       "    </tr>\n",
       "  </thead>\n",
       "  <tbody>\n",
       "    <tr>\n",
       "      <th>0</th>\n",
       "      <td>-124.083900</td>\n",
       "      <td>41.560800</td>\n",
       "      <td>2.835678</td>\n",
       "      <td>3.0</td>\n",
       "      <td>5.364638</td>\n",
       "      <td>1.940895</td>\n",
       "    </tr>\n",
       "    <tr>\n",
       "      <th>1</th>\n",
       "      <td>-122.922290</td>\n",
       "      <td>39.032700</td>\n",
       "      <td>3.075410</td>\n",
       "      <td>3.7</td>\n",
       "      <td>4.792302</td>\n",
       "      <td>2.075552</td>\n",
       "    </tr>\n",
       "    <tr>\n",
       "      <th>2</th>\n",
       "      <td>-122.908500</td>\n",
       "      <td>38.122400</td>\n",
       "      <td>5.137130</td>\n",
       "      <td>4.2</td>\n",
       "      <td>NaN</td>\n",
       "      <td>3.891888</td>\n",
       "    </tr>\n",
       "    <tr>\n",
       "      <th>3</th>\n",
       "      <td>-122.804600</td>\n",
       "      <td>40.786400</td>\n",
       "      <td>2.069659</td>\n",
       "      <td>3.6</td>\n",
       "      <td>5.172780</td>\n",
       "      <td>2.075552</td>\n",
       "    </tr>\n",
       "    <tr>\n",
       "      <th>4</th>\n",
       "      <td>-122.633579</td>\n",
       "      <td>41.726892</td>\n",
       "      <td>4.501818</td>\n",
       "      <td>3.8</td>\n",
       "      <td>6.890557</td>\n",
       "      <td>1.612972</td>\n",
       "    </tr>\n",
       "  </tbody>\n",
       "</table>\n",
       "</div>"
      ],
      "text/plain": [
       "          lon        lat  pm25_obs  pred_AV   pred_GS   pred_GM\n",
       "0 -124.083900  41.560800  2.835678      3.0  5.364638  1.940895\n",
       "1 -122.922290  39.032700  3.075410      3.7  4.792302  2.075552\n",
       "2 -122.908500  38.122400  5.137130      4.2       NaN  3.891888\n",
       "3 -122.804600  40.786400  2.069659      3.6  5.172780  2.075552\n",
       "4 -122.633579  41.726892  4.501818      3.8  6.890557  1.612972"
      ]
     },
     "execution_count": 6,
     "metadata": {},
     "output_type": "execute_result"
    }
   ],
   "source": [
    "training_data.head()"
   ]
  },
  {
   "cell_type": "code",
   "execution_count": 7,
   "metadata": {},
   "outputs": [],
   "source": [
    "min_lon = -120.0\n",
    "max_lon = -117.0\n",
    "min_lat = 31.0\n",
    "max_lat = 35.0"
   ]
  },
  {
   "cell_type": "code",
   "execution_count": 8,
   "metadata": {},
   "outputs": [],
   "source": [
    "training_data = training_data.loc[(training_data.lon >= min_lon) & (training_data.lon <= max_lon) & (training_data.lat >= min_lat) & (training_data.lat <= max_lat)]"
   ]
  },
  {
   "cell_type": "code",
   "execution_count": 10,
   "metadata": {},
   "outputs": [],
   "source": [
    "av = av.loc[(av.lon >= min_lon) & (av.lon <= max_lon) & (av.lat >= min_lat) & (av.lat <= max_lat)]"
   ]
  },
  {
   "cell_type": "code",
   "execution_count": 11,
   "metadata": {},
   "outputs": [],
   "source": [
    "gm = gm.loc[(gm.lon >= min_lon) & (gm.lon <= max_lon) & (gm.lat >= min_lat) & (gm.lat <= max_lat)]"
   ]
  },
  {
   "cell_type": "code",
   "execution_count": 12,
   "metadata": {},
   "outputs": [],
   "source": [
    "gs = gs.loc[(gs.lon >= min_lon) & (gs.lon <= max_lon) & (gs.lat >= min_lat) & (gs.lat <= max_lat)]"
   ]
  },
  {
   "cell_type": "code",
   "execution_count": 13,
   "metadata": {},
   "outputs": [
    {
     "data": {
      "text/plain": [
       "((74100, 3), (74100, 3), (74100, 3))"
      ]
     },
     "execution_count": 13,
     "metadata": {},
     "output_type": "execute_result"
    }
   ],
   "source": [
    "av.shape, gm.shape, gs.shape"
   ]
  },
  {
   "cell_type": "code",
   "execution_count": 21,
   "metadata": {},
   "outputs": [
    {
     "data": {
      "text/plain": [
       "lat     0\n",
       "lon     0\n",
       "pm25    0\n",
       "dtype: int64"
      ]
     },
     "execution_count": 21,
     "metadata": {},
     "output_type": "execute_result"
    }
   ],
   "source": [
    "av.isna().sum()"
   ]
  },
  {
   "cell_type": "code",
   "execution_count": 15,
   "metadata": {},
   "outputs": [
    {
     "data": {
      "text/plain": [
       "lat     0\n",
       "lon     0\n",
       "pm25    0\n",
       "dtype: int64"
      ]
     },
     "execution_count": 15,
     "metadata": {},
     "output_type": "execute_result"
    }
   ],
   "source": [
    "gm.isna().sum()"
   ]
  },
  {
   "cell_type": "code",
   "execution_count": 20,
   "metadata": {},
   "outputs": [
    {
     "data": {
      "text/plain": [
       "lat     0\n",
       "lon     0\n",
       "pm25    0\n",
       "dtype: int64"
      ]
     },
     "execution_count": 20,
     "metadata": {},
     "output_type": "execute_result"
    }
   ],
   "source": [
    "gs.isna().sum()"
   ]
  },
  {
   "cell_type": "code",
   "execution_count": 19,
   "metadata": {},
   "outputs": [],
   "source": [
    "av = av.fillna(method='bfill')\n",
    "gs = gs.fillna(method='bfill')"
   ]
  },
  {
   "cell_type": "code",
   "execution_count": 22,
   "metadata": {},
   "outputs": [],
   "source": [
    "training_data.to_csv('./Cali_Example/example/data/training_data_2010.csv', index = False)\n",
    "av.to_csv('./Cali_Example/example/data/AV_2010_align.csv')\n",
    "gm.to_csv('./Cali_Example/example/data/GM_2010_align.csv')\n",
    "gs.to_csv('./Cali_Example/example/data/GS_2010_align.csv')"
   ]
  },
  {
   "cell_type": "markdown",
   "metadata": {},
   "source": [
    "## Create file to visualize BNE predictions"
   ]
  },
  {
   "cell_type": "code",
   "execution_count": 78,
   "metadata": {},
   "outputs": [],
   "source": [
    "num_coords = av.shape[0]\n",
    "num_mcmc = 5000"
   ]
  },
  {
   "cell_type": "code",
   "execution_count": 85,
   "metadata": {},
   "outputs": [],
   "source": [
    "_SAVE_ADDR_PREFIX = \"./Cali_Example/result_ca_2010_subsegments/calibre_2d_annual_pm25_example_ca_2010\"\n",
    "family_name = 'hmc'"
   ]
  },
  {
   "cell_type": "code",
   "execution_count": 41,
   "metadata": {},
   "outputs": [],
   "source": [
    "ensemble_lat_lon = []\n",
    "ensemble_mean_val = []\n",
    "ensemble_sample_val = []\n",
    "\n",
    "for i in range(5):\n",
    "\n",
    "    with open(os.path.join(_SAVE_ADDR_PREFIX,\n",
    "                           '{}/ensemble_posterior_pred_mean_sample_{}.pkl'.format(family_name, i)), 'rb') as file:\n",
    "        ensemble_mean_val.append(pk.load(file))\n",
    "\n",
    "    with open(os.path.join(_SAVE_ADDR_PREFIX,\n",
    "                           '{}/ensemble_posterior_pred_dist_sample_{}.pkl'.format(family_name, i)), 'rb') as file:\n",
    "        ensemble_sample_val.append(pk.load(file))\n",
    "        \n",
    "    with open(os.path.join(_SAVE_ADDR_PREFIX,\n",
    "                       '{}/ensemble_posterior_lat_lon_sample_{}.pkl'.format(family_name, i)), 'rb') as file:\n",
    "        ensemble_lat_lon.append(pk.load(file))"
   ]
  },
  {
   "cell_type": "code",
   "execution_count": 77,
   "metadata": {},
   "outputs": [
    {
     "data": {
      "text/plain": [
       "(14820, 5000)"
      ]
     },
     "execution_count": 77,
     "metadata": {},
     "output_type": "execute_result"
    }
   ],
   "source": [
    "ensemble_sample_val[0].shape"
   ]
  },
  {
   "cell_type": "code",
   "execution_count": 79,
   "metadata": {},
   "outputs": [],
   "source": [
    "lat_lon = np.stack(ensemble_lat_lon, axis = 0).reshape(num_coords, 2)\n",
    "sample_val = np.stack(ensemble_sample_val, axis = 0).reshape(num_coords, num_mcmc)\n",
    "mean_val = np.stack(ensemble_mean_val, axis = 0).reshape(num_coords, num_mcmc)"
   ]
  },
  {
   "cell_type": "code",
   "execution_count": 86,
   "metadata": {},
   "outputs": [],
   "source": [
    "with open(os.path.join(_SAVE_ADDR_PREFIX,\n",
    "                       '{}/ensemble_posterior_pred_dist_sample.pkl'.format(family_name)), 'wb') as file:\n",
    "    pk.dump(sample_val, file, protocol=pk.HIGHEST_PROTOCOL)\n",
    "with open(os.path.join(_SAVE_ADDR_PREFIX,\n",
    "                       '{}/ensemble_posterior_pred_mean_sample.pkl'.format(family_name)), 'wb') as file:\n",
    "    pk.dump(mean_val, file, protocol=pk.HIGHEST_PROTOCOL)"
   ]
  },
  {
   "cell_type": "code",
   "execution_count": 80,
   "metadata": {},
   "outputs": [
    {
     "data": {
      "text/plain": [
       "(74100, 5000)"
      ]
     },
     "execution_count": 80,
     "metadata": {},
     "output_type": "execute_result"
    }
   ],
   "source": [
    "sample_val.shape"
   ]
  },
  {
   "cell_type": "code",
   "execution_count": 82,
   "metadata": {},
   "outputs": [],
   "source": [
    "post_mean_dict = {\n",
    "    \"overall\": np.mean(sample_val, axis=1),\n",
    "    \"mean\": np.mean(mean_val, axis=1),\n",
    "    \"resid\": np.mean(sample_val - mean_val, axis=1)\n",
    "}"
   ]
  },
  {
   "cell_type": "code",
   "execution_count": 83,
   "metadata": {},
   "outputs": [
    {
     "data": {
      "text/plain": [
       "array([[-0.5       ,  0.49993333],\n",
       "       [-0.4966548 ,  0.49993333],\n",
       "       [-0.49330962,  0.49993333],\n",
       "       [-0.48996443,  0.49993333],\n",
       "       [-0.4866218 ,  0.49993333],\n",
       "       [-0.4832766 ,  0.49993333],\n",
       "       [-0.4799314 ,  0.49993333],\n",
       "       [-0.4765888 ,  0.49993333],\n",
       "       [-0.4732436 ,  0.49993333],\n",
       "       [-0.4698984 ,  0.49993333]], dtype=float32)"
      ]
     },
     "execution_count": 83,
     "metadata": {},
     "output_type": "execute_result"
    }
   ],
   "source": [
    "lat_lon[:10]"
   ]
  },
  {
   "cell_type": "code",
   "execution_count": null,
   "metadata": {},
   "outputs": [],
   "source": [
    "post_mean_dict['overall'].shape"
   ]
  },
  {
   "cell_type": "code",
   "execution_count": null,
   "metadata": {},
   "outputs": [],
   "source": [
    "locations = pd.read_csv('./Cali_Example/example/data/AV_2010_align.csv', usecols = [1,2,3])"
   ]
  },
  {
   "cell_type": "code",
   "execution_count": null,
   "metadata": {},
   "outputs": [],
   "source": [
    "locations.shape"
   ]
  },
  {
   "cell_type": "code",
   "execution_count": null,
   "metadata": {},
   "outputs": [],
   "source": [
    "locations['mean_overall'] = post_mean_dict['overall']\n",
    "locations['mean_mean'] = post_mean_dict['mean']"
   ]
  },
  {
   "cell_type": "code",
   "execution_count": null,
   "metadata": {},
   "outputs": [],
   "source": [
    "locations.to_csv('./Data/cali_example/model_predictions.csv', index = False)"
   ]
  }
 ],
 "metadata": {
  "kernelspec": {
   "display_name": "Python 3",
   "language": "python",
   "name": "python3"
  },
  "language_info": {
   "codemirror_mode": {
    "name": "ipython",
    "version": 3
   },
   "file_extension": ".py",
   "mimetype": "text/x-python",
   "name": "python",
   "nbconvert_exporter": "python",
   "pygments_lexer": "ipython3",
   "version": "3.6.8"
  }
 },
 "nbformat": 4,
 "nbformat_minor": 2
}
