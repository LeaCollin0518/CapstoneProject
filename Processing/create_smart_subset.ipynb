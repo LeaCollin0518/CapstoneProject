{
 "cells": [
  {
   "cell_type": "code",
   "execution_count": 1,
   "metadata": {},
   "outputs": [],
   "source": [
    "import pandas as pd\n",
    "import numpy as np"
   ]
  },
  {
   "cell_type": "code",
   "execution_count": 2,
   "metadata": {},
   "outputs": [],
   "source": [
    "data_dir = 'Data/cali_pred_data_2010_monthly/'"
   ]
  },
  {
   "cell_type": "code",
   "execution_count": 3,
   "metadata": {},
   "outputs": [],
   "source": [
    "models = ['AV', 'GS', 'GM']"
   ]
  },
  {
   "cell_type": "code",
   "execution_count": 4,
   "metadata": {},
   "outputs": [],
   "source": [
    "av_jan = pd.read_csv(data_dir + 'AV_clean_20101_align.csv')"
   ]
  },
  {
   "cell_type": "code",
   "execution_count": 60,
   "metadata": {},
   "outputs": [],
   "source": [
    "#this creates different sized splits\n",
    "\n",
    "num_lon_splits = 6\n",
    "total_coords = 0\n",
    "lon_splits = np.array_split(np.unique(np.sort(av_jan.lon.values)), num_lon_splits)\n",
    "num_subset = {'AV' : 1, 'GS' : 1, 'GM' : 1}\n",
    "\n",
    "for model in models:\n",
    "    model_df = pd.read_csv('{}{}_clean_20101_align.csv'.format(data_dir,model))\n",
    "    for i in range(num_lon_splits):\n",
    "        sub_lon = lon_splits[i]\n",
    "        df_sub = model_df.loc[model_df.lon.isin(sub_lon)]\n",
    "        num_lat_splits = 5\n",
    "        lat_splits = np.array_split(np.unique(np.sort(df_sub.lat.values)), num_lat_splits)\n",
    "        for j in range(num_lat_splits):\n",
    "            sub_lat = lat_splits[j]\n",
    "            df_sub_sub = df_sub.loc[df_sub.lat.isin(sub_lat)]\n",
    "            total_coords += df_sub_sub.shape[0]\n",
    "            new_file = '{}{}_clean_20101_align.{}.csv'.format(data_dir, model, num_subset[model])\n",
    "            print (new_file)\n",
    "            num_subset[model] += 1\n",
    "            df_sub_sub.to_csv(new_file, index = False)"
   ]
  },
  {
   "cell_type": "code",
   "execution_count": 83,
   "metadata": {},
   "outputs": [],
   "source": [
    "# using coordinates from R\n",
    "num_coords = 0\n",
    "num_r_subsegs = 36\n",
    "num_subsegs = {'AV' : 0, 'GS' : 0, 'GM' : 0}\n",
    "\n",
    "for model in models:\n",
    "    model_df = pd.read_csv('{}{}_clean_20101_align.csv'.format(data_dir,model))\n",
    "    for i in range(1, num_r_subsegs + 1):\n",
    "        file_name = '{}coordinates_{}.csv'.format(data_dir, i)\n",
    "        coordinates = pd.read_csv(file_name)\n",
    "        lon_list = list(np.around(np.array(np.unique(coordinates.x.values)),3))\n",
    "        lat_list = list(np.around(np.array(np.unique(coordinates.y.values)),3))\n",
    "        df_sub = model_df.loc[(model_df.lon.isin(lon_list)) & (model_df.lat.isin(lat_list))]\n",
    "        if (df_sub.shape[0] != 0):\n",
    "            df_sub = df_sub[['lon', 'lat', 'pm25']]\n",
    "            num_subsegs[model] += 1\n",
    "            new_file = '{}{}_clean_20101_align.{}.csv'.format(data_dir, model, num_subsegs[model])\n",
    "            df_sub.to_csv(new_file, index = False)"
   ]
  }
 ],
 "metadata": {
  "kernelspec": {
   "display_name": "Python 3",
   "language": "python",
   "name": "python3"
  },
  "language_info": {
   "codemirror_mode": {
    "name": "ipython",
    "version": 3
   },
   "file_extension": ".py",
   "mimetype": "text/x-python",
   "name": "python",
   "nbconvert_exporter": "python",
   "pygments_lexer": "ipython3",
   "version": "3.6.8"
  }
 },
 "nbformat": 4,
 "nbformat_minor": 2
}
