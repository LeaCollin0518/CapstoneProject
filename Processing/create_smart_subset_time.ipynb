{
 "cells": [
  {
   "cell_type": "code",
   "execution_count": 1,
   "metadata": {},
   "outputs": [],
   "source": [
    "import pandas as pd\n",
    "import numpy as np\n",
    "import math"
   ]
  },
  {
   "cell_type": "code",
   "execution_count": 6,
   "metadata": {},
   "outputs": [],
   "source": [
    "data_dir = '../Data/cali_example/'\n",
    "save_dir = '../Data/cali_example_overlap_subsets/'"
   ]
  },
  {
   "cell_type": "code",
   "execution_count": 7,
   "metadata": {},
   "outputs": [],
   "source": [
    "models = ['AV', 'GS', 'GM']"
   ]
  },
  {
   "cell_type": "code",
   "execution_count": 118,
   "metadata": {},
   "outputs": [],
   "source": [
    "av_2005 = pd.read_csv(data_dir + 'AV_2005_align.csv')\n",
    "av_2010 = pd.read_csv(data_dir + 'AV_2010_align.csv')\n",
    "av_2011 = pd.read_csv(data_dir + 'AV_2011_align.csv')\n",
    "gm = pd.read_csv(data_dir + 'gb_gm_ca_mapped_2010_2016/gb_gm_ca_mapped_2010_2016/GM_align_2010_2016.csv')\n",
    "gb = pd.read_csv(data_dir + 'gb_gm_ca_mapped_2010_2016/gb_gm_ca_mapped_2010_2016/GB_align_2010_2016.csv')"
   ]
  },
  {
   "cell_type": "code",
   "execution_count": 120,
   "metadata": {},
   "outputs": [],
   "source": [
    "av_2005.columns = ['lon', 'lat', 'pm25']\n",
    "av_2010.columns = ['lon', 'lat', 'pm25'] \n",
    "av_2011.columns = ['lon', 'lat', 'pm25']"
   ]
  },
  {
   "cell_type": "code",
   "execution_count": 122,
   "metadata": {},
   "outputs": [],
   "source": [
    "time_2005 = np.repeat(2005, av_2005.shape[0])\n",
    "time_2010 = np.repeat(2010, av_2010.shape[0])\n",
    "time_2011 = np.repeat(2011, av_2011.shape[0])"
   ]
  },
  {
   "cell_type": "code",
   "execution_count": 123,
   "metadata": {},
   "outputs": [],
   "source": [
    "av_2005['time'] = time_2005\n",
    "av_2010['time'] = time_2010\n",
    "av_2011['time'] = time_2011"
   ]
  },
  {
   "cell_type": "code",
   "execution_count": 126,
   "metadata": {},
   "outputs": [],
   "source": [
    "av_2005_2010 = av_2005.append(av_2010)\n",
    "av_2005_2011 = av_2005_2010.append(av_2011)"
   ]
  },
  {
   "cell_type": "code",
   "execution_count": 127,
   "metadata": {},
   "outputs": [],
   "source": [
    "gm_2005_2011 = gm.loc[gm.time.isin([2005, 2010, 2011])]\n",
    "gb_2005_2011 = gb.loc[gb.time.isin([2005, 2010, 2011])]\n",
    "# gm_2005 = gm.loc[gm.time.isin([2005])]\n",
    "# gb_2005 = gb.loc[gb.time.isin([2005])]"
   ]
  },
  {
   "cell_type": "code",
   "execution_count": 129,
   "metadata": {},
   "outputs": [],
   "source": [
    "intersecting_lat_lon = pd.merge(av_2005_2011, gm_2005_2011, how='inner', on=['lon', 'lat', 'time'])"
   ]
  },
  {
   "cell_type": "code",
   "execution_count": 232,
   "metadata": {},
   "outputs": [
    {
     "data": {
      "text/html": [
       "<div>\n",
       "<style scoped>\n",
       "    .dataframe tbody tr th:only-of-type {\n",
       "        vertical-align: middle;\n",
       "    }\n",
       "\n",
       "    .dataframe tbody tr th {\n",
       "        vertical-align: top;\n",
       "    }\n",
       "\n",
       "    .dataframe thead th {\n",
       "        text-align: right;\n",
       "    }\n",
       "</style>\n",
       "<table border=\"1\" class=\"dataframe\">\n",
       "  <thead>\n",
       "    <tr style=\"text-align: right;\">\n",
       "      <th></th>\n",
       "      <th>lon</th>\n",
       "      <th>lat</th>\n",
       "      <th>pm25_av</th>\n",
       "      <th>time</th>\n",
       "      <th>Unnamed: 0</th>\n",
       "      <th>pm25_gm</th>\n",
       "    </tr>\n",
       "  </thead>\n",
       "  <tbody>\n",
       "    <tr>\n",
       "      <th>0</th>\n",
       "      <td>-124.405</td>\n",
       "      <td>42.005</td>\n",
       "      <td>NaN</td>\n",
       "      <td>2005</td>\n",
       "      <td>983665</td>\n",
       "      <td>2.048217</td>\n",
       "    </tr>\n",
       "    <tr>\n",
       "      <th>1</th>\n",
       "      <td>-124.395</td>\n",
       "      <td>42.005</td>\n",
       "      <td>NaN</td>\n",
       "      <td>2005</td>\n",
       "      <td>983666</td>\n",
       "      <td>2.048217</td>\n",
       "    </tr>\n",
       "    <tr>\n",
       "      <th>2</th>\n",
       "      <td>-124.385</td>\n",
       "      <td>42.005</td>\n",
       "      <td>NaN</td>\n",
       "      <td>2005</td>\n",
       "      <td>983667</td>\n",
       "      <td>2.048217</td>\n",
       "    </tr>\n",
       "    <tr>\n",
       "      <th>3</th>\n",
       "      <td>-124.375</td>\n",
       "      <td>42.005</td>\n",
       "      <td>NaN</td>\n",
       "      <td>2005</td>\n",
       "      <td>983668</td>\n",
       "      <td>2.048217</td>\n",
       "    </tr>\n",
       "    <tr>\n",
       "      <th>4</th>\n",
       "      <td>-124.365</td>\n",
       "      <td>42.005</td>\n",
       "      <td>NaN</td>\n",
       "      <td>2005</td>\n",
       "      <td>983669</td>\n",
       "      <td>2.048217</td>\n",
       "    </tr>\n",
       "  </tbody>\n",
       "</table>\n",
       "</div>"
      ],
      "text/plain": [
       "       lon     lat  pm25_av  time  Unnamed: 0   pm25_gm\n",
       "0 -124.405  42.005      NaN  2005      983665  2.048217\n",
       "1 -124.395  42.005      NaN  2005      983666  2.048217\n",
       "2 -124.385  42.005      NaN  2005      983667  2.048217\n",
       "3 -124.375  42.005      NaN  2005      983668  2.048217\n",
       "4 -124.365  42.005      NaN  2005      983669  2.048217"
      ]
     },
     "execution_count": 232,
     "metadata": {},
     "output_type": "execute_result"
    }
   ],
   "source": [
    "intersecting_lat_lon.head()"
   ]
  },
  {
   "cell_type": "code",
   "execution_count": 233,
   "metadata": {},
   "outputs": [],
   "source": [
    "intersecting_lat_lon.columns = ['lon', 'lat', 'pm25_av', 'time', 'Unnamed: 0', 'pm25_gm']"
   ]
  },
  {
   "cell_type": "code",
   "execution_count": 234,
   "metadata": {},
   "outputs": [],
   "source": [
    "intersecting_lat_lon_all = pd.merge(gb_2005_2011, intersecting_lat_lon, how = 'inner', on=['lon', 'lat', 'time'])"
   ]
  },
  {
   "cell_type": "code",
   "execution_count": 235,
   "metadata": {},
   "outputs": [
    {
     "data": {
      "text/html": [
       "<div>\n",
       "<style scoped>\n",
       "    .dataframe tbody tr th:only-of-type {\n",
       "        vertical-align: middle;\n",
       "    }\n",
       "\n",
       "    .dataframe tbody tr th {\n",
       "        vertical-align: top;\n",
       "    }\n",
       "\n",
       "    .dataframe thead th {\n",
       "        text-align: right;\n",
       "    }\n",
       "</style>\n",
       "<table border=\"1\" class=\"dataframe\">\n",
       "  <thead>\n",
       "    <tr style=\"text-align: right;\">\n",
       "      <th></th>\n",
       "      <th>lon</th>\n",
       "      <th>lat</th>\n",
       "      <th>pm25</th>\n",
       "      <th>time</th>\n",
       "      <th>pm25_av</th>\n",
       "      <th>Unnamed: 0</th>\n",
       "      <th>pm25_gm</th>\n",
       "    </tr>\n",
       "  </thead>\n",
       "  <tbody>\n",
       "    <tr>\n",
       "      <th>0</th>\n",
       "      <td>-114.195</td>\n",
       "      <td>32.595</td>\n",
       "      <td>8.119813</td>\n",
       "      <td>2005</td>\n",
       "      <td>7.1</td>\n",
       "      <td>13209162</td>\n",
       "      <td>3.295776</td>\n",
       "    </tr>\n",
       "    <tr>\n",
       "      <th>1</th>\n",
       "      <td>-114.185</td>\n",
       "      <td>32.595</td>\n",
       "      <td>8.119813</td>\n",
       "      <td>2005</td>\n",
       "      <td>7.0</td>\n",
       "      <td>13209163</td>\n",
       "      <td>3.295776</td>\n",
       "    </tr>\n",
       "    <tr>\n",
       "      <th>2</th>\n",
       "      <td>-114.175</td>\n",
       "      <td>32.595</td>\n",
       "      <td>8.119813</td>\n",
       "      <td>2005</td>\n",
       "      <td>7.1</td>\n",
       "      <td>13209164</td>\n",
       "      <td>3.295776</td>\n",
       "    </tr>\n",
       "    <tr>\n",
       "      <th>3</th>\n",
       "      <td>-114.165</td>\n",
       "      <td>32.595</td>\n",
       "      <td>8.119813</td>\n",
       "      <td>2005</td>\n",
       "      <td>7.1</td>\n",
       "      <td>13209165</td>\n",
       "      <td>3.295776</td>\n",
       "    </tr>\n",
       "    <tr>\n",
       "      <th>4</th>\n",
       "      <td>-114.155</td>\n",
       "      <td>32.595</td>\n",
       "      <td>8.119813</td>\n",
       "      <td>2005</td>\n",
       "      <td>7.1</td>\n",
       "      <td>13209166</td>\n",
       "      <td>3.295776</td>\n",
       "    </tr>\n",
       "  </tbody>\n",
       "</table>\n",
       "</div>"
      ],
      "text/plain": [
       "       lon     lat      pm25  time  pm25_av  Unnamed: 0   pm25_gm\n",
       "0 -114.195  32.595  8.119813  2005      7.1    13209162  3.295776\n",
       "1 -114.185  32.595  8.119813  2005      7.0    13209163  3.295776\n",
       "2 -114.175  32.595  8.119813  2005      7.1    13209164  3.295776\n",
       "3 -114.165  32.595  8.119813  2005      7.1    13209165  3.295776\n",
       "4 -114.155  32.595  8.119813  2005      7.1    13209166  3.295776"
      ]
     },
     "execution_count": 235,
     "metadata": {},
     "output_type": "execute_result"
    }
   ],
   "source": [
    "intersecting_lat_lon_all.head()"
   ]
  },
  {
   "cell_type": "code",
   "execution_count": 236,
   "metadata": {},
   "outputs": [],
   "source": [
    "intersecting_lat_lon_all.columns = ['Unnamed: 0_x', 'time', 'y', 'x', 'pred_gb', 'pred_av', 'Unnamed: 0_y',\n",
    "       'pred_gm']"
   ]
  },
  {
   "cell_type": "code",
   "execution_count": 237,
   "metadata": {},
   "outputs": [],
   "source": [
    "intersecting_lat_lon_all = intersecting_lat_lon_all[['time','x', 'y' 'pred_gb', 'pred_av', 'pred_gm']]"
   ]
  },
  {
   "cell_type": "code",
   "execution_count": 224,
   "metadata": {},
   "outputs": [],
   "source": [
    "all_preds_file = save_dir + 'predictions_2005_2011.csv'"
   ]
  },
  {
   "cell_type": "code",
   "execution_count": 227,
   "metadata": {},
   "outputs": [],
   "source": [
    "intersecting_lat_lon_all.to_csv(all_preds_file, index = False)"
   ]
  },
  {
   "cell_type": "code",
   "execution_count": 142,
   "metadata": {},
   "outputs": [],
   "source": [
    "intersecting_lat_lon_all = intersecting_lat_lon_all[~intersecting_lat_lon_all['pm25_av'].isnull()]"
   ]
  },
  {
   "cell_type": "code",
   "execution_count": 144,
   "metadata": {},
   "outputs": [
    {
     "data": {
      "text/html": [
       "<div>\n",
       "<style scoped>\n",
       "    .dataframe tbody tr th:only-of-type {\n",
       "        vertical-align: middle;\n",
       "    }\n",
       "\n",
       "    .dataframe tbody tr th {\n",
       "        vertical-align: top;\n",
       "    }\n",
       "\n",
       "    .dataframe thead th {\n",
       "        text-align: right;\n",
       "    }\n",
       "</style>\n",
       "<table border=\"1\" class=\"dataframe\">\n",
       "  <thead>\n",
       "    <tr style=\"text-align: right;\">\n",
       "      <th></th>\n",
       "      <th>Unnamed: 0_x</th>\n",
       "      <th>time</th>\n",
       "      <th>lat</th>\n",
       "      <th>lon</th>\n",
       "      <th>pm25</th>\n",
       "      <th>pm25_av</th>\n",
       "      <th>Unnamed: 0_y</th>\n",
       "      <th>pm25_gm</th>\n",
       "    </tr>\n",
       "  </thead>\n",
       "  <tbody>\n",
       "    <tr>\n",
       "      <th>0</th>\n",
       "      <td>246</td>\n",
       "      <td>2005</td>\n",
       "      <td>32.595</td>\n",
       "      <td>-114.195</td>\n",
       "      <td>8.119813</td>\n",
       "      <td>7.1</td>\n",
       "      <td>13209162</td>\n",
       "      <td>3.295776</td>\n",
       "    </tr>\n",
       "    <tr>\n",
       "      <th>1</th>\n",
       "      <td>247</td>\n",
       "      <td>2005</td>\n",
       "      <td>32.595</td>\n",
       "      <td>-114.185</td>\n",
       "      <td>8.119813</td>\n",
       "      <td>7.0</td>\n",
       "      <td>13209163</td>\n",
       "      <td>3.295776</td>\n",
       "    </tr>\n",
       "    <tr>\n",
       "      <th>2</th>\n",
       "      <td>248</td>\n",
       "      <td>2005</td>\n",
       "      <td>32.595</td>\n",
       "      <td>-114.175</td>\n",
       "      <td>8.119813</td>\n",
       "      <td>7.1</td>\n",
       "      <td>13209164</td>\n",
       "      <td>3.295776</td>\n",
       "    </tr>\n",
       "    <tr>\n",
       "      <th>3</th>\n",
       "      <td>249</td>\n",
       "      <td>2005</td>\n",
       "      <td>32.595</td>\n",
       "      <td>-114.165</td>\n",
       "      <td>8.119813</td>\n",
       "      <td>7.1</td>\n",
       "      <td>13209165</td>\n",
       "      <td>3.295776</td>\n",
       "    </tr>\n",
       "    <tr>\n",
       "      <th>4</th>\n",
       "      <td>250</td>\n",
       "      <td>2005</td>\n",
       "      <td>32.595</td>\n",
       "      <td>-114.155</td>\n",
       "      <td>8.119813</td>\n",
       "      <td>7.1</td>\n",
       "      <td>13209166</td>\n",
       "      <td>3.295776</td>\n",
       "    </tr>\n",
       "  </tbody>\n",
       "</table>\n",
       "</div>"
      ],
      "text/plain": [
       "   Unnamed: 0_x  time     lat      lon      pm25  pm25_av  Unnamed: 0_y  \\\n",
       "0           246  2005  32.595 -114.195  8.119813      7.1      13209162   \n",
       "1           247  2005  32.595 -114.185  8.119813      7.0      13209163   \n",
       "2           248  2005  32.595 -114.175  8.119813      7.1      13209164   \n",
       "3           249  2005  32.595 -114.165  8.119813      7.1      13209165   \n",
       "4           250  2005  32.595 -114.155  8.119813      7.1      13209166   \n",
       "\n",
       "    pm25_gm  \n",
       "0  3.295776  \n",
       "1  3.295776  \n",
       "2  3.295776  \n",
       "3  3.295776  \n",
       "4  3.295776  "
      ]
     },
     "execution_count": 144,
     "metadata": {},
     "output_type": "execute_result"
    }
   ],
   "source": [
    "intersecting_lat_lon_all.head()"
   ]
  },
  {
   "cell_type": "code",
   "execution_count": 163,
   "metadata": {},
   "outputs": [],
   "source": [
    "av_2005_2011 = intersecting_lat_lon_all[['lon', 'lat', 'pm25_av', 'time']]\n",
    "gm_2005_2011 = intersecting_lat_lon_all[['lon', 'lat', 'pm25_gm', 'time']]\n",
    "gb_2005_2011 = intersecting_lat_lon_all[['lon', 'lat', 'pm25', 'time']]"
   ]
  },
  {
   "cell_type": "code",
   "execution_count": 210,
   "metadata": {},
   "outputs": [],
   "source": [
    "av_2005_2011_file = data_dir + 'AV_2005_2011_align.csv'\n",
    "gm_2005_2011_file = data_dir + 'GM_2005_2011_align.csv'\n",
    "gb_2005_2011_file = data_dir + 'GB_2005_2011_align.csv'\n",
    "av_2005_2011.to_csv(av_2005_2011_file, index = False)\n",
    "gm_2005_2011.to_csv(gm_2005_2011_file, index = False)\n",
    "gb_2005_2011.to_csv(gb_2005_2011_file, index = False)"
   ]
  },
  {
   "cell_type": "code",
   "execution_count": 165,
   "metadata": {},
   "outputs": [
    {
     "data": {
      "text/html": [
       "<div>\n",
       "<style scoped>\n",
       "    .dataframe tbody tr th:only-of-type {\n",
       "        vertical-align: middle;\n",
       "    }\n",
       "\n",
       "    .dataframe tbody tr th {\n",
       "        vertical-align: top;\n",
       "    }\n",
       "\n",
       "    .dataframe thead th {\n",
       "        text-align: right;\n",
       "    }\n",
       "</style>\n",
       "<table border=\"1\" class=\"dataframe\">\n",
       "  <thead>\n",
       "    <tr style=\"text-align: right;\">\n",
       "      <th></th>\n",
       "      <th>lon</th>\n",
       "      <th>lat</th>\n",
       "      <th>pm25_av</th>\n",
       "      <th>time</th>\n",
       "    </tr>\n",
       "  </thead>\n",
       "  <tbody>\n",
       "    <tr>\n",
       "      <th>0</th>\n",
       "      <td>-114.195</td>\n",
       "      <td>32.595</td>\n",
       "      <td>7.1</td>\n",
       "      <td>2005</td>\n",
       "    </tr>\n",
       "    <tr>\n",
       "      <th>1</th>\n",
       "      <td>-114.185</td>\n",
       "      <td>32.595</td>\n",
       "      <td>7.0</td>\n",
       "      <td>2005</td>\n",
       "    </tr>\n",
       "    <tr>\n",
       "      <th>2</th>\n",
       "      <td>-114.175</td>\n",
       "      <td>32.595</td>\n",
       "      <td>7.1</td>\n",
       "      <td>2005</td>\n",
       "    </tr>\n",
       "    <tr>\n",
       "      <th>3</th>\n",
       "      <td>-114.165</td>\n",
       "      <td>32.595</td>\n",
       "      <td>7.1</td>\n",
       "      <td>2005</td>\n",
       "    </tr>\n",
       "    <tr>\n",
       "      <th>4</th>\n",
       "      <td>-114.155</td>\n",
       "      <td>32.595</td>\n",
       "      <td>7.1</td>\n",
       "      <td>2005</td>\n",
       "    </tr>\n",
       "  </tbody>\n",
       "</table>\n",
       "</div>"
      ],
      "text/plain": [
       "       lon     lat  pm25_av  time\n",
       "0 -114.195  32.595      7.1  2005\n",
       "1 -114.185  32.595      7.0  2005\n",
       "2 -114.175  32.595      7.1  2005\n",
       "3 -114.165  32.595      7.1  2005\n",
       "4 -114.155  32.595      7.1  2005"
      ]
     },
     "execution_count": 165,
     "metadata": {},
     "output_type": "execute_result"
    }
   ],
   "source": [
    "av_2005_2011.head()"
   ]
  },
  {
   "cell_type": "code",
   "execution_count": 166,
   "metadata": {},
   "outputs": [],
   "source": [
    "av_2005_2011.columns = ['lon', 'lat', 'pm25', 'time']\n",
    "gm_2005_2011.columns = ['lon', 'lat', 'pm25', 'time']"
   ]
  },
  {
   "cell_type": "code",
   "execution_count": 149,
   "metadata": {},
   "outputs": [],
   "source": [
    "min_lon = min(av_2005_2011.lon)\n",
    "max_lon = max(av_2005_2011.lon)\n",
    "min_lat = min(av_2005_2011.lat)\n",
    "max_lat = max(av_2005_2011.lat)\n",
    "\n",
    "upper_left = (max_lat, min_lon)\n",
    "upper_right = (max_lat, max_lon)\n",
    "lower_left = (min_lat, min_lon)\n",
    "lower_right = (min_lat, max_lon)"
   ]
  },
  {
   "cell_type": "code",
   "execution_count": 104,
   "metadata": {},
   "outputs": [
    {
     "name": "stdout",
     "output_type": "stream",
     "text": [
      "(42.005, -124.395) (42.005, -114.135) (32.535, -124.395) (32.535, -114.135)\n"
     ]
    }
   ],
   "source": [
    "print (upper_left, upper_right, lower_left, lower_right)"
   ]
  },
  {
   "cell_type": "code",
   "execution_count": 105,
   "metadata": {},
   "outputs": [
    {
     "data": {
      "text/plain": [
       "(723716, 3)"
      ]
     },
     "execution_count": 105,
     "metadata": {},
     "output_type": "execute_result"
    }
   ],
   "source": [
    "test = av_2005.loc[(av_2005.lon >= min_lon) & (av_2005.lon <= max_lon) & (av_2005.lat >= min_lat) & (av_2005.lat <= max_lat)]\n",
    "test.shape"
   ]
  },
  {
   "cell_type": "code",
   "execution_count": 151,
   "metadata": {},
   "outputs": [],
   "source": [
    "X_valid = np.asarray(av_2005_2011[[\"lon\", \"lat\"]].values.tolist()).astype(np.float32)"
   ]
  },
  {
   "cell_type": "code",
   "execution_count": 152,
   "metadata": {},
   "outputs": [],
   "source": [
    "X_scale = np.max(X_valid, axis=0) - np.min(X_valid, axis=0)"
   ]
  },
  {
   "cell_type": "code",
   "execution_count": 153,
   "metadata": {},
   "outputs": [
    {
     "data": {
      "text/plain": [
       "array([10.2599945,  9.470001 ], dtype=float32)"
      ]
     },
     "execution_count": 153,
     "metadata": {},
     "output_type": "execute_result"
    }
   ],
   "source": [
    "X_scale"
   ]
  },
  {
   "cell_type": "code",
   "execution_count": 154,
   "metadata": {},
   "outputs": [
    {
     "data": {
      "text/plain": [
       "array([[-114.195,   32.595],\n",
       "       [-114.185,   32.595],\n",
       "       [-114.175,   32.595],\n",
       "       [-114.165,   32.595],\n",
       "       [-114.155,   32.595]], dtype=float32)"
      ]
     },
     "execution_count": 154,
     "metadata": {},
     "output_type": "execute_result"
    }
   ],
   "source": [
    "X_valid[:5]"
   ]
  },
  {
   "cell_type": "code",
   "execution_count": 155,
   "metadata": {},
   "outputs": [],
   "source": [
    "def round_nearest(x, a):\n",
    "    return round(round(x / a) * a, -int(math.floor(math.log10(a))))"
   ]
  },
  {
   "cell_type": "code",
   "execution_count": 156,
   "metadata": {},
   "outputs": [
    {
     "name": "stdout",
     "output_type": "stream",
     "text": [
      "1.71 1.5783\n"
     ]
    }
   ],
   "source": [
    "split_range = [X_scale[0]/6, X_scale[1]/6]\n",
    "split_range = [ round(elem, 4) for elem in split_range ]\n",
    "split_lon_range = split_range[0]\n",
    "split_lat_range = split_range[1]\n",
    "print (split_lon_range, split_lat_range)"
   ]
  },
  {
   "cell_type": "code",
   "execution_count": 188,
   "metadata": {},
   "outputs": [],
   "source": [
    "start_split_lon = []\n",
    "for i in range(10):\n",
    "    start_split_lon.append(min_lon + i*split_lon_range)\n",
    "    \n",
    "start_split_lat = []\n",
    "for i in range(10):\n",
    "    start_split_lat.append(min_lat + i*split_lat_range)"
   ]
  },
  {
   "cell_type": "code",
   "execution_count": 189,
   "metadata": {},
   "outputs": [],
   "source": [
    "a = [round_nearest(x, 0.005) for x in start_split_lat]\n",
    "b = [x + 0.005 if (str(x)[-1] != '5' or len(str(x).split('.')[1]) !=  3) else x for x in a]\n",
    "start_split_lat = [round(x, -int(math.floor(math.log10(0.005)))) for x in b]"
   ]
  },
  {
   "cell_type": "code",
   "execution_count": 190,
   "metadata": {},
   "outputs": [
    {
     "data": {
      "text/plain": [
       "([32.535,\n",
       "  34.115,\n",
       "  35.695,\n",
       "  37.275,\n",
       "  38.855,\n",
       "  40.425,\n",
       "  42.005,\n",
       "  43.585,\n",
       "  45.165,\n",
       "  46.745],\n",
       " [-124.395,\n",
       "  -122.685,\n",
       "  -120.975,\n",
       "  -119.265,\n",
       "  -117.55499999999999,\n",
       "  -115.845,\n",
       "  -114.13499999999999,\n",
       "  -112.425,\n",
       "  -110.715,\n",
       "  -109.005])"
      ]
     },
     "execution_count": 190,
     "metadata": {},
     "output_type": "execute_result"
    }
   ],
   "source": [
    "start_split_lat, start_split_lon"
   ]
  },
  {
   "cell_type": "code",
   "execution_count": 191,
   "metadata": {},
   "outputs": [
    {
     "name": "stdout",
     "output_type": "stream",
     "text": [
      "[-124.395, -123.185, -121.475, -119.765, -118.055, -116.345, -114.635, -112.925, -111.215, -109.505]\n",
      "[-122.685, -120.975, -119.265, -117.555, -115.845, -114.135, -112.425, -110.715, -109.005, -114.135]\n"
     ]
    }
   ],
   "source": [
    "start_split_lon = [round(x, 3) for x in start_split_lon]\n",
    "end_split_lon = start_split_lon[1:]\n",
    "end_split_lon.append(max_lon)\n",
    "start_split_lon = [x - 0.5 for x in start_split_lon[1:]]\n",
    "start_split_lon.insert(0, min_lon)\n",
    "print (start_split_lon)\n",
    "print (end_split_lon)\n",
    "\n",
    "end_split_lat = start_split_lat[1:]\n",
    "end_split_lat.append(max_lat)\n",
    "start_split_lat = [x - 0.5 for x in start_split_lat[1:]]\n",
    "start_split_lat.insert(0, min_lat)\n",
    "\n",
    "lon_range = list(zip(start_split_lon, end_split_lon))\n",
    "lat_range = list(zip(start_split_lat, end_split_lat))"
   ]
  },
  {
   "cell_type": "code",
   "execution_count": 192,
   "metadata": {},
   "outputs": [
    {
     "data": {
      "text/plain": [
       "[(32.535, 34.115),\n",
       " (33.615, 35.695),\n",
       " (35.195, 37.275),\n",
       " (36.775, 38.855),\n",
       " (38.355, 40.425),\n",
       " (39.925, 42.005),\n",
       " (41.505, 43.585),\n",
       " (43.085, 45.165),\n",
       " (44.665, 46.745),\n",
       " (46.245, 42.005)]"
      ]
     },
     "execution_count": 192,
     "metadata": {},
     "output_type": "execute_result"
    }
   ],
   "source": [
    "lat_range"
   ]
  },
  {
   "cell_type": "code",
   "execution_count": 193,
   "metadata": {},
   "outputs": [
    {
     "data": {
      "text/plain": [
       "[(-124.395, -122.685),\n",
       " (-123.185, -120.975),\n",
       " (-121.475, -119.265),\n",
       " (-119.765, -117.555),\n",
       " (-118.055, -115.845),\n",
       " (-116.345, -114.135),\n",
       " (-114.635, -112.425),\n",
       " (-112.925, -110.715),\n",
       " (-111.215, -109.005),\n",
       " (-109.505, -114.135)]"
      ]
     },
     "execution_count": 193,
     "metadata": {},
     "output_type": "execute_result"
    }
   ],
   "source": [
    "lon_range"
   ]
  },
  {
   "cell_type": "code",
   "execution_count": 204,
   "metadata": {},
   "outputs": [
    {
     "name": "stdout",
     "output_type": "stream",
     "text": [
      "../Data/cali_example_overlap_subsets/GB_2005_2011_align.1.csv\n",
      "../Data/cali_example_overlap_subsets/GB_2005_2011_align.2.csv\n",
      "../Data/cali_example_overlap_subsets/GB_2005_2011_align.3.csv\n",
      "../Data/cali_example_overlap_subsets/GB_2005_2011_align.4.csv\n",
      "../Data/cali_example_overlap_subsets/GB_2005_2011_align.5.csv\n",
      "../Data/cali_example_overlap_subsets/GB_2005_2011_align.6.csv\n",
      "../Data/cali_example_overlap_subsets/GB_2005_2011_align.7.csv\n",
      "../Data/cali_example_overlap_subsets/GB_2005_2011_align.8.csv\n",
      "../Data/cali_example_overlap_subsets/GB_2005_2011_align.9.csv\n",
      "../Data/cali_example_overlap_subsets/GB_2005_2011_align.10.csv\n",
      "../Data/cali_example_overlap_subsets/GB_2005_2011_align.11.csv\n",
      "../Data/cali_example_overlap_subsets/GB_2005_2011_align.12.csv\n",
      "../Data/cali_example_overlap_subsets/GB_2005_2011_align.13.csv\n",
      "../Data/cali_example_overlap_subsets/GB_2005_2011_align.14.csv\n",
      "../Data/cali_example_overlap_subsets/GB_2005_2011_align.15.csv\n",
      "../Data/cali_example_overlap_subsets/GB_2005_2011_align.16.csv\n",
      "../Data/cali_example_overlap_subsets/GB_2005_2011_align.17.csv\n",
      "../Data/cali_example_overlap_subsets/GB_2005_2011_align.18.csv\n",
      "../Data/cali_example_overlap_subsets/GB_2005_2011_align.19.csv\n",
      "../Data/cali_example_overlap_subsets/GB_2005_2011_align.20.csv\n",
      "../Data/cali_example_overlap_subsets/GB_2005_2011_align.21.csv\n",
      "../Data/cali_example_overlap_subsets/GB_2005_2011_align.22.csv\n",
      "../Data/cali_example_overlap_subsets/GB_2005_2011_align.23.csv\n",
      "../Data/cali_example_overlap_subsets/GB_2005_2011_align.24.csv\n",
      "../Data/cali_example_overlap_subsets/GB_2005_2011_align.25.csv\n",
      "../Data/cali_example_overlap_subsets/GB_2005_2011_align.26.csv\n",
      "../Data/cali_example_overlap_subsets/GB_2005_2011_align.27.csv\n",
      "../Data/cali_example_overlap_subsets/GB_2005_2011_align.28.csv\n",
      "../Data/cali_example_overlap_subsets/GB_2005_2011_align.29.csv\n",
      "../Data/cali_example_overlap_subsets/GB_2005_2011_align.30.csv\n",
      "../Data/cali_example_overlap_subsets/GB_2005_2011_align.31.csv\n",
      "../Data/cali_example_overlap_subsets/GB_2005_2011_align.32.csv\n",
      "../Data/cali_example_overlap_subsets/GB_2005_2011_align.33.csv\n",
      "../Data/cali_example_overlap_subsets/GB_2005_2011_align.34.csv\n",
      "../Data/cali_example_overlap_subsets/GB_2005_2011_align.35.csv\n",
      "../Data/cali_example_overlap_subsets/GB_2005_2011_align.36.csv\n",
      "../Data/cali_example_overlap_subsets/GB_2005_2011_align.37.csv\n",
      "../Data/cali_example_overlap_subsets/GB_2005_2011_align.38.csv\n",
      "../Data/cali_example_overlap_subsets/GB_2005_2011_align.39.csv\n",
      "../Data/cali_example_overlap_subsets/GB_2005_2011_align.40.csv\n",
      "../Data/cali_example_overlap_subsets/GB_2005_2011_align.41.csv\n",
      "../Data/cali_example_overlap_subsets/GB_2005_2011_align.42.csv\n",
      "../Data/cali_example_overlap_subsets/GB_2005_2011_align.43.csv\n",
      "../Data/cali_example_overlap_subsets/GB_2005_2011_align.44.csv\n",
      "../Data/cali_example_overlap_subsets/GB_2005_2011_align.45.csv\n"
     ]
    }
   ],
   "source": [
    "monthly_pred = pd.DataFrame(columns=['lon', 'lat', 'pm25', 'time'])\n",
    "subset_num = 1\n",
    "num_subset = {'AV' : 1, 'GB' : 1, 'GM' : 1}\n",
    "num_coords = 0\n",
    "models = [av_2005_2011, gm_2005_2011, gb_2005_2011]\n",
    "model_list = ['AV', 'GM', 'GB']\n",
    "\n",
    "for m, model in enumerate(models):\n",
    "    for i in range(len(lat_range)):\n",
    "        for j in range(len(lon_range)):\n",
    "            df_subset = model.loc[(model.lon >= lon_range[j][0]) & (model.lon <= lon_range[j][1]) & (model.lat >= lat_range[i][0]) & (model.lat <= lat_range[i][1])]\n",
    "            df_subset = df_subset[['lon', 'lat', 'pm25', 'time']]\n",
    "            monthly_pred = monthly_pred.append(df_subset)\n",
    "            if (df_subset.shape[0] != 0):\n",
    "                new_file = '{}{}_2005_2011_align.{}.csv'.format(save_dir, model_list[m], num_subset[model_list[m]])\n",
    "#                 print (new_file)\n",
    "                num_subset[model_list[m]] += 1\n",
    "#                 df_subset.to_csv(new_file, index = False)"
   ]
  },
  {
   "cell_type": "code",
   "execution_count": 205,
   "metadata": {},
   "outputs": [
    {
     "name": "stdout",
     "output_type": "stream",
     "text": [
      "0.0\n"
     ]
    }
   ],
   "source": [
    "print (num_coords/3)"
   ]
  },
  {
   "cell_type": "code",
   "execution_count": 206,
   "metadata": {},
   "outputs": [],
   "source": [
    "monthly_pred.drop_duplicates(inplace = True)"
   ]
  },
  {
   "cell_type": "code",
   "execution_count": 157,
   "metadata": {},
   "outputs": [
    {
     "data": {
      "text/plain": [
       "(723716, 5)"
      ]
     },
     "execution_count": 157,
     "metadata": {},
     "output_type": "execute_result"
    }
   ],
   "source": [
    "av_jan.shape"
   ]
  },
  {
   "cell_type": "code",
   "execution_count": 24,
   "metadata": {},
   "outputs": [
    {
     "data": {
      "text/plain": [
       "[1.71, 1.578]"
      ]
     },
     "execution_count": 24,
     "metadata": {},
     "output_type": "execute_result"
    }
   ],
   "source": [
    "split_range"
   ]
  },
  {
   "cell_type": "code",
   "execution_count": null,
   "metadata": {},
   "outputs": [],
   "source": [
    "split_poitns = []"
   ]
  },
  {
   "cell_type": "code",
   "execution_count": 9,
   "metadata": {},
   "outputs": [
    {
     "name": "stdout",
     "output_type": "stream",
     "text": [
      "../Data/cali_pred_data_2010_monthly/AV_clean_20101_align.1.csv\n",
      "(2879, 5)\n",
      "../Data/cali_pred_data_2010_monthly/AV_clean_20101_align.2.csv\n",
      "(8324, 5)\n",
      "../Data/cali_pred_data_2010_monthly/AV_clean_20101_align.3.csv\n",
      "(10757, 5)\n",
      "../Data/cali_pred_data_2010_monthly/AV_clean_20101_align.4.csv\n",
      "(12501, 5)\n",
      "../Data/cali_pred_data_2010_monthly/AV_clean_20101_align.5.csv\n",
      "(11819, 5)\n",
      "../Data/cali_pred_data_2010_monthly/AV_clean_20101_align.6.csv\n",
      "(8040, 5)\n",
      "../Data/cali_pred_data_2010_monthly/AV_clean_20101_align.7.csv\n",
      "(16928, 5)\n",
      "../Data/cali_pred_data_2010_monthly/AV_clean_20101_align.8.csv\n",
      "(22216, 5)\n",
      "../Data/cali_pred_data_2010_monthly/AV_clean_20101_align.9.csv\n",
      "(22230, 5)\n",
      "../Data/cali_pred_data_2010_monthly/AV_clean_20101_align.10.csv\n",
      "(22230, 5)\n",
      "../Data/cali_pred_data_2010_monthly/AV_clean_20101_align.11.csv\n",
      "(16685, 5)\n",
      "../Data/cali_pred_data_2010_monthly/AV_clean_20101_align.12.csv\n",
      "(27531, 5)\n",
      "../Data/cali_pred_data_2010_monthly/AV_clean_20101_align.13.csv\n",
      "(27531, 5)\n",
      "../Data/cali_pred_data_2010_monthly/AV_clean_20101_align.14.csv\n",
      "(27515, 5)\n",
      "../Data/cali_pred_data_2010_monthly/AV_clean_20101_align.15.csv\n",
      "(27360, 5)\n",
      "../Data/cali_pred_data_2010_monthly/AV_clean_20101_align.16.csv\n",
      "(19324, 5)\n",
      "../Data/cali_pred_data_2010_monthly/AV_clean_20101_align.17.csv\n",
      "(30096, 5)\n",
      "../Data/cali_pred_data_2010_monthly/AV_clean_20101_align.18.csv\n",
      "(30096, 5)\n",
      "../Data/cali_pred_data_2010_monthly/AV_clean_20101_align.19.csv\n",
      "(30096, 5)\n",
      "../Data/cali_pred_data_2010_monthly/AV_clean_20101_align.20.csv\n",
      "(30096, 5)\n",
      "../Data/cali_pred_data_2010_monthly/AV_clean_20101_align.21.csv\n",
      "(29406, 5)\n",
      "../Data/cali_pred_data_2010_monthly/AV_clean_20101_align.22.csv\n",
      "(32490, 5)\n",
      "../Data/cali_pred_data_2010_monthly/AV_clean_20101_align.23.csv\n",
      "(32490, 5)\n",
      "../Data/cali_pred_data_2010_monthly/AV_clean_20101_align.24.csv\n",
      "(32319, 5)\n",
      "../Data/cali_pred_data_2010_monthly/AV_clean_20101_align.25.csv\n",
      "(32319, 5)\n",
      "../Data/cali_pred_data_2010_monthly/AV_clean_20101_align.26.csv\n",
      "(30820, 5)\n",
      "../Data/cali_pred_data_2010_monthly/AV_clean_20101_align.27.csv\n",
      "(32490, 5)\n",
      "../Data/cali_pred_data_2010_monthly/AV_clean_20101_align.28.csv\n",
      "(32490, 5)\n",
      "../Data/cali_pred_data_2010_monthly/AV_clean_20101_align.29.csv\n",
      "(32319, 5)\n",
      "../Data/cali_pred_data_2010_monthly/AV_clean_20101_align.30.csv\n",
      "(32319, 5)\n",
      "../Data/cali_pred_data_2010_monthly/GS_clean_20101_align.1.csv\n",
      "(2879, 6)\n",
      "../Data/cali_pred_data_2010_monthly/GS_clean_20101_align.2.csv\n",
      "(8324, 6)\n",
      "../Data/cali_pred_data_2010_monthly/GS_clean_20101_align.3.csv\n",
      "(10757, 6)\n",
      "../Data/cali_pred_data_2010_monthly/GS_clean_20101_align.4.csv\n",
      "(12501, 6)\n",
      "../Data/cali_pred_data_2010_monthly/GS_clean_20101_align.5.csv\n",
      "(11819, 6)\n",
      "../Data/cali_pred_data_2010_monthly/GS_clean_20101_align.6.csv\n",
      "(8040, 6)\n",
      "../Data/cali_pred_data_2010_monthly/GS_clean_20101_align.7.csv\n",
      "(16928, 6)\n",
      "../Data/cali_pred_data_2010_monthly/GS_clean_20101_align.8.csv\n",
      "(22216, 6)\n",
      "../Data/cali_pred_data_2010_monthly/GS_clean_20101_align.9.csv\n",
      "(22230, 6)\n",
      "../Data/cali_pred_data_2010_monthly/GS_clean_20101_align.10.csv\n",
      "(22230, 6)\n",
      "../Data/cali_pred_data_2010_monthly/GS_clean_20101_align.11.csv\n",
      "(16685, 6)\n",
      "../Data/cali_pred_data_2010_monthly/GS_clean_20101_align.12.csv\n",
      "(27531, 6)\n",
      "../Data/cali_pred_data_2010_monthly/GS_clean_20101_align.13.csv\n",
      "(27531, 6)\n",
      "../Data/cali_pred_data_2010_monthly/GS_clean_20101_align.14.csv\n",
      "(27515, 6)\n",
      "../Data/cali_pred_data_2010_monthly/GS_clean_20101_align.15.csv\n",
      "(27360, 6)\n",
      "../Data/cali_pred_data_2010_monthly/GS_clean_20101_align.16.csv\n",
      "(19324, 6)\n",
      "../Data/cali_pred_data_2010_monthly/GS_clean_20101_align.17.csv\n",
      "(30096, 6)\n",
      "../Data/cali_pred_data_2010_monthly/GS_clean_20101_align.18.csv\n",
      "(30096, 6)\n",
      "../Data/cali_pred_data_2010_monthly/GS_clean_20101_align.19.csv\n",
      "(30096, 6)\n",
      "../Data/cali_pred_data_2010_monthly/GS_clean_20101_align.20.csv\n",
      "(30096, 6)\n",
      "../Data/cali_pred_data_2010_monthly/GS_clean_20101_align.21.csv\n",
      "(29406, 6)\n",
      "../Data/cali_pred_data_2010_monthly/GS_clean_20101_align.22.csv\n",
      "(32490, 6)\n",
      "../Data/cali_pred_data_2010_monthly/GS_clean_20101_align.23.csv\n",
      "(32490, 6)\n",
      "../Data/cali_pred_data_2010_monthly/GS_clean_20101_align.24.csv\n",
      "(32319, 6)\n",
      "../Data/cali_pred_data_2010_monthly/GS_clean_20101_align.25.csv\n",
      "(32319, 6)\n",
      "../Data/cali_pred_data_2010_monthly/GS_clean_20101_align.26.csv\n",
      "(30820, 6)\n",
      "../Data/cali_pred_data_2010_monthly/GS_clean_20101_align.27.csv\n",
      "(32490, 6)\n",
      "../Data/cali_pred_data_2010_monthly/GS_clean_20101_align.28.csv\n",
      "(32490, 6)\n",
      "../Data/cali_pred_data_2010_monthly/GS_clean_20101_align.29.csv\n",
      "(32319, 6)\n",
      "../Data/cali_pred_data_2010_monthly/GS_clean_20101_align.30.csv\n",
      "(32319, 6)\n",
      "../Data/cali_pred_data_2010_monthly/GM_clean_20101_align.1.csv\n",
      "(2879, 7)\n",
      "../Data/cali_pred_data_2010_monthly/GM_clean_20101_align.2.csv\n",
      "(8324, 7)\n",
      "../Data/cali_pred_data_2010_monthly/GM_clean_20101_align.3.csv\n",
      "(10757, 7)\n",
      "../Data/cali_pred_data_2010_monthly/GM_clean_20101_align.4.csv\n",
      "(12501, 7)\n",
      "../Data/cali_pred_data_2010_monthly/GM_clean_20101_align.5.csv\n",
      "(11819, 7)\n",
      "../Data/cali_pred_data_2010_monthly/GM_clean_20101_align.6.csv\n",
      "(8040, 7)\n",
      "../Data/cali_pred_data_2010_monthly/GM_clean_20101_align.7.csv\n",
      "(16928, 7)\n",
      "../Data/cali_pred_data_2010_monthly/GM_clean_20101_align.8.csv\n",
      "(22216, 7)\n",
      "../Data/cali_pred_data_2010_monthly/GM_clean_20101_align.9.csv\n",
      "(22230, 7)\n",
      "../Data/cali_pred_data_2010_monthly/GM_clean_20101_align.10.csv\n",
      "(22230, 7)\n",
      "../Data/cali_pred_data_2010_monthly/GM_clean_20101_align.11.csv\n",
      "(16685, 7)\n",
      "../Data/cali_pred_data_2010_monthly/GM_clean_20101_align.12.csv\n",
      "(27531, 7)\n",
      "../Data/cali_pred_data_2010_monthly/GM_clean_20101_align.13.csv\n",
      "(27531, 7)\n",
      "../Data/cali_pred_data_2010_monthly/GM_clean_20101_align.14.csv\n",
      "(27515, 7)\n",
      "../Data/cali_pred_data_2010_monthly/GM_clean_20101_align.15.csv\n",
      "(27360, 7)\n",
      "../Data/cali_pred_data_2010_monthly/GM_clean_20101_align.16.csv\n",
      "(19324, 7)\n",
      "../Data/cali_pred_data_2010_monthly/GM_clean_20101_align.17.csv\n",
      "(30096, 7)\n",
      "../Data/cali_pred_data_2010_monthly/GM_clean_20101_align.18.csv\n",
      "(30096, 7)\n",
      "../Data/cali_pred_data_2010_monthly/GM_clean_20101_align.19.csv\n",
      "(30096, 7)\n",
      "../Data/cali_pred_data_2010_monthly/GM_clean_20101_align.20.csv\n",
      "(30096, 7)\n",
      "../Data/cali_pred_data_2010_monthly/GM_clean_20101_align.21.csv\n",
      "(29406, 7)\n",
      "../Data/cali_pred_data_2010_monthly/GM_clean_20101_align.22.csv\n",
      "(32490, 7)\n",
      "../Data/cali_pred_data_2010_monthly/GM_clean_20101_align.23.csv\n",
      "(32490, 7)\n",
      "../Data/cali_pred_data_2010_monthly/GM_clean_20101_align.24.csv\n",
      "(32319, 7)\n",
      "../Data/cali_pred_data_2010_monthly/GM_clean_20101_align.25.csv\n",
      "(32319, 7)\n",
      "../Data/cali_pred_data_2010_monthly/GM_clean_20101_align.26.csv\n",
      "(30820, 7)\n",
      "../Data/cali_pred_data_2010_monthly/GM_clean_20101_align.27.csv\n",
      "(32490, 7)\n",
      "../Data/cali_pred_data_2010_monthly/GM_clean_20101_align.28.csv\n",
      "(32490, 7)\n",
      "../Data/cali_pred_data_2010_monthly/GM_clean_20101_align.29.csv\n",
      "(32319, 7)\n",
      "../Data/cali_pred_data_2010_monthly/GM_clean_20101_align.30.csv\n",
      "(32319, 7)\n"
     ]
    }
   ],
   "source": [
    "#this creates different sized splits\n",
    "\n",
    "num_lon_splits = 6\n",
    "total_coords = 0\n",
    "lon_splits = np.array_split(np.unique(np.sort(av_jan.lon.values)), num_lon_splits)\n",
    "num_subset = {'AV' : 1, 'GS' : 1, 'GM' : 1}\n",
    "\n",
    "for model in models:\n",
    "    model_df = pd.read_csv('{}{}_clean_20101_align.csv'.format(data_dir,model))\n",
    "    for i in range(num_lon_splits):\n",
    "        sub_lon = lon_splits[i]\n",
    "        df_sub = model_df.loc[model_df.lon.isin(sub_lon)]\n",
    "        num_lat_splits = 5\n",
    "        lat_splits = np.array_split(np.unique(np.sort(df_sub.lat.values)), num_lat_splits)\n",
    "        for j in range(num_lat_splits):\n",
    "            sub_lat = lat_splits[j]\n",
    "            df_sub_sub = df_sub.loc[df_sub.lat.isin(sub_lat)]\n",
    "            total_coords += df_sub_sub.shape[0]\n",
    "            new_file = '{}{}_clean_20101_align.{}.csv'.format(data_dir, model, num_subset[model])\n",
    "            print (new_file)\n",
    "            num_subset[model] += 1\n",
    "            print (df_sub_sub.shape)\n",
    "#             df_sub_sub.to_csv(new_file, index = False)"
   ]
  },
  {
   "cell_type": "code",
   "execution_count": 83,
   "metadata": {},
   "outputs": [],
   "source": [
    "# using coordinates from R\n",
    "num_coords = 0\n",
    "num_r_subsegs = 36\n",
    "num_subsegs = {'AV' : 0, 'GS' : 0, 'GM' : 0}\n",
    "\n",
    "for model in models:\n",
    "    model_df = pd.read_csv('{}{}_clean_20101_align.csv'.format(data_dir,model))\n",
    "    for i in range(1, num_r_subsegs + 1):\n",
    "        file_name = '{}coordinates_{}.csv'.format(data_dir, i)\n",
    "        coordinates = pd.read_csv(file_name)\n",
    "        lon_list = list(np.around(np.array(np.unique(coordinates.x.values)),3))\n",
    "        lat_list = list(np.around(np.array(np.unique(coordinates.y.values)),3))\n",
    "        df_sub = model_df.loc[(model_df.lon.isin(lon_list)) & (model_df.lat.isin(lat_list))]\n",
    "        if (df_sub.shape[0] != 0):\n",
    "            df_sub = df_sub[['lon', 'lat', 'pm25']]\n",
    "            num_subsegs[model] += 1\n",
    "            new_file = '{}{}_clean_20101_align.{}.csv'.format(data_dir, model, num_subsegs[model])\n",
    "            df_sub.to_csv(new_file, index = False)"
   ]
  },
  {
   "cell_type": "markdown",
   "metadata": {},
   "source": [
    "# Nationwide"
   ]
  },
  {
   "cell_type": "code",
   "execution_count": 2,
   "metadata": {},
   "outputs": [],
   "source": [
    "data_dir = '../Data/nationwide/'\n",
    "save_dir = '../Data/nationwide_subsets/'"
   ]
  },
  {
   "cell_type": "code",
   "execution_count": 3,
   "metadata": {},
   "outputs": [],
   "source": [
    "av_2010 = pd.read_csv(data_dir + 'AV_2010_align.csv')"
   ]
  },
  {
   "cell_type": "code",
   "execution_count": 6,
   "metadata": {},
   "outputs": [],
   "source": [
    "gbd_2010 = pd.read_csv(data_dir + 'GBD_2010_align.csv')"
   ]
  },
  {
   "cell_type": "code",
   "execution_count": 7,
   "metadata": {},
   "outputs": [
    {
     "data": {
      "text/plain": [
       "(8348297, 5)"
      ]
     },
     "execution_count": 7,
     "metadata": {},
     "output_type": "execute_result"
    }
   ],
   "source": [
    "gbd_2010.shape"
   ]
  },
  {
   "cell_type": "code",
   "execution_count": 4,
   "metadata": {},
   "outputs": [
    {
     "data": {
      "text/plain": [
       "(8497549, 3)"
      ]
     },
     "execution_count": 4,
     "metadata": {},
     "output_type": "execute_result"
    }
   ],
   "source": [
    "av_2010.shape"
   ]
  },
  {
   "cell_type": "code",
   "execution_count": 72,
   "metadata": {},
   "outputs": [],
   "source": [
    "intersecting_av_gbd = pd.merge(av_2010, gbd_2010, how = 'left', on=['lon', 'lat'])"
   ]
  },
  {
   "cell_type": "code",
   "execution_count": 76,
   "metadata": {},
   "outputs": [
    {
     "data": {
      "text/plain": [
       "8348297"
      ]
     },
     "execution_count": 76,
     "metadata": {},
     "output_type": "execute_result"
    }
   ],
   "source": [
    "av_2010.shape[0]- 149252 "
   ]
  },
  {
   "cell_type": "code",
   "execution_count": 74,
   "metadata": {},
   "outputs": [
    {
     "data": {
      "text/plain": [
       "lon                0\n",
       "lat                0\n",
       "pm25_x             0\n",
       "Unnamed: 0    149252\n",
       "time          149252\n",
       "pm25_y        149252\n",
       "dtype: int64"
      ]
     },
     "execution_count": 74,
     "metadata": {},
     "output_type": "execute_result"
    }
   ],
   "source": [
    "intersecting_av_gbd.isna().sum()"
   ]
  },
  {
   "cell_type": "code",
   "execution_count": 77,
   "metadata": {},
   "outputs": [],
   "source": [
    "non_intersecting = intersecting_av_gbd.loc[intersecting_av_gbd.time.isna()]"
   ]
  },
  {
   "cell_type": "code",
   "execution_count": 87,
   "metadata": {},
   "outputs": [
    {
     "data": {
      "text/html": [
       "<div>\n",
       "<style scoped>\n",
       "    .dataframe tbody tr th:only-of-type {\n",
       "        vertical-align: middle;\n",
       "    }\n",
       "\n",
       "    .dataframe tbody tr th {\n",
       "        vertical-align: top;\n",
       "    }\n",
       "\n",
       "    .dataframe thead th {\n",
       "        text-align: right;\n",
       "    }\n",
       "</style>\n",
       "<table border=\"1\" class=\"dataframe\">\n",
       "  <thead>\n",
       "    <tr style=\"text-align: right;\">\n",
       "      <th></th>\n",
       "      <th>lon</th>\n",
       "      <th>lat</th>\n",
       "      <th>pm25_x</th>\n",
       "      <th>Unnamed: 0</th>\n",
       "      <th>time</th>\n",
       "      <th>pm25_y</th>\n",
       "    </tr>\n",
       "  </thead>\n",
       "  <tbody>\n",
       "    <tr>\n",
       "      <th>300</th>\n",
       "      <td>-124.745</td>\n",
       "      <td>48.165</td>\n",
       "      <td>4.0</td>\n",
       "      <td>NaN</td>\n",
       "      <td>NaN</td>\n",
       "      <td>NaN</td>\n",
       "    </tr>\n",
       "    <tr>\n",
       "      <th>301</th>\n",
       "      <td>-124.745</td>\n",
       "      <td>48.175</td>\n",
       "      <td>4.0</td>\n",
       "      <td>NaN</td>\n",
       "      <td>NaN</td>\n",
       "      <td>NaN</td>\n",
       "    </tr>\n",
       "    <tr>\n",
       "      <th>323</th>\n",
       "      <td>-124.745</td>\n",
       "      <td>48.395</td>\n",
       "      <td>4.1</td>\n",
       "      <td>NaN</td>\n",
       "      <td>NaN</td>\n",
       "      <td>NaN</td>\n",
       "    </tr>\n",
       "    <tr>\n",
       "      <th>359</th>\n",
       "      <td>-124.735</td>\n",
       "      <td>48.145</td>\n",
       "      <td>3.9</td>\n",
       "      <td>NaN</td>\n",
       "      <td>NaN</td>\n",
       "      <td>NaN</td>\n",
       "    </tr>\n",
       "    <tr>\n",
       "      <th>361</th>\n",
       "      <td>-124.735</td>\n",
       "      <td>48.165</td>\n",
       "      <td>4.0</td>\n",
       "      <td>NaN</td>\n",
       "      <td>NaN</td>\n",
       "      <td>NaN</td>\n",
       "    </tr>\n",
       "    <tr>\n",
       "      <th>362</th>\n",
       "      <td>-124.735</td>\n",
       "      <td>48.175</td>\n",
       "      <td>4.0</td>\n",
       "      <td>NaN</td>\n",
       "      <td>NaN</td>\n",
       "      <td>NaN</td>\n",
       "    </tr>\n",
       "    <tr>\n",
       "      <th>384</th>\n",
       "      <td>-124.735</td>\n",
       "      <td>48.395</td>\n",
       "      <td>4.1</td>\n",
       "      <td>NaN</td>\n",
       "      <td>NaN</td>\n",
       "      <td>NaN</td>\n",
       "    </tr>\n",
       "    <tr>\n",
       "      <th>420</th>\n",
       "      <td>-124.725</td>\n",
       "      <td>48.145</td>\n",
       "      <td>3.9</td>\n",
       "      <td>NaN</td>\n",
       "      <td>NaN</td>\n",
       "      <td>NaN</td>\n",
       "    </tr>\n",
       "    <tr>\n",
       "      <th>422</th>\n",
       "      <td>-124.725</td>\n",
       "      <td>48.165</td>\n",
       "      <td>3.9</td>\n",
       "      <td>NaN</td>\n",
       "      <td>NaN</td>\n",
       "      <td>NaN</td>\n",
       "    </tr>\n",
       "    <tr>\n",
       "      <th>423</th>\n",
       "      <td>-124.725</td>\n",
       "      <td>48.175</td>\n",
       "      <td>3.9</td>\n",
       "      <td>NaN</td>\n",
       "      <td>NaN</td>\n",
       "      <td>NaN</td>\n",
       "    </tr>\n",
       "    <tr>\n",
       "      <th>441</th>\n",
       "      <td>-124.725</td>\n",
       "      <td>48.355</td>\n",
       "      <td>4.1</td>\n",
       "      <td>NaN</td>\n",
       "      <td>NaN</td>\n",
       "      <td>NaN</td>\n",
       "    </tr>\n",
       "    <tr>\n",
       "      <th>442</th>\n",
       "      <td>-124.725</td>\n",
       "      <td>48.365</td>\n",
       "      <td>4.1</td>\n",
       "      <td>NaN</td>\n",
       "      <td>NaN</td>\n",
       "      <td>NaN</td>\n",
       "    </tr>\n",
       "    <tr>\n",
       "      <th>443</th>\n",
       "      <td>-124.725</td>\n",
       "      <td>48.375</td>\n",
       "      <td>4.1</td>\n",
       "      <td>NaN</td>\n",
       "      <td>NaN</td>\n",
       "      <td>NaN</td>\n",
       "    </tr>\n",
       "    <tr>\n",
       "      <th>444</th>\n",
       "      <td>-124.725</td>\n",
       "      <td>48.385</td>\n",
       "      <td>4.1</td>\n",
       "      <td>NaN</td>\n",
       "      <td>NaN</td>\n",
       "      <td>NaN</td>\n",
       "    </tr>\n",
       "    <tr>\n",
       "      <th>479</th>\n",
       "      <td>-124.715</td>\n",
       "      <td>48.115</td>\n",
       "      <td>3.9</td>\n",
       "      <td>NaN</td>\n",
       "      <td>NaN</td>\n",
       "      <td>NaN</td>\n",
       "    </tr>\n",
       "    <tr>\n",
       "      <th>480</th>\n",
       "      <td>-124.715</td>\n",
       "      <td>48.125</td>\n",
       "      <td>3.9</td>\n",
       "      <td>NaN</td>\n",
       "      <td>NaN</td>\n",
       "      <td>NaN</td>\n",
       "    </tr>\n",
       "    <tr>\n",
       "      <th>482</th>\n",
       "      <td>-124.715</td>\n",
       "      <td>48.145</td>\n",
       "      <td>3.9</td>\n",
       "      <td>NaN</td>\n",
       "      <td>NaN</td>\n",
       "      <td>NaN</td>\n",
       "    </tr>\n",
       "    <tr>\n",
       "      <th>483</th>\n",
       "      <td>-124.715</td>\n",
       "      <td>48.155</td>\n",
       "      <td>3.9</td>\n",
       "      <td>NaN</td>\n",
       "      <td>NaN</td>\n",
       "      <td>NaN</td>\n",
       "    </tr>\n",
       "    <tr>\n",
       "      <th>484</th>\n",
       "      <td>-124.715</td>\n",
       "      <td>48.165</td>\n",
       "      <td>3.9</td>\n",
       "      <td>NaN</td>\n",
       "      <td>NaN</td>\n",
       "      <td>NaN</td>\n",
       "    </tr>\n",
       "    <tr>\n",
       "      <th>485</th>\n",
       "      <td>-124.715</td>\n",
       "      <td>48.175</td>\n",
       "      <td>3.9</td>\n",
       "      <td>NaN</td>\n",
       "      <td>NaN</td>\n",
       "      <td>NaN</td>\n",
       "    </tr>\n",
       "    <tr>\n",
       "      <th>486</th>\n",
       "      <td>-124.715</td>\n",
       "      <td>48.185</td>\n",
       "      <td>3.9</td>\n",
       "      <td>NaN</td>\n",
       "      <td>NaN</td>\n",
       "      <td>NaN</td>\n",
       "    </tr>\n",
       "    <tr>\n",
       "      <th>492</th>\n",
       "      <td>-124.715</td>\n",
       "      <td>48.245</td>\n",
       "      <td>4.0</td>\n",
       "      <td>NaN</td>\n",
       "      <td>NaN</td>\n",
       "      <td>NaN</td>\n",
       "    </tr>\n",
       "    <tr>\n",
       "      <th>503</th>\n",
       "      <td>-124.715</td>\n",
       "      <td>48.355</td>\n",
       "      <td>4.1</td>\n",
       "      <td>NaN</td>\n",
       "      <td>NaN</td>\n",
       "      <td>NaN</td>\n",
       "    </tr>\n",
       "    <tr>\n",
       "      <th>504</th>\n",
       "      <td>-124.715</td>\n",
       "      <td>48.365</td>\n",
       "      <td>4.0</td>\n",
       "      <td>NaN</td>\n",
       "      <td>NaN</td>\n",
       "      <td>NaN</td>\n",
       "    </tr>\n",
       "    <tr>\n",
       "      <th>505</th>\n",
       "      <td>-124.715</td>\n",
       "      <td>48.375</td>\n",
       "      <td>4.0</td>\n",
       "      <td>NaN</td>\n",
       "      <td>NaN</td>\n",
       "      <td>NaN</td>\n",
       "    </tr>\n",
       "    <tr>\n",
       "      <th>506</th>\n",
       "      <td>-124.715</td>\n",
       "      <td>48.385</td>\n",
       "      <td>4.0</td>\n",
       "      <td>NaN</td>\n",
       "      <td>NaN</td>\n",
       "      <td>NaN</td>\n",
       "    </tr>\n",
       "    <tr>\n",
       "      <th>507</th>\n",
       "      <td>-124.715</td>\n",
       "      <td>48.395</td>\n",
       "      <td>4.0</td>\n",
       "      <td>NaN</td>\n",
       "      <td>NaN</td>\n",
       "      <td>NaN</td>\n",
       "    </tr>\n",
       "    <tr>\n",
       "      <th>537</th>\n",
       "      <td>-124.705</td>\n",
       "      <td>48.065</td>\n",
       "      <td>3.8</td>\n",
       "      <td>NaN</td>\n",
       "      <td>NaN</td>\n",
       "      <td>NaN</td>\n",
       "    </tr>\n",
       "    <tr>\n",
       "      <th>538</th>\n",
       "      <td>-124.705</td>\n",
       "      <td>48.075</td>\n",
       "      <td>3.8</td>\n",
       "      <td>NaN</td>\n",
       "      <td>NaN</td>\n",
       "      <td>NaN</td>\n",
       "    </tr>\n",
       "    <tr>\n",
       "      <th>542</th>\n",
       "      <td>-124.705</td>\n",
       "      <td>48.115</td>\n",
       "      <td>3.8</td>\n",
       "      <td>NaN</td>\n",
       "      <td>NaN</td>\n",
       "      <td>NaN</td>\n",
       "    </tr>\n",
       "    <tr>\n",
       "      <th>...</th>\n",
       "      <td>...</td>\n",
       "      <td>...</td>\n",
       "      <td>...</td>\n",
       "      <td>...</td>\n",
       "      <td>...</td>\n",
       "      <td>...</td>\n",
       "    </tr>\n",
       "    <tr>\n",
       "      <th>1985</th>\n",
       "      <td>-124.535</td>\n",
       "      <td>42.845</td>\n",
       "      <td>3.6</td>\n",
       "      <td>NaN</td>\n",
       "      <td>NaN</td>\n",
       "      <td>NaN</td>\n",
       "    </tr>\n",
       "    <tr>\n",
       "      <th>1986</th>\n",
       "      <td>-124.535</td>\n",
       "      <td>42.855</td>\n",
       "      <td>3.6</td>\n",
       "      <td>NaN</td>\n",
       "      <td>NaN</td>\n",
       "      <td>NaN</td>\n",
       "    </tr>\n",
       "    <tr>\n",
       "      <th>1987</th>\n",
       "      <td>-124.535</td>\n",
       "      <td>42.865</td>\n",
       "      <td>3.6</td>\n",
       "      <td>NaN</td>\n",
       "      <td>NaN</td>\n",
       "      <td>NaN</td>\n",
       "    </tr>\n",
       "    <tr>\n",
       "      <th>1988</th>\n",
       "      <td>-124.535</td>\n",
       "      <td>42.875</td>\n",
       "      <td>3.6</td>\n",
       "      <td>NaN</td>\n",
       "      <td>NaN</td>\n",
       "      <td>NaN</td>\n",
       "    </tr>\n",
       "    <tr>\n",
       "      <th>2021</th>\n",
       "      <td>-124.535</td>\n",
       "      <td>47.845</td>\n",
       "      <td>3.5</td>\n",
       "      <td>NaN</td>\n",
       "      <td>NaN</td>\n",
       "      <td>NaN</td>\n",
       "    </tr>\n",
       "    <tr>\n",
       "      <th>2022</th>\n",
       "      <td>-124.535</td>\n",
       "      <td>47.855</td>\n",
       "      <td>3.6</td>\n",
       "      <td>NaN</td>\n",
       "      <td>NaN</td>\n",
       "      <td>NaN</td>\n",
       "    </tr>\n",
       "    <tr>\n",
       "      <th>2023</th>\n",
       "      <td>-124.535</td>\n",
       "      <td>47.865</td>\n",
       "      <td>3.6</td>\n",
       "      <td>NaN</td>\n",
       "      <td>NaN</td>\n",
       "      <td>NaN</td>\n",
       "    </tr>\n",
       "    <tr>\n",
       "      <th>2024</th>\n",
       "      <td>-124.535</td>\n",
       "      <td>47.875</td>\n",
       "      <td>3.6</td>\n",
       "      <td>NaN</td>\n",
       "      <td>NaN</td>\n",
       "      <td>NaN</td>\n",
       "    </tr>\n",
       "    <tr>\n",
       "      <th>2025</th>\n",
       "      <td>-124.535</td>\n",
       "      <td>47.885</td>\n",
       "      <td>3.6</td>\n",
       "      <td>NaN</td>\n",
       "      <td>NaN</td>\n",
       "      <td>NaN</td>\n",
       "    </tr>\n",
       "    <tr>\n",
       "      <th>2026</th>\n",
       "      <td>-124.535</td>\n",
       "      <td>47.895</td>\n",
       "      <td>3.6</td>\n",
       "      <td>NaN</td>\n",
       "      <td>NaN</td>\n",
       "      <td>NaN</td>\n",
       "    </tr>\n",
       "    <tr>\n",
       "      <th>2104</th>\n",
       "      <td>-124.525</td>\n",
       "      <td>42.755</td>\n",
       "      <td>3.8</td>\n",
       "      <td>NaN</td>\n",
       "      <td>NaN</td>\n",
       "      <td>NaN</td>\n",
       "    </tr>\n",
       "    <tr>\n",
       "      <th>2105</th>\n",
       "      <td>-124.525</td>\n",
       "      <td>42.765</td>\n",
       "      <td>3.8</td>\n",
       "      <td>NaN</td>\n",
       "      <td>NaN</td>\n",
       "      <td>NaN</td>\n",
       "    </tr>\n",
       "    <tr>\n",
       "      <th>2106</th>\n",
       "      <td>-124.525</td>\n",
       "      <td>42.775</td>\n",
       "      <td>3.8</td>\n",
       "      <td>NaN</td>\n",
       "      <td>NaN</td>\n",
       "      <td>NaN</td>\n",
       "    </tr>\n",
       "    <tr>\n",
       "      <th>2107</th>\n",
       "      <td>-124.525</td>\n",
       "      <td>42.785</td>\n",
       "      <td>3.7</td>\n",
       "      <td>NaN</td>\n",
       "      <td>NaN</td>\n",
       "      <td>NaN</td>\n",
       "    </tr>\n",
       "    <tr>\n",
       "      <th>2108</th>\n",
       "      <td>-124.525</td>\n",
       "      <td>42.795</td>\n",
       "      <td>3.7</td>\n",
       "      <td>NaN</td>\n",
       "      <td>NaN</td>\n",
       "      <td>NaN</td>\n",
       "    </tr>\n",
       "    <tr>\n",
       "      <th>2109</th>\n",
       "      <td>-124.525</td>\n",
       "      <td>42.805</td>\n",
       "      <td>3.7</td>\n",
       "      <td>NaN</td>\n",
       "      <td>NaN</td>\n",
       "      <td>NaN</td>\n",
       "    </tr>\n",
       "    <tr>\n",
       "      <th>2110</th>\n",
       "      <td>-124.525</td>\n",
       "      <td>42.815</td>\n",
       "      <td>3.7</td>\n",
       "      <td>NaN</td>\n",
       "      <td>NaN</td>\n",
       "      <td>NaN</td>\n",
       "    </tr>\n",
       "    <tr>\n",
       "      <th>2111</th>\n",
       "      <td>-124.525</td>\n",
       "      <td>42.825</td>\n",
       "      <td>3.7</td>\n",
       "      <td>NaN</td>\n",
       "      <td>NaN</td>\n",
       "      <td>NaN</td>\n",
       "    </tr>\n",
       "    <tr>\n",
       "      <th>2112</th>\n",
       "      <td>-124.525</td>\n",
       "      <td>42.835</td>\n",
       "      <td>3.6</td>\n",
       "      <td>NaN</td>\n",
       "      <td>NaN</td>\n",
       "      <td>NaN</td>\n",
       "    </tr>\n",
       "    <tr>\n",
       "      <th>2113</th>\n",
       "      <td>-124.525</td>\n",
       "      <td>42.845</td>\n",
       "      <td>3.6</td>\n",
       "      <td>NaN</td>\n",
       "      <td>NaN</td>\n",
       "      <td>NaN</td>\n",
       "    </tr>\n",
       "    <tr>\n",
       "      <th>2114</th>\n",
       "      <td>-124.525</td>\n",
       "      <td>42.855</td>\n",
       "      <td>3.6</td>\n",
       "      <td>NaN</td>\n",
       "      <td>NaN</td>\n",
       "      <td>NaN</td>\n",
       "    </tr>\n",
       "    <tr>\n",
       "      <th>2115</th>\n",
       "      <td>-124.525</td>\n",
       "      <td>42.865</td>\n",
       "      <td>3.6</td>\n",
       "      <td>NaN</td>\n",
       "      <td>NaN</td>\n",
       "      <td>NaN</td>\n",
       "    </tr>\n",
       "    <tr>\n",
       "      <th>2116</th>\n",
       "      <td>-124.525</td>\n",
       "      <td>42.875</td>\n",
       "      <td>3.6</td>\n",
       "      <td>NaN</td>\n",
       "      <td>NaN</td>\n",
       "      <td>NaN</td>\n",
       "    </tr>\n",
       "    <tr>\n",
       "      <th>2117</th>\n",
       "      <td>-124.525</td>\n",
       "      <td>42.885</td>\n",
       "      <td>3.7</td>\n",
       "      <td>NaN</td>\n",
       "      <td>NaN</td>\n",
       "      <td>NaN</td>\n",
       "    </tr>\n",
       "    <tr>\n",
       "      <th>2118</th>\n",
       "      <td>-124.525</td>\n",
       "      <td>42.895</td>\n",
       "      <td>3.7</td>\n",
       "      <td>NaN</td>\n",
       "      <td>NaN</td>\n",
       "      <td>NaN</td>\n",
       "    </tr>\n",
       "    <tr>\n",
       "      <th>2151</th>\n",
       "      <td>-124.525</td>\n",
       "      <td>47.835</td>\n",
       "      <td>3.6</td>\n",
       "      <td>NaN</td>\n",
       "      <td>NaN</td>\n",
       "      <td>NaN</td>\n",
       "    </tr>\n",
       "    <tr>\n",
       "      <th>2152</th>\n",
       "      <td>-124.525</td>\n",
       "      <td>47.845</td>\n",
       "      <td>3.5</td>\n",
       "      <td>NaN</td>\n",
       "      <td>NaN</td>\n",
       "      <td>NaN</td>\n",
       "    </tr>\n",
       "    <tr>\n",
       "      <th>2153</th>\n",
       "      <td>-124.525</td>\n",
       "      <td>47.855</td>\n",
       "      <td>3.5</td>\n",
       "      <td>NaN</td>\n",
       "      <td>NaN</td>\n",
       "      <td>NaN</td>\n",
       "    </tr>\n",
       "    <tr>\n",
       "      <th>2154</th>\n",
       "      <td>-124.525</td>\n",
       "      <td>47.865</td>\n",
       "      <td>3.5</td>\n",
       "      <td>NaN</td>\n",
       "      <td>NaN</td>\n",
       "      <td>NaN</td>\n",
       "    </tr>\n",
       "    <tr>\n",
       "      <th>2155</th>\n",
       "      <td>-124.525</td>\n",
       "      <td>47.875</td>\n",
       "      <td>3.6</td>\n",
       "      <td>NaN</td>\n",
       "      <td>NaN</td>\n",
       "      <td>NaN</td>\n",
       "    </tr>\n",
       "  </tbody>\n",
       "</table>\n",
       "<p>200 rows × 6 columns</p>\n",
       "</div>"
      ],
      "text/plain": [
       "          lon     lat  pm25_x  Unnamed: 0  time  pm25_y\n",
       "300  -124.745  48.165     4.0         NaN   NaN     NaN\n",
       "301  -124.745  48.175     4.0         NaN   NaN     NaN\n",
       "323  -124.745  48.395     4.1         NaN   NaN     NaN\n",
       "359  -124.735  48.145     3.9         NaN   NaN     NaN\n",
       "361  -124.735  48.165     4.0         NaN   NaN     NaN\n",
       "362  -124.735  48.175     4.0         NaN   NaN     NaN\n",
       "384  -124.735  48.395     4.1         NaN   NaN     NaN\n",
       "420  -124.725  48.145     3.9         NaN   NaN     NaN\n",
       "422  -124.725  48.165     3.9         NaN   NaN     NaN\n",
       "423  -124.725  48.175     3.9         NaN   NaN     NaN\n",
       "441  -124.725  48.355     4.1         NaN   NaN     NaN\n",
       "442  -124.725  48.365     4.1         NaN   NaN     NaN\n",
       "443  -124.725  48.375     4.1         NaN   NaN     NaN\n",
       "444  -124.725  48.385     4.1         NaN   NaN     NaN\n",
       "479  -124.715  48.115     3.9         NaN   NaN     NaN\n",
       "480  -124.715  48.125     3.9         NaN   NaN     NaN\n",
       "482  -124.715  48.145     3.9         NaN   NaN     NaN\n",
       "483  -124.715  48.155     3.9         NaN   NaN     NaN\n",
       "484  -124.715  48.165     3.9         NaN   NaN     NaN\n",
       "485  -124.715  48.175     3.9         NaN   NaN     NaN\n",
       "486  -124.715  48.185     3.9         NaN   NaN     NaN\n",
       "492  -124.715  48.245     4.0         NaN   NaN     NaN\n",
       "503  -124.715  48.355     4.1         NaN   NaN     NaN\n",
       "504  -124.715  48.365     4.0         NaN   NaN     NaN\n",
       "505  -124.715  48.375     4.0         NaN   NaN     NaN\n",
       "506  -124.715  48.385     4.0         NaN   NaN     NaN\n",
       "507  -124.715  48.395     4.0         NaN   NaN     NaN\n",
       "537  -124.705  48.065     3.8         NaN   NaN     NaN\n",
       "538  -124.705  48.075     3.8         NaN   NaN     NaN\n",
       "542  -124.705  48.115     3.8         NaN   NaN     NaN\n",
       "...       ...     ...     ...         ...   ...     ...\n",
       "1985 -124.535  42.845     3.6         NaN   NaN     NaN\n",
       "1986 -124.535  42.855     3.6         NaN   NaN     NaN\n",
       "1987 -124.535  42.865     3.6         NaN   NaN     NaN\n",
       "1988 -124.535  42.875     3.6         NaN   NaN     NaN\n",
       "2021 -124.535  47.845     3.5         NaN   NaN     NaN\n",
       "2022 -124.535  47.855     3.6         NaN   NaN     NaN\n",
       "2023 -124.535  47.865     3.6         NaN   NaN     NaN\n",
       "2024 -124.535  47.875     3.6         NaN   NaN     NaN\n",
       "2025 -124.535  47.885     3.6         NaN   NaN     NaN\n",
       "2026 -124.535  47.895     3.6         NaN   NaN     NaN\n",
       "2104 -124.525  42.755     3.8         NaN   NaN     NaN\n",
       "2105 -124.525  42.765     3.8         NaN   NaN     NaN\n",
       "2106 -124.525  42.775     3.8         NaN   NaN     NaN\n",
       "2107 -124.525  42.785     3.7         NaN   NaN     NaN\n",
       "2108 -124.525  42.795     3.7         NaN   NaN     NaN\n",
       "2109 -124.525  42.805     3.7         NaN   NaN     NaN\n",
       "2110 -124.525  42.815     3.7         NaN   NaN     NaN\n",
       "2111 -124.525  42.825     3.7         NaN   NaN     NaN\n",
       "2112 -124.525  42.835     3.6         NaN   NaN     NaN\n",
       "2113 -124.525  42.845     3.6         NaN   NaN     NaN\n",
       "2114 -124.525  42.855     3.6         NaN   NaN     NaN\n",
       "2115 -124.525  42.865     3.6         NaN   NaN     NaN\n",
       "2116 -124.525  42.875     3.6         NaN   NaN     NaN\n",
       "2117 -124.525  42.885     3.7         NaN   NaN     NaN\n",
       "2118 -124.525  42.895     3.7         NaN   NaN     NaN\n",
       "2151 -124.525  47.835     3.6         NaN   NaN     NaN\n",
       "2152 -124.525  47.845     3.5         NaN   NaN     NaN\n",
       "2153 -124.525  47.855     3.5         NaN   NaN     NaN\n",
       "2154 -124.525  47.865     3.5         NaN   NaN     NaN\n",
       "2155 -124.525  47.875     3.6         NaN   NaN     NaN\n",
       "\n",
       "[200 rows x 6 columns]"
      ]
     },
     "execution_count": 87,
     "metadata": {},
     "output_type": "execute_result"
    }
   ],
   "source": [
    "non_intersecting.loc[non_intersecting.pm25_x != -999.99].head(200)"
   ]
  },
  {
   "cell_type": "code",
   "execution_count": 3,
   "metadata": {},
   "outputs": [],
   "source": [
    "av_2004 = pd.read_csv(data_dir + 'AV_2004_align.csv')"
   ]
  },
  {
   "cell_type": "code",
   "execution_count": 4,
   "metadata": {},
   "outputs": [],
   "source": [
    "min_lon = min(av_2004.lon)\n",
    "max_lon = max(av_2004.lon)\n",
    "min_lat = min(av_2004.lat)\n",
    "max_lat = max(av_2004.lat)"
   ]
  },
  {
   "cell_type": "code",
   "execution_count": 5,
   "metadata": {},
   "outputs": [],
   "source": [
    "X_valid = np.asarray(av_2004[[\"lon\", \"lat\"]].values.tolist()).astype(np.float32)\n",
    "X_scale = np.max(X_valid, axis=0) - np.min(X_valid, axis=0)"
   ]
  },
  {
   "cell_type": "code",
   "execution_count": 6,
   "metadata": {},
   "outputs": [],
   "source": [
    "def round_nearest(x, a):\n",
    "    return round(round(x / a) * a, -int(math.floor(math.log10(a))))"
   ]
  },
  {
   "cell_type": "code",
   "execution_count": 7,
   "metadata": {},
   "outputs": [],
   "source": [
    "def round_location(locations):\n",
    "    round_loc = [round_nearest(x, 0.005) for x in locations]\n",
    "    round_loc = [x + 0.005 if (str(x)[-1] != '5' or len(str(x).split('.')[1]) !=  3) else x for x in round_loc]\n",
    "    round_loc =  [round(x, -int(math.floor(math.log10(0.005)))) for x in round_loc]\n",
    "    return round_loc"
   ]
  },
  {
   "cell_type": "code",
   "execution_count": 8,
   "metadata": {},
   "outputs": [],
   "source": [
    "def get_splits(X_val, num_splits):\n",
    "    split_range = [X_scale[0]/num_splits, X_scale[1]/num_splits]\n",
    "    split_range = [round(elem, 4) for elem in split_range ]\n",
    "    split_lon_range = split_range[0]\n",
    "    split_lat_range = split_range[1]\n",
    "\n",
    "    start_split_lon = []\n",
    "    for i in range(num_splits):\n",
    "        start_split_lon.append(min_lon + i*split_lon_range)\n",
    "\n",
    "    start_split_lat = []\n",
    "    for i in range(num_splits):\n",
    "        start_split_lat.append(min_lat + i*split_lat_range)\n",
    "\n",
    "    start_split_lon = round_location(start_split_lon)\n",
    "    start_split_lat = round_location(start_split_lat)\n",
    "    \n",
    "    end_split_lon = start_split_lon[1:]\n",
    "    end_split_lon.append(max_lon)\n",
    "    start_split_lon = [x - 0.5 for x in start_split_lon[1:]]\n",
    "    start_split_lon.insert(0, min_lon)\n",
    "\n",
    "    end_split_lat = start_split_lat[1:]\n",
    "    end_split_lat.append(max_lat)\n",
    "    start_split_lat = [x - 0.5 for x in start_split_lat[1:]]\n",
    "    start_split_lat.insert(0, min_lat)\n",
    "    \n",
    "    lon_range = list(zip(start_split_lon, end_split_lon))\n",
    "    lat_range = list(zip(start_split_lat, end_split_lat))\n",
    "    \n",
    "    return lon_range, lat_range"
   ]
  },
  {
   "cell_type": "code",
   "execution_count": 9,
   "metadata": {},
   "outputs": [],
   "source": [
    "lon_range, lat_range = get_splits(X_valid, 49)"
   ]
  },
  {
   "cell_type": "code",
   "execution_count": 10,
   "metadata": {},
   "outputs": [],
   "source": [
    "av_2010_2016 = pd.DataFrame(columns=['lon', 'lat', 'pm25', 'time'])\n",
    "for i in range(2010, 2017):\n",
    "    av_file_name = '{}AV_{}_align.csv'.format(data_dir, i)\n",
    "    av_i = pd.read_csv(av_file_name)\n",
    "    time_i = np.repeat(i, av_i.shape[0])\n",
    "    av_i['time'] = time_i\n",
    "    av_2010_2016 = av_2010_2016.append(av_i)\n",
    "\n",
    "av_2010_2016 = av_2010_2016.loc[av_2010_2016.pm25 != -999.99]"
   ]
  },
  {
   "cell_type": "code",
   "execution_count": 12,
   "metadata": {},
   "outputs": [
    {
     "data": {
      "text/plain": [
       "8273037.0"
      ]
     },
     "execution_count": 12,
     "metadata": {},
     "output_type": "execute_result"
    }
   ],
   "source": [
    "av_2010_2016.shape[0]/7"
   ]
  },
  {
   "cell_type": "code",
   "execution_count": 19,
   "metadata": {},
   "outputs": [
    {
     "data": {
      "text/plain": [
       "(8497549, 3)"
      ]
     },
     "execution_count": 19,
     "metadata": {},
     "output_type": "execute_result"
    }
   ],
   "source": [
    "av_2004.shape"
   ]
  },
  {
   "cell_type": "code",
   "execution_count": 20,
   "metadata": {},
   "outputs": [
    {
     "data": {
      "text/plain": [
       "(8497549, 3)"
      ]
     },
     "execution_count": 20,
     "metadata": {},
     "output_type": "execute_result"
    }
   ],
   "source": [
    "av_2004.shape"
   ]
  },
  {
   "cell_type": "code",
   "execution_count": 25,
   "metadata": {},
   "outputs": [],
   "source": [
    "av_no_null = av_2004.loc[av_2004.pm25 != -999.99]"
   ]
  },
  {
   "cell_type": "code",
   "execution_count": 35,
   "metadata": {},
   "outputs": [
    {
     "name": "stdout",
     "output_type": "stream",
     "text": [
      "DF subset: (597, 3)\n",
      "Most recent subset: (597, 3)\n",
      "1\n",
      "DF subset: (505, 3)\n",
      "Most recent subset: (505, 3)\n",
      "2\n",
      "DF subset: (843, 3)\n",
      "Most recent subset: (843, 3)\n",
      "3\n",
      "DF subset: (3159, 3)\n",
      "Most recent subset: (3159, 3)\n",
      "4\n",
      "DF subset: (284, 3)\n",
      "Most recent subset: (284, 3)\n",
      "5\n",
      "DF subset: (139, 3)\n",
      "../Data/nationwide_subsets/AV_2010_2016_align.5.csv\n",
      "Most recent subset: (423, 3)\n",
      "5\n",
      "DF subset: (1730, 3)\n",
      "Most recent subset: (1730, 3)\n",
      "6\n",
      "DF subset: (8526, 3)\n",
      "Most recent subset: (8526, 3)\n",
      "7\n",
      "DF subset: (1303, 3)\n",
      "Most recent subset: (1303, 3)\n",
      "8\n"
     ]
    },
    {
     "ename": "KeyboardInterrupt",
     "evalue": "",
     "output_type": "error",
     "traceback": [
      "\u001b[1;31m---------------------------------------------------------------------------\u001b[0m",
      "\u001b[1;31mKeyboardInterrupt\u001b[0m                         Traceback (most recent call last)",
      "\u001b[1;32m<ipython-input-35-8d1f4066611b>\u001b[0m in \u001b[0;36m<module>\u001b[1;34m\u001b[0m\n\u001b[0;32m      8\u001b[0m \u001b[1;32mfor\u001b[0m \u001b[0mi\u001b[0m \u001b[1;32min\u001b[0m \u001b[0mrange\u001b[0m\u001b[1;33m(\u001b[0m\u001b[0mlen\u001b[0m\u001b[1;33m(\u001b[0m\u001b[0mlat_range\u001b[0m\u001b[1;33m)\u001b[0m\u001b[1;33m)\u001b[0m\u001b[1;33m:\u001b[0m\u001b[1;33m\u001b[0m\u001b[1;33m\u001b[0m\u001b[0m\n\u001b[0;32m      9\u001b[0m     \u001b[1;32mfor\u001b[0m \u001b[0mj\u001b[0m \u001b[1;32min\u001b[0m \u001b[0mrange\u001b[0m\u001b[1;33m(\u001b[0m\u001b[0mlen\u001b[0m\u001b[1;33m(\u001b[0m\u001b[0mlon_range\u001b[0m\u001b[1;33m)\u001b[0m\u001b[1;33m)\u001b[0m\u001b[1;33m:\u001b[0m\u001b[1;33m\u001b[0m\u001b[1;33m\u001b[0m\u001b[0m\n\u001b[1;32m---> 10\u001b[1;33m         \u001b[0mdf_subset\u001b[0m \u001b[1;33m=\u001b[0m \u001b[0mmodel\u001b[0m\u001b[1;33m.\u001b[0m\u001b[0mloc\u001b[0m\u001b[1;33m[\u001b[0m\u001b[1;33m(\u001b[0m\u001b[0mmodel\u001b[0m\u001b[1;33m.\u001b[0m\u001b[0mlon\u001b[0m \u001b[1;33m>=\u001b[0m \u001b[0mlon_range\u001b[0m\u001b[1;33m[\u001b[0m\u001b[0mj\u001b[0m\u001b[1;33m]\u001b[0m\u001b[1;33m[\u001b[0m\u001b[1;36m0\u001b[0m\u001b[1;33m]\u001b[0m\u001b[1;33m)\u001b[0m \u001b[1;33m&\u001b[0m \u001b[1;33m(\u001b[0m\u001b[0mmodel\u001b[0m\u001b[1;33m.\u001b[0m\u001b[0mlon\u001b[0m \u001b[1;33m<=\u001b[0m \u001b[0mlon_range\u001b[0m\u001b[1;33m[\u001b[0m\u001b[0mj\u001b[0m\u001b[1;33m]\u001b[0m\u001b[1;33m[\u001b[0m\u001b[1;36m1\u001b[0m\u001b[1;33m]\u001b[0m\u001b[1;33m)\u001b[0m \u001b[1;33m&\u001b[0m \u001b[1;33m(\u001b[0m\u001b[0mmodel\u001b[0m\u001b[1;33m.\u001b[0m\u001b[0mlat\u001b[0m \u001b[1;33m>=\u001b[0m \u001b[0mlat_range\u001b[0m\u001b[1;33m[\u001b[0m\u001b[0mi\u001b[0m\u001b[1;33m]\u001b[0m\u001b[1;33m[\u001b[0m\u001b[1;36m0\u001b[0m\u001b[1;33m]\u001b[0m\u001b[1;33m)\u001b[0m \u001b[1;33m&\u001b[0m \u001b[1;33m(\u001b[0m\u001b[0mmodel\u001b[0m\u001b[1;33m.\u001b[0m\u001b[0mlat\u001b[0m \u001b[1;33m<=\u001b[0m \u001b[0mlat_range\u001b[0m\u001b[1;33m[\u001b[0m\u001b[0mi\u001b[0m\u001b[1;33m]\u001b[0m\u001b[1;33m[\u001b[0m\u001b[1;36m1\u001b[0m\u001b[1;33m]\u001b[0m\u001b[1;33m)\u001b[0m\u001b[1;33m]\u001b[0m\u001b[1;33m\u001b[0m\u001b[1;33m\u001b[0m\u001b[0m\n\u001b[0m\u001b[0;32m     11\u001b[0m         \u001b[0mdf_subset\u001b[0m \u001b[1;33m=\u001b[0m \u001b[0mdf_subset\u001b[0m\u001b[1;33m[\u001b[0m\u001b[1;33m[\u001b[0m\u001b[1;34m'lon'\u001b[0m\u001b[1;33m,\u001b[0m \u001b[1;34m'lat'\u001b[0m\u001b[1;33m,\u001b[0m \u001b[1;34m'pm25'\u001b[0m\u001b[1;33m]\u001b[0m\u001b[1;33m]\u001b[0m\u001b[1;33m\u001b[0m\u001b[1;33m\u001b[0m\u001b[0m\n\u001b[0;32m     12\u001b[0m         \u001b[1;32mif\u001b[0m \u001b[1;33m(\u001b[0m\u001b[0mdf_subset\u001b[0m\u001b[1;33m.\u001b[0m\u001b[0mshape\u001b[0m\u001b[1;33m[\u001b[0m\u001b[1;36m0\u001b[0m\u001b[1;33m]\u001b[0m \u001b[1;33m!=\u001b[0m \u001b[1;36m0\u001b[0m\u001b[1;33m)\u001b[0m\u001b[1;33m:\u001b[0m\u001b[1;33m\u001b[0m\u001b[1;33m\u001b[0m\u001b[0m\n",
      "\u001b[1;32mc:\\users\\leac7\\appdata\\local\\programs\\python\\python36\\lib\\site-packages\\pandas\\core\\ops.py\u001b[0m in \u001b[0;36mwrapper\u001b[1;34m(self, other, axis)\u001b[0m\n\u001b[0;32m   1764\u001b[0m \u001b[1;33m\u001b[0m\u001b[0m\n\u001b[0;32m   1765\u001b[0m             \u001b[1;32mwith\u001b[0m \u001b[0mnp\u001b[0m\u001b[1;33m.\u001b[0m\u001b[0merrstate\u001b[0m\u001b[1;33m(\u001b[0m\u001b[0mall\u001b[0m\u001b[1;33m=\u001b[0m\u001b[1;34m'ignore'\u001b[0m\u001b[1;33m)\u001b[0m\u001b[1;33m:\u001b[0m\u001b[1;33m\u001b[0m\u001b[1;33m\u001b[0m\u001b[0m\n\u001b[1;32m-> 1766\u001b[1;33m                 \u001b[0mres\u001b[0m \u001b[1;33m=\u001b[0m \u001b[0mna_op\u001b[0m\u001b[1;33m(\u001b[0m\u001b[0mvalues\u001b[0m\u001b[1;33m,\u001b[0m \u001b[0mother\u001b[0m\u001b[1;33m)\u001b[0m\u001b[1;33m\u001b[0m\u001b[1;33m\u001b[0m\u001b[0m\n\u001b[0m\u001b[0;32m   1767\u001b[0m             \u001b[1;32mif\u001b[0m \u001b[0mis_scalar\u001b[0m\u001b[1;33m(\u001b[0m\u001b[0mres\u001b[0m\u001b[1;33m)\u001b[0m\u001b[1;33m:\u001b[0m\u001b[1;33m\u001b[0m\u001b[1;33m\u001b[0m\u001b[0m\n\u001b[0;32m   1768\u001b[0m                 raise TypeError('Could not compare {typ} type with Series'\n",
      "\u001b[1;32mc:\\users\\leac7\\appdata\\local\\programs\\python\\python36\\lib\\site-packages\\pandas\\core\\ops.py\u001b[0m in \u001b[0;36mna_op\u001b[1;34m(x, y)\u001b[0m\n\u001b[0;32m   1647\u001b[0m             \u001b[1;32mif\u001b[0m \u001b[0mmethod\u001b[0m \u001b[1;32mis\u001b[0m \u001b[1;32mnot\u001b[0m \u001b[1;32mNone\u001b[0m\u001b[1;33m:\u001b[0m\u001b[1;33m\u001b[0m\u001b[1;33m\u001b[0m\u001b[0m\n\u001b[0;32m   1648\u001b[0m                 \u001b[1;32mwith\u001b[0m \u001b[0mnp\u001b[0m\u001b[1;33m.\u001b[0m\u001b[0merrstate\u001b[0m\u001b[1;33m(\u001b[0m\u001b[0mall\u001b[0m\u001b[1;33m=\u001b[0m\u001b[1;34m'ignore'\u001b[0m\u001b[1;33m)\u001b[0m\u001b[1;33m:\u001b[0m\u001b[1;33m\u001b[0m\u001b[1;33m\u001b[0m\u001b[0m\n\u001b[1;32m-> 1649\u001b[1;33m                     \u001b[0mresult\u001b[0m \u001b[1;33m=\u001b[0m \u001b[0mmethod\u001b[0m\u001b[1;33m(\u001b[0m\u001b[0my\u001b[0m\u001b[1;33m)\u001b[0m\u001b[1;33m\u001b[0m\u001b[1;33m\u001b[0m\u001b[0m\n\u001b[0m\u001b[0;32m   1650\u001b[0m                 \u001b[1;32mif\u001b[0m \u001b[0mresult\u001b[0m \u001b[1;32mis\u001b[0m \u001b[0mNotImplemented\u001b[0m\u001b[1;33m:\u001b[0m\u001b[1;33m\u001b[0m\u001b[1;33m\u001b[0m\u001b[0m\n\u001b[0;32m   1651\u001b[0m                     \u001b[1;32mreturn\u001b[0m \u001b[0minvalid_comparison\u001b[0m\u001b[1;33m(\u001b[0m\u001b[0mx\u001b[0m\u001b[1;33m,\u001b[0m \u001b[0my\u001b[0m\u001b[1;33m,\u001b[0m \u001b[0mop\u001b[0m\u001b[1;33m)\u001b[0m\u001b[1;33m\u001b[0m\u001b[1;33m\u001b[0m\u001b[0m\n",
      "\u001b[1;31mKeyboardInterrupt\u001b[0m: "
     ]
    }
   ],
   "source": [
    "full_data = pd.DataFrame(columns=['lon', 'lat', 'pm25'])\n",
    "model = av_2010_2016\n",
    "subset_num = 0\n",
    "subset_shapes = []\n",
    "\n",
    "most_recent_subset = pd.DataFrame(columns=['lon', 'lat', 'pm25'])\n",
    "\n",
    "for i in range(len(lat_range)):\n",
    "    for j in range(len(lon_range)):\n",
    "        df_subset = model.loc[(model.lon >= lon_range[j][0]) & (model.lon <= lon_range[j][1]) & (model.lat >= lat_range[i][0]) & (model.lat <= lat_range[i][1])]\n",
    "        df_subset = df_subset[['lon', 'lat', 'pm25']]\n",
    "        if (df_subset.shape[0] != 0):\n",
    "            if (df_subset.shape[0] > 700):\n",
    "                most_recent_subset = df_subset\n",
    "                full_data = full_data.append(df_subset)\n",
    "                subset_shapes.append(most_recent_subset.shape[0])\n",
    "                subset_num += 1\n",
    "                new_file = '{}AV_2010_2016_align.{}.csv'.format(save_dir, subset_num)\n",
    "                most_recent_subset.to_csv(new_file, index = False)\n",
    "            else:\n",
    "                most_recent_subset = most_recent_subset.append(df_subset)\n",
    "                subset_shapes.pop()\n",
    "                subset_shapes.append(most_recent_subset.shape[0])\n",
    "                most_recent_subset.to_csv(new_file, index = False)  "
   ]
  },
  {
   "cell_type": "code",
   "execution_count": 31,
   "metadata": {},
   "outputs": [
    {
     "name": "stdout",
     "output_type": "stream",
     "text": [
      "1556\n",
      "276\n"
     ]
    }
   ],
   "source": [
    "print (len(subset_shapes))\n",
    "print (np.min(subset_shapes))"
   ]
  },
  {
   "cell_type": "code",
   "execution_count": 32,
   "metadata": {},
   "outputs": [
    {
     "name": "stdout",
     "output_type": "stream",
     "text": [
      "(8273037, 3)\n"
     ]
    }
   ],
   "source": [
    "full_data.drop_duplicates(inplace = True)\n",
    "# print (av_2010_2016.shape[0]/7)\n",
    "print (full_data.shape)"
   ]
  },
  {
   "cell_type": "markdown",
   "metadata": {},
   "source": [
    "# 1605 subsets or 1590?"
   ]
  }
 ],
 "metadata": {
  "kernelspec": {
   "display_name": "Python 3",
   "language": "python",
   "name": "python3"
  },
  "language_info": {
   "codemirror_mode": {
    "name": "ipython",
    "version": 3
   },
   "file_extension": ".py",
   "mimetype": "text/x-python",
   "name": "python",
   "nbconvert_exporter": "python",
   "pygments_lexer": "ipython3",
   "version": "3.6.8"
  }
 },
 "nbformat": 4,
 "nbformat_minor": 2
}
