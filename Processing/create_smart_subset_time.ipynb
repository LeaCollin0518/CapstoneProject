{
 "cells": [
  {
   "cell_type": "code",
   "execution_count": 1,
   "metadata": {},
   "outputs": [],
   "source": [
    "import pandas as pd\n",
    "import numpy as np\n",
    "import math"
   ]
  },
  {
   "cell_type": "code",
   "execution_count": null,
   "metadata": {},
   "outputs": [],
   "source": [
    "data_dir = '../Data/cali_example/'\n",
    "save_dir = '../Data/cali_example_overlap_subsets/'"
   ]
  },
  {
   "cell_type": "code",
   "execution_count": null,
   "metadata": {},
   "outputs": [],
   "source": [
    "models = ['AV', 'GS', 'GM']"
   ]
  },
  {
   "cell_type": "code",
   "execution_count": null,
   "metadata": {},
   "outputs": [],
   "source": [
    "av_2005 = pd.read_csv(data_dir + 'AV_2005_align.csv')\n",
    "av_2010 = pd.read_csv(data_dir + 'AV_2010_align.csv')\n",
    "av_2011 = pd.read_csv(data_dir + 'AV_2011_align.csv')\n",
    "gm = pd.read_csv(data_dir + 'gb_gm_ca_mapped_2010_2016/gb_gm_ca_mapped_2010_2016/GM_align_2010_2016.csv')\n",
    "gb = pd.read_csv(data_dir + 'gb_gm_ca_mapped_2010_2016/gb_gm_ca_mapped_2010_2016/GB_align_2010_2016.csv')"
   ]
  },
  {
   "cell_type": "code",
   "execution_count": null,
   "metadata": {},
   "outputs": [],
   "source": [
    "av_2005.columns = ['lon', 'lat', 'pm25']\n",
    "av_2010.columns = ['lon', 'lat', 'pm25'] \n",
    "av_2011.columns = ['lon', 'lat', 'pm25']"
   ]
  },
  {
   "cell_type": "code",
   "execution_count": null,
   "metadata": {},
   "outputs": [],
   "source": [
    "time_2005 = np.repeat(2005, av_2005.shape[0])\n",
    "time_2010 = np.repeat(2010, av_2010.shape[0])\n",
    "time_2011 = np.repeat(2011, av_2011.shape[0])"
   ]
  },
  {
   "cell_type": "code",
   "execution_count": null,
   "metadata": {},
   "outputs": [],
   "source": [
    "av_2005['time'] = time_2005\n",
    "av_2010['time'] = time_2010\n",
    "av_2011['time'] = time_2011"
   ]
  },
  {
   "cell_type": "code",
   "execution_count": null,
   "metadata": {},
   "outputs": [],
   "source": [
    "av_2005_2010 = av_2005.append(av_2010)\n",
    "av_2005_2011 = av_2005_2010.append(av_2011)"
   ]
  },
  {
   "cell_type": "code",
   "execution_count": null,
   "metadata": {},
   "outputs": [],
   "source": [
    "gm_2005_2011 = gm.loc[gm.time.isin([2005, 2010, 2011])]\n",
    "gb_2005_2011 = gb.loc[gb.time.isin([2005, 2010, 2011])]\n",
    "# gm_2005 = gm.loc[gm.time.isin([2005])]\n",
    "# gb_2005 = gb.loc[gb.time.isin([2005])]"
   ]
  },
  {
   "cell_type": "code",
   "execution_count": null,
   "metadata": {},
   "outputs": [],
   "source": [
    "intersecting_lat_lon = pd.merge(av_2005_2011, gm_2005_2011, how='inner', on=['lon', 'lat', 'time'])"
   ]
  },
  {
   "cell_type": "code",
   "execution_count": null,
   "metadata": {},
   "outputs": [],
   "source": [
    "intersecting_lat_lon.head()"
   ]
  },
  {
   "cell_type": "code",
   "execution_count": null,
   "metadata": {},
   "outputs": [],
   "source": [
    "intersecting_lat_lon.columns = ['lon', 'lat', 'pm25_av', 'time', 'Unnamed: 0', 'pm25_gm']"
   ]
  },
  {
   "cell_type": "code",
   "execution_count": null,
   "metadata": {},
   "outputs": [],
   "source": [
    "intersecting_lat_lon_all = pd.merge(gb_2005_2011, intersecting_lat_lon, how = 'inner', on=['lon', 'lat', 'time'])"
   ]
  },
  {
   "cell_type": "code",
   "execution_count": null,
   "metadata": {},
   "outputs": [],
   "source": [
    "intersecting_lat_lon_all.head()"
   ]
  },
  {
   "cell_type": "code",
   "execution_count": null,
   "metadata": {},
   "outputs": [],
   "source": [
    "intersecting_lat_lon_all.columns = ['Unnamed: 0_x', 'time', 'y', 'x', 'pred_gb', 'pred_av', 'Unnamed: 0_y',\n",
    "       'pred_gm']"
   ]
  },
  {
   "cell_type": "code",
   "execution_count": null,
   "metadata": {},
   "outputs": [],
   "source": [
    "intersecting_lat_lon_all = intersecting_lat_lon_all[['time','x', 'y' 'pred_gb', 'pred_av', 'pred_gm']]"
   ]
  },
  {
   "cell_type": "code",
   "execution_count": null,
   "metadata": {},
   "outputs": [],
   "source": [
    "all_preds_file = save_dir + 'predictions_2005_2011.csv'"
   ]
  },
  {
   "cell_type": "code",
   "execution_count": null,
   "metadata": {},
   "outputs": [],
   "source": [
    "intersecting_lat_lon_all.to_csv(all_preds_file, index = False)"
   ]
  },
  {
   "cell_type": "code",
   "execution_count": null,
   "metadata": {},
   "outputs": [],
   "source": [
    "intersecting_lat_lon_all = intersecting_lat_lon_all[~intersecting_lat_lon_all['pm25_av'].isnull()]"
   ]
  },
  {
   "cell_type": "code",
   "execution_count": null,
   "metadata": {},
   "outputs": [],
   "source": [
    "intersecting_lat_lon_all.head()"
   ]
  },
  {
   "cell_type": "code",
   "execution_count": null,
   "metadata": {},
   "outputs": [],
   "source": [
    "av_2005_2011 = intersecting_lat_lon_all[['lon', 'lat', 'pm25_av', 'time']]\n",
    "gm_2005_2011 = intersecting_lat_lon_all[['lon', 'lat', 'pm25_gm', 'time']]\n",
    "gb_2005_2011 = intersecting_lat_lon_all[['lon', 'lat', 'pm25', 'time']]"
   ]
  },
  {
   "cell_type": "code",
   "execution_count": null,
   "metadata": {},
   "outputs": [],
   "source": [
    "av_2005_2011_file = data_dir + 'AV_2005_2011_align.csv'\n",
    "gm_2005_2011_file = data_dir + 'GM_2005_2011_align.csv'\n",
    "gb_2005_2011_file = data_dir + 'GB_2005_2011_align.csv'\n",
    "av_2005_2011.to_csv(av_2005_2011_file, index = False)\n",
    "gm_2005_2011.to_csv(gm_2005_2011_file, index = False)\n",
    "gb_2005_2011.to_csv(gb_2005_2011_file, index = False)"
   ]
  },
  {
   "cell_type": "code",
   "execution_count": null,
   "metadata": {},
   "outputs": [],
   "source": [
    "av_2005_2011.head()"
   ]
  },
  {
   "cell_type": "code",
   "execution_count": null,
   "metadata": {},
   "outputs": [],
   "source": [
    "av_2005_2011.columns = ['lon', 'lat', 'pm25', 'time']\n",
    "gm_2005_2011.columns = ['lon', 'lat', 'pm25', 'time']"
   ]
  },
  {
   "cell_type": "code",
   "execution_count": null,
   "metadata": {},
   "outputs": [],
   "source": [
    "min_lon = min(av_2005_2011.lon)\n",
    "max_lon = max(av_2005_2011.lon)\n",
    "min_lat = min(av_2005_2011.lat)\n",
    "max_lat = max(av_2005_2011.lat)\n",
    "\n",
    "upper_left = (max_lat, min_lon)\n",
    "upper_right = (max_lat, max_lon)\n",
    "lower_left = (min_lat, min_lon)\n",
    "lower_right = (min_lat, max_lon)"
   ]
  },
  {
   "cell_type": "code",
   "execution_count": null,
   "metadata": {},
   "outputs": [],
   "source": [
    "print (upper_left, upper_right, lower_left, lower_right)"
   ]
  },
  {
   "cell_type": "code",
   "execution_count": null,
   "metadata": {},
   "outputs": [],
   "source": [
    "test = av_2005.loc[(av_2005.lon >= min_lon) & (av_2005.lon <= max_lon) & (av_2005.lat >= min_lat) & (av_2005.lat <= max_lat)]\n",
    "test.shape"
   ]
  },
  {
   "cell_type": "code",
   "execution_count": null,
   "metadata": {},
   "outputs": [],
   "source": [
    "X_valid = np.asarray(av_2005_2011[[\"lon\", \"lat\"]].values.tolist()).astype(np.float32)"
   ]
  },
  {
   "cell_type": "code",
   "execution_count": null,
   "metadata": {},
   "outputs": [],
   "source": [
    "X_scale = np.max(X_valid, axis=0) - np.min(X_valid, axis=0)"
   ]
  },
  {
   "cell_type": "code",
   "execution_count": null,
   "metadata": {},
   "outputs": [],
   "source": [
    "X_scale"
   ]
  },
  {
   "cell_type": "code",
   "execution_count": null,
   "metadata": {},
   "outputs": [],
   "source": [
    "X_valid[:5]"
   ]
  },
  {
   "cell_type": "code",
   "execution_count": null,
   "metadata": {},
   "outputs": [],
   "source": [
    "def round_nearest(x, a):\n",
    "    return round(round(x / a) * a, -int(math.floor(math.log10(a))))"
   ]
  },
  {
   "cell_type": "code",
   "execution_count": null,
   "metadata": {},
   "outputs": [],
   "source": [
    "split_range = [X_scale[0]/6, X_scale[1]/6]\n",
    "split_range = [ round(elem, 4) for elem in split_range ]\n",
    "split_lon_range = split_range[0]\n",
    "split_lat_range = split_range[1]\n",
    "print (split_lon_range, split_lat_range)"
   ]
  },
  {
   "cell_type": "code",
   "execution_count": null,
   "metadata": {},
   "outputs": [],
   "source": [
    "start_split_lon = []\n",
    "for i in range(10):\n",
    "    start_split_lon.append(min_lon + i*split_lon_range)\n",
    "    \n",
    "start_split_lat = []\n",
    "for i in range(10):\n",
    "    start_split_lat.append(min_lat + i*split_lat_range)"
   ]
  },
  {
   "cell_type": "code",
   "execution_count": null,
   "metadata": {},
   "outputs": [],
   "source": [
    "a = [round_nearest(x, 0.005) for x in start_split_lat]\n",
    "b = [x + 0.005 if (str(x)[-1] != '5' or len(str(x).split('.')[1]) !=  3) else x for x in a]\n",
    "start_split_lat = [round(x, -int(math.floor(math.log10(0.005)))) for x in b]"
   ]
  },
  {
   "cell_type": "code",
   "execution_count": null,
   "metadata": {},
   "outputs": [],
   "source": [
    "start_split_lat, start_split_lon"
   ]
  },
  {
   "cell_type": "code",
   "execution_count": null,
   "metadata": {},
   "outputs": [],
   "source": [
    "start_split_lon = [round(x, 3) for x in start_split_lon]\n",
    "end_split_lon = start_split_lon[1:]\n",
    "end_split_lon.append(max_lon)\n",
    "start_split_lon = [x - 0.5 for x in start_split_lon[1:]]\n",
    "start_split_lon.insert(0, min_lon)\n",
    "print (start_split_lon)\n",
    "print (end_split_lon)\n",
    "\n",
    "end_split_lat = start_split_lat[1:]\n",
    "end_split_lat.append(max_lat)\n",
    "start_split_lat = [x - 0.5 for x in start_split_lat[1:]]\n",
    "start_split_lat.insert(0, min_lat)\n",
    "\n",
    "lon_range = list(zip(start_split_lon, end_split_lon))\n",
    "lat_range = list(zip(start_split_lat, end_split_lat))"
   ]
  },
  {
   "cell_type": "code",
   "execution_count": null,
   "metadata": {},
   "outputs": [],
   "source": [
    "lat_range"
   ]
  },
  {
   "cell_type": "code",
   "execution_count": null,
   "metadata": {},
   "outputs": [],
   "source": [
    "lon_range"
   ]
  },
  {
   "cell_type": "code",
   "execution_count": null,
   "metadata": {},
   "outputs": [],
   "source": [
    "monthly_pred = pd.DataFrame(columns=['lon', 'lat', 'pm25', 'time'])\n",
    "subset_num = 1\n",
    "num_subset = {'AV' : 1, 'GB' : 1, 'GM' : 1}\n",
    "num_coords = 0\n",
    "models = [av_2005_2011, gm_2005_2011, gb_2005_2011]\n",
    "model_list = ['AV', 'GM', 'GB']\n",
    "\n",
    "for m, model in enumerate(models):\n",
    "    for i in range(len(lat_range)):\n",
    "        for j in range(len(lon_range)):\n",
    "            df_subset = model.loc[(model.lon >= lon_range[j][0]) & (model.lon <= lon_range[j][1]) & (model.lat >= lat_range[i][0]) & (model.lat <= lat_range[i][1])]\n",
    "            df_subset = df_subset[['lon', 'lat', 'pm25', 'time']]\n",
    "            monthly_pred = monthly_pred.append(df_subset)\n",
    "            if (df_subset.shape[0] != 0):\n",
    "                new_file = '{}{}_2005_2011_align.{}.csv'.format(save_dir, model_list[m], num_subset[model_list[m]])\n",
    "#                 print (new_file)\n",
    "                num_subset[model_list[m]] += 1\n",
    "#                 df_subset.to_csv(new_file, index = False)"
   ]
  },
  {
   "cell_type": "code",
   "execution_count": null,
   "metadata": {},
   "outputs": [],
   "source": [
    "print (num_coords/3)"
   ]
  },
  {
   "cell_type": "code",
   "execution_count": null,
   "metadata": {},
   "outputs": [],
   "source": [
    "monthly_pred.drop_duplicates(inplace = True)"
   ]
  },
  {
   "cell_type": "code",
   "execution_count": null,
   "metadata": {},
   "outputs": [],
   "source": [
    "av_jan.shape"
   ]
  },
  {
   "cell_type": "code",
   "execution_count": null,
   "metadata": {},
   "outputs": [],
   "source": [
    "split_range"
   ]
  },
  {
   "cell_type": "code",
   "execution_count": null,
   "metadata": {},
   "outputs": [],
   "source": [
    "split_poitns = []"
   ]
  },
  {
   "cell_type": "code",
   "execution_count": null,
   "metadata": {},
   "outputs": [],
   "source": [
    "#this creates different sized splits\n",
    "\n",
    "num_lon_splits = 6\n",
    "total_coords = 0\n",
    "lon_splits = np.array_split(np.unique(np.sort(av_jan.lon.values)), num_lon_splits)\n",
    "num_subset = {'AV' : 1, 'GS' : 1, 'GM' : 1}\n",
    "\n",
    "for model in models:\n",
    "    model_df = pd.read_csv('{}{}_clean_20101_align.csv'.format(data_dir,model))\n",
    "    for i in range(num_lon_splits):\n",
    "        sub_lon = lon_splits[i]\n",
    "        df_sub = model_df.loc[model_df.lon.isin(sub_lon)]\n",
    "        num_lat_splits = 5\n",
    "        lat_splits = np.array_split(np.unique(np.sort(df_sub.lat.values)), num_lat_splits)\n",
    "        for j in range(num_lat_splits):\n",
    "            sub_lat = lat_splits[j]\n",
    "            df_sub_sub = df_sub.loc[df_sub.lat.isin(sub_lat)]\n",
    "            total_coords += df_sub_sub.shape[0]\n",
    "            new_file = '{}{}_clean_20101_align.{}.csv'.format(data_dir, model, num_subset[model])\n",
    "            print (new_file)\n",
    "            num_subset[model] += 1\n",
    "            print (df_sub_sub.shape)\n",
    "#             df_sub_sub.to_csv(new_file, index = False)"
   ]
  },
  {
   "cell_type": "code",
   "execution_count": null,
   "metadata": {},
   "outputs": [],
   "source": [
    "# using coordinates from R\n",
    "num_coords = 0\n",
    "num_r_subsegs = 36\n",
    "num_subsegs = {'AV' : 0, 'GS' : 0, 'GM' : 0}\n",
    "\n",
    "for model in models:\n",
    "    model_df = pd.read_csv('{}{}_clean_20101_align.csv'.format(data_dir,model))\n",
    "    for i in range(1, num_r_subsegs + 1):\n",
    "        file_name = '{}coordinates_{}.csv'.format(data_dir, i)\n",
    "        coordinates = pd.read_csv(file_name)\n",
    "        lon_list = list(np.around(np.array(np.unique(coordinates.x.values)),3))\n",
    "        lat_list = list(np.around(np.array(np.unique(coordinates.y.values)),3))\n",
    "        df_sub = model_df.loc[(model_df.lon.isin(lon_list)) & (model_df.lat.isin(lat_list))]\n",
    "        if (df_sub.shape[0] != 0):\n",
    "            df_sub = df_sub[['lon', 'lat', 'pm25']]\n",
    "            num_subsegs[model] += 1\n",
    "            new_file = '{}{}_clean_20101_align.{}.csv'.format(data_dir, model, num_subsegs[model])\n",
    "            df_sub.to_csv(new_file, index = False)"
   ]
  },
  {
   "cell_type": "markdown",
   "metadata": {},
   "source": [
    "# Nationwide"
   ]
  },
  {
   "cell_type": "code",
   "execution_count": 46,
   "metadata": {},
   "outputs": [],
   "source": [
    "data_dir = '../Data/nationwide/'\n",
    "save_dir = '../Data/nationwide_subsets/'"
   ]
  },
  {
   "cell_type": "code",
   "execution_count": null,
   "metadata": {},
   "outputs": [],
   "source": [
    "av_2010 = pd.read_csv(data_dir + 'AV_2010_align.csv')"
   ]
  },
  {
   "cell_type": "code",
   "execution_count": null,
   "metadata": {},
   "outputs": [],
   "source": [
    "scott_2010 = pd.read_csv(data_dir + 'scott_2010_align.csv')"
   ]
  },
  {
   "cell_type": "code",
   "execution_count": null,
   "metadata": {},
   "outputs": [],
   "source": [
    "gbd_2010 = pd.read_csv(data_dir + 'GBD_2010_align.csv')"
   ]
  },
  {
   "cell_type": "code",
   "execution_count": null,
   "metadata": {},
   "outputs": [],
   "source": [
    "av_2010.shape, gbd_2010.shape, scott_2010.shape, test_scott_2010.shape"
   ]
  },
  {
   "cell_type": "code",
   "execution_count": 3,
   "metadata": {},
   "outputs": [
    {
     "name": "stdout",
     "output_type": "stream",
     "text": [
      "Index(['lon', 'lat', 'pm25', 'time'], dtype='object')\n",
      "Index(['lon', 'lat', 'pred_AV', 'time'], dtype='object')\n",
      "Index(['lon', 'lat', 'pm25', 'time'], dtype='object')\n",
      "Index(['lon', 'lat', 'pred_AV', 'time'], dtype='object')\n",
      "Index(['lon', 'lat', 'pm25', 'time'], dtype='object')\n",
      "Index(['lon', 'lat', 'pred_AV', 'time'], dtype='object')\n",
      "Index(['lon', 'lat', 'pm25', 'time'], dtype='object')\n",
      "Index(['lon', 'lat', 'pred_AV', 'time'], dtype='object')\n",
      "Index(['lon', 'lat', 'pm25', 'time'], dtype='object')\n",
      "Index(['lon', 'lat', 'pred_AV', 'time'], dtype='object')\n",
      "Index(['lon', 'lat', 'pm25', 'time'], dtype='object')\n",
      "Index(['lon', 'lat', 'pred_AV', 'time'], dtype='object')\n",
      "Index(['lon', 'lat', 'pm25', 'time'], dtype='object')\n",
      "Index(['lon', 'lat', 'pred_AV', 'time'], dtype='object')\n"
     ]
    }
   ],
   "source": [
    "av_2010_2016 = pd.DataFrame(columns=['lon', 'lat', 'pred_AV', 'time'])\n",
    "for i in range(2010, 2017):\n",
    "    av_file_name = '{}AV_{}_align.csv'.format(data_dir, i)\n",
    "    av_i = pd.read_csv(av_file_name)\n",
    "    time_i = np.repeat(i, av_i.shape[0])\n",
    "    av_i['time'] = time_i\n",
    "    print (av_i.columns)\n",
    "    av_i = av_i.rename(columns={\"pm25\": \"pred_AV\"})\n",
    "    print (av_i.columns)\n",
    "    av_2010_2016 = av_2010_2016.append(av_i)\n",
    "\n",
    "av_2010_2016 = av_2010_2016.loc[av_2010_2016.pred_AV != -999.99]"
   ]
  },
  {
   "cell_type": "code",
   "execution_count": 4,
   "metadata": {},
   "outputs": [
    {
     "name": "stdout",
     "output_type": "stream",
     "text": [
      "Index(['time', 'lat', 'lon', 'pm25'], dtype='object')\n",
      "Index(['time', 'lat', 'lon', 'pred_GS'], dtype='object')\n",
      "Index(['time', 'lat', 'lon', 'pm25'], dtype='object')\n",
      "Index(['time', 'lat', 'lon', 'pred_GS'], dtype='object')\n",
      "Index(['time', 'lat', 'lon', 'pm25'], dtype='object')\n",
      "Index(['time', 'lat', 'lon', 'pred_GS'], dtype='object')\n",
      "Index(['time', 'lat', 'lon', 'pm25'], dtype='object')\n",
      "Index(['time', 'lat', 'lon', 'pred_GS'], dtype='object')\n",
      "Index(['time', 'lat', 'lon', 'pm25'], dtype='object')\n",
      "Index(['time', 'lat', 'lon', 'pred_GS'], dtype='object')\n",
      "Index(['time', 'lat', 'lon', 'pm25'], dtype='object')\n",
      "Index(['time', 'lat', 'lon', 'pred_GS'], dtype='object')\n",
      "Index(['time', 'lat', 'lon', 'pm25'], dtype='object')\n",
      "Index(['time', 'lat', 'lon', 'pred_GS'], dtype='object')\n"
     ]
    }
   ],
   "source": [
    "gbd_2010_2016 = pd.DataFrame(columns=['time', 'lat', 'lon', 'pred_GS'])\n",
    "for i in range(2010, 2017):\n",
    "    gbd_file_name = '{}GBD_{}_align.csv'.format(data_dir, i)\n",
    "    gbd_i = pd.read_csv(gbd_file_name)\n",
    "    gbd_i = gbd_i.drop(columns=['Unnamed: 0'])\n",
    "    print(gbd_i.columns)\n",
    "    gbd_i = gbd_i.rename(columns={'pm25': \"pred_GS\"})\n",
    "    print(gbd_i.columns)\n",
    "    gbd_2010_2016 = gbd_2010_2016.append(gbd_i)"
   ]
  },
  {
   "cell_type": "code",
   "execution_count": 21,
   "metadata": {},
   "outputs": [
    {
     "name": "stdout",
     "output_type": "stream",
     "text": [
      "Index(['time', 'x', 'y', 'pm25_obs'], dtype='object')\n",
      "Index(['time', 'x', 'y', 'pm25_obs'], dtype='object')\n",
      "Index(['time', 'x', 'y', 'pm25_obs'], dtype='object')\n",
      "Index(['time', 'x', 'y', 'pm25_obs'], dtype='object')\n",
      "Index(['time', 'x', 'y', 'pm25_obs'], dtype='object')\n",
      "Index(['time', 'x', 'y', 'pm25_obs'], dtype='object')\n",
      "Index(['time', 'x', 'y', 'pm25_obs'], dtype='object')\n"
     ]
    }
   ],
   "source": [
    "observed_2010_2016 = pd.DataFrame(columns = ['time', 'x', 'y', 'pm25_obs'])\n",
    "for i in range(2010, 2017):\n",
    "    obs_file_name = '{}pm25_observed_{}.csv'.format(data_dir, i)\n",
    "    obs_i = pd.read_csv(obs_file_name)\n",
    "    print (obs_i.columns)\n",
    "    observed_2010_2016 = observed_2010_2016.append(obs_i)"
   ]
  },
  {
   "cell_type": "code",
   "execution_count": 23,
   "metadata": {},
   "outputs": [
    {
     "data": {
      "text/plain": [
       "(5861, 4)"
      ]
     },
     "execution_count": 23,
     "metadata": {},
     "output_type": "execute_result"
    }
   ],
   "source": [
    "observed_2010_2016.shape"
   ]
  },
  {
   "cell_type": "code",
   "execution_count": null,
   "metadata": {},
   "outputs": [],
   "source": [
    "scott_2010_2016 = pd.DataFrame(columns=['time', 'lat', 'lon', 'pred_SC'])\n",
    "for i in range(2010, 2017):\n",
    "    scott_file_name = '{}scott_{}_align.csv'.format(data_dir, i)\n",
    "    scott_i = pd.read_csv(scott_file_name)\n",
    "    scott_i = scott_i.drop(columns=['Unnamed: 0'])\n",
    "    print(scott_i.columns)\n",
    "    scott_i = scott_i.rename(columns={'pm25': \"pred_SC\"})\n",
    "    print(scott_i.columns)\n",
    "    scott_2010_2016 = scott_2010_2016.append(scott_i)"
   ]
  },
  {
   "cell_type": "code",
   "execution_count": 5,
   "metadata": {},
   "outputs": [],
   "source": [
    "cmaq_2010_2016 = pd.read_csv('{}mapped_cmaq.csv'.format(data_dir))"
   ]
  },
  {
   "cell_type": "code",
   "execution_count": 6,
   "metadata": {},
   "outputs": [],
   "source": [
    "cmaq_2010_2016 = cmaq_2010_2016.drop(columns = ['GEOID'])"
   ]
  },
  {
   "cell_type": "code",
   "execution_count": 7,
   "metadata": {},
   "outputs": [],
   "source": [
    "cmaq_2010_2016 = cmaq_2010_2016.rename(columns={\"pm25\": \"pred_CM\"})"
   ]
  },
  {
   "cell_type": "code",
   "execution_count": 8,
   "metadata": {},
   "outputs": [],
   "source": [
    "cmaq_2010_2016 = cmaq_2010_2016.dropna()"
   ]
  },
  {
   "cell_type": "code",
   "execution_count": 9,
   "metadata": {},
   "outputs": [
    {
     "data": {
      "text/plain": [
       "lon        float64\n",
       "lat        float64\n",
       "pred_CM    float64\n",
       "time       float64\n",
       "dtype: object"
      ]
     },
     "execution_count": 9,
     "metadata": {},
     "output_type": "execute_result"
    }
   ],
   "source": [
    "cmaq_2010_2016.dtypes"
   ]
  },
  {
   "cell_type": "code",
   "execution_count": 10,
   "metadata": {},
   "outputs": [],
   "source": [
    "cmaq_2010_2016 = cmaq_2010_2016.astype({'time': 'int64'})"
   ]
  },
  {
   "cell_type": "code",
   "execution_count": 11,
   "metadata": {},
   "outputs": [
    {
     "data": {
      "text/plain": [
       "lon        float64\n",
       "lat        float64\n",
       "pred_CM    float64\n",
       "time         int64\n",
       "dtype: object"
      ]
     },
     "execution_count": 11,
     "metadata": {},
     "output_type": "execute_result"
    }
   ],
   "source": [
    "cmaq_2010_2016.dtypes"
   ]
  },
  {
   "cell_type": "code",
   "execution_count": 12,
   "metadata": {},
   "outputs": [
    {
     "data": {
      "text/plain": [
       "(8273037.0, 8348297.0, 8186013.0)"
      ]
     },
     "execution_count": 12,
     "metadata": {},
     "output_type": "execute_result"
    }
   ],
   "source": [
    "av_2010_2016.shape[0]/7, gbd_2010_2016.shape[0]/7, cmaq_2010_2016.shape[0]/7"
   ]
  },
  {
   "cell_type": "code",
   "execution_count": 24,
   "metadata": {},
   "outputs": [],
   "source": [
    "# tri-state bounding box \n",
    "\n",
    "min_lon = -124.41\n",
    "max_lon = -114.13\n",
    "min_lat = 32.53\n",
    "max_lat = 42.01"
   ]
  },
  {
   "cell_type": "code",
   "execution_count": 27,
   "metadata": {},
   "outputs": [],
   "source": [
    "def filter_state(df, min_lon, max_lon, min_lat, max_lat):\n",
    "    out = df[(df.lat>=min_lat) & (df.lat<=max_lat) & \\\n",
    "    (df.lon>=min_lon) & (df.lon<=max_lon)]\n",
    "    \n",
    "    return out"
   ]
  },
  {
   "cell_type": "code",
   "execution_count": 28,
   "metadata": {},
   "outputs": [],
   "source": [
    "observed_2010_2016_CA = filter_state(observed_2010_2016, min_lon, max_lon, min_lat, max_lat)"
   ]
  },
  {
   "cell_type": "code",
   "execution_count": 30,
   "metadata": {},
   "outputs": [
    {
     "data": {
      "text/plain": [
       "88.71428571428571"
      ]
     },
     "execution_count": 30,
     "metadata": {},
     "output_type": "execute_result"
    }
   ],
   "source": [
    "observed_2010_2016_CA.shape[0]"
   ]
  },
  {
   "cell_type": "code",
   "execution_count": 31,
   "metadata": {},
   "outputs": [],
   "source": [
    "observed_2010_2016_CA.to_csv('CA_observed_2010_2016.csv', header = False)"
   ]
  },
  {
   "cell_type": "code",
   "execution_count": 14,
   "metadata": {},
   "outputs": [],
   "source": [
    "av_2010_2016 = filter_state(av_2010_2016, min_lon, max_lon, min_lat, max_lat)\n",
    "gbd_2010_2016 = filter_state(gbd_2010_2016, min_lon, max_lon, min_lat, max_lat)\n",
    "cmaq_2010_2016 = filter_state(cmaq_2010_2016, min_lon, max_lon, min_lat, max_lat)"
   ]
  },
  {
   "cell_type": "code",
   "execution_count": 19,
   "metadata": {},
   "outputs": [
    {
     "data": {
      "text/plain": [
       "(729301.0, 724588.0, 727962.0)"
      ]
     },
     "execution_count": 19,
     "metadata": {},
     "output_type": "execute_result"
    }
   ],
   "source": [
    "av_2010_2016.shape[0]/7, gbd_2010_2016.shape[0]/7, cmaq_2010_2016.shape[0]/7"
   ]
  },
  {
   "cell_type": "code",
   "execution_count": 13,
   "metadata": {},
   "outputs": [],
   "source": [
    "intersecting_av_gbd = pd.merge(av_2010_2016, gbd_2010_2016, how = 'inner', on=['time', 'lon', 'lat'])"
   ]
  },
  {
   "cell_type": "code",
   "execution_count": 14,
   "metadata": {},
   "outputs": [],
   "source": [
    "intersecting_all = pd.merge(intersecting_av_gbd, cmaq_2010_2016, how = 'inner', on=['time', 'lon', 'lat'])"
   ]
  },
  {
   "cell_type": "code",
   "execution_count": null,
   "metadata": {},
   "outputs": [],
   "source": [
    "intersecting_av_scott = pd.merge(av_2010_2016, scott_2010_2016, how = 'inner', on=['time','lon', 'lat'])"
   ]
  },
  {
   "cell_type": "code",
   "execution_count": null,
   "metadata": {},
   "outputs": [],
   "source": [
    "intersecting_av_gbd_scott = pd.merge(intersecting_av_scott, gbd_2010_2016, how = 'inner', on=['time','lat','lon'])"
   ]
  },
  {
   "cell_type": "code",
   "execution_count": null,
   "metadata": {},
   "outputs": [],
   "source": [
    "intersecting_all = pd.merge(intersecting_av_gbd_scott, cmaq_2010_2016, how = 'inner', on=['time', 'lat', 'lon'])"
   ]
  },
  {
   "cell_type": "code",
   "execution_count": 16,
   "metadata": {},
   "outputs": [
    {
     "data": {
      "text/html": [
       "<div>\n",
       "<style scoped>\n",
       "    .dataframe tbody tr th:only-of-type {\n",
       "        vertical-align: middle;\n",
       "    }\n",
       "\n",
       "    .dataframe tbody tr th {\n",
       "        vertical-align: top;\n",
       "    }\n",
       "\n",
       "    .dataframe thead th {\n",
       "        text-align: right;\n",
       "    }\n",
       "</style>\n",
       "<table border=\"1\" class=\"dataframe\">\n",
       "  <thead>\n",
       "    <tr style=\"text-align: right;\">\n",
       "      <th></th>\n",
       "      <th>lon</th>\n",
       "      <th>lat</th>\n",
       "      <th>pred_AV</th>\n",
       "      <th>time</th>\n",
       "      <th>pred_GS</th>\n",
       "      <th>pred_CM</th>\n",
       "    </tr>\n",
       "  </thead>\n",
       "  <tbody>\n",
       "    <tr>\n",
       "      <th>0</th>\n",
       "      <td>-95.145</td>\n",
       "      <td>49.375</td>\n",
       "      <td>5.1</td>\n",
       "      <td>2010</td>\n",
       "      <td>5.897139</td>\n",
       "      <td>7.13877</td>\n",
       "    </tr>\n",
       "    <tr>\n",
       "      <th>1</th>\n",
       "      <td>-95.145</td>\n",
       "      <td>49.365</td>\n",
       "      <td>5.1</td>\n",
       "      <td>2010</td>\n",
       "      <td>5.897139</td>\n",
       "      <td>7.13877</td>\n",
       "    </tr>\n",
       "    <tr>\n",
       "      <th>2</th>\n",
       "      <td>-95.135</td>\n",
       "      <td>49.365</td>\n",
       "      <td>5.1</td>\n",
       "      <td>2010</td>\n",
       "      <td>5.897139</td>\n",
       "      <td>7.13877</td>\n",
       "    </tr>\n",
       "    <tr>\n",
       "      <th>3</th>\n",
       "      <td>-95.125</td>\n",
       "      <td>49.365</td>\n",
       "      <td>5.2</td>\n",
       "      <td>2010</td>\n",
       "      <td>5.897139</td>\n",
       "      <td>7.13877</td>\n",
       "    </tr>\n",
       "    <tr>\n",
       "      <th>4</th>\n",
       "      <td>-95.115</td>\n",
       "      <td>49.365</td>\n",
       "      <td>5.2</td>\n",
       "      <td>2010</td>\n",
       "      <td>5.897139</td>\n",
       "      <td>7.13877</td>\n",
       "    </tr>\n",
       "  </tbody>\n",
       "</table>\n",
       "</div>"
      ],
      "text/plain": [
       "      lon     lat  pred_AV  time   pred_GS  pred_CM\n",
       "0 -95.145  49.375      5.1  2010  5.897139  7.13877\n",
       "1 -95.145  49.365      5.1  2010  5.897139  7.13877\n",
       "2 -95.135  49.365      5.1  2010  5.897139  7.13877\n",
       "3 -95.125  49.365      5.2  2010  5.897139  7.13877\n",
       "4 -95.115  49.365      5.2  2010  5.897139  7.13877"
      ]
     },
     "execution_count": 16,
     "metadata": {},
     "output_type": "execute_result"
    }
   ],
   "source": [
    "intersecting_all.head()"
   ]
  },
  {
   "cell_type": "code",
   "execution_count": null,
   "metadata": {},
   "outputs": [],
   "source": [
    "intersecting_av_gbd_scott.shape[0]/7"
   ]
  },
  {
   "cell_type": "code",
   "execution_count": 15,
   "metadata": {},
   "outputs": [
    {
     "data": {
      "text/plain": [
       "8142295.0"
      ]
     },
     "execution_count": 15,
     "metadata": {},
     "output_type": "execute_result"
    }
   ],
   "source": [
    "intersecting_all.shape[0]/7"
   ]
  },
  {
   "cell_type": "code",
   "execution_count": 17,
   "metadata": {},
   "outputs": [
    {
     "data": {
      "text/plain": [
       "Index(['lon', 'lat', 'pred_AV', 'time', 'pred_GS', 'pred_CM'], dtype='object')"
      ]
     },
     "execution_count": 17,
     "metadata": {},
     "output_type": "execute_result"
    }
   ],
   "source": [
    "intersecting_all.columns"
   ]
  },
  {
   "cell_type": "code",
   "execution_count": null,
   "metadata": {},
   "outputs": [],
   "source": [
    "intersecting_av_gbd_scott.shape[0]/7"
   ]
  },
  {
   "cell_type": "code",
   "execution_count": null,
   "metadata": {},
   "outputs": [],
   "source": [
    "intersecting_av_gbd_scott.head()"
   ]
  },
  {
   "cell_type": "code",
   "execution_count": null,
   "metadata": {},
   "outputs": [],
   "source": [
    "intersecting_av_gbd_scott.columns"
   ]
  },
  {
   "cell_type": "code",
   "execution_count": 18,
   "metadata": {},
   "outputs": [],
   "source": [
    "all_pred_file = '{}USA_predictions_2010_2016_AV_GBD_CMAQ.csv'.format(data_dir)\n",
    "intersecting_all.to_csv(all_pred_file, index = False)  "
   ]
  },
  {
   "cell_type": "code",
   "execution_count": null,
   "metadata": {},
   "outputs": [],
   "source": [
    "intersecting_av_gbd_scott.head()"
   ]
  },
  {
   "cell_type": "code",
   "execution_count": null,
   "metadata": {},
   "outputs": [],
   "source": [
    "intersecting_av_gbd_scott.shape"
   ]
  },
  {
   "cell_type": "code",
   "execution_count": 24,
   "metadata": {},
   "outputs": [],
   "source": [
    "intersecting_av_gbd_scott = pd.read_csv('{}USA_predictions_2010_2016_AV_GBD_CMAQ.csv'.format(data_dir))"
   ]
  },
  {
   "cell_type": "code",
   "execution_count": 25,
   "metadata": {},
   "outputs": [
    {
     "data": {
      "text/plain": [
       "8142295.0"
      ]
     },
     "execution_count": 25,
     "metadata": {},
     "output_type": "execute_result"
    }
   ],
   "source": [
    "intersecting_av_gbd_scott.shape[0]/7"
   ]
  },
  {
   "cell_type": "code",
   "execution_count": 23,
   "metadata": {},
   "outputs": [
    {
     "data": {
      "text/plain": [
       "8142295.0"
      ]
     },
     "execution_count": 23,
     "metadata": {},
     "output_type": "execute_result"
    }
   ],
   "source": [
    "intersecting_all.shape[0]/7"
   ]
  },
  {
   "cell_type": "code",
   "execution_count": 51,
   "metadata": {},
   "outputs": [
    {
     "data": {
      "text/plain": [
       "Index(['lon', 'lat', 'time', 'pred_AV', 'pred_GS', 'pred_CM'], dtype='object')"
      ]
     },
     "execution_count": 51,
     "metadata": {},
     "output_type": "execute_result"
    }
   ],
   "source": [
    "intersecting_av_gbd_scott.columns"
   ]
  },
  {
   "cell_type": "code",
   "execution_count": 50,
   "metadata": {},
   "outputs": [
    {
     "data": {
      "text/plain": [
       "8142295.0"
      ]
     },
     "execution_count": 50,
     "metadata": {},
     "output_type": "execute_result"
    }
   ],
   "source": [
    "intersecting_av_gbd_scott.shape[0]/7"
   ]
  },
  {
   "cell_type": "code",
   "execution_count": 52,
   "metadata": {},
   "outputs": [
    {
     "name": "stdout",
     "output_type": "stream",
     "text": [
      "USA_AV_2010_2016_align.csv\n",
      "USA_GS_2010_2016_align.csv\n",
      "USA_CM_2010_2016_align.csv\n"
     ]
    }
   ],
   "source": [
    "all_models = ['AV', 'GS', 'CM']\n",
    "for m in all_models:\n",
    "    pred_name = 'pred_{}'.format(m)\n",
    "    pred_subset = intersecting_av_gbd_scott[['lon', 'lat', 'time', pred_name]]\n",
    "    pred_subset = pred_subset.rename(columns={pred_name: \"pm25\"})\n",
    "    new_file = 'USA_{}_2010_2016_align.csv'.format(m)\n",
    "    print (new_file)\n",
    "    pred_subset.to_csv(new_file, index = False)"
   ]
  },
  {
   "cell_type": "code",
   "execution_count": null,
   "metadata": {},
   "outputs": [],
   "source": [
    "intersecting_av_gbd_scott.shape"
   ]
  },
  {
   "cell_type": "code",
   "execution_count": null,
   "metadata": {},
   "outputs": [],
   "source": [
    "intersecting_av_gbd_scott.shape"
   ]
  },
  {
   "cell_type": "code",
   "execution_count": 47,
   "metadata": {},
   "outputs": [
    {
     "data": {
      "text/html": [
       "<div>\n",
       "<style scoped>\n",
       "    .dataframe tbody tr th:only-of-type {\n",
       "        vertical-align: middle;\n",
       "    }\n",
       "\n",
       "    .dataframe tbody tr th {\n",
       "        vertical-align: top;\n",
       "    }\n",
       "\n",
       "    .dataframe thead th {\n",
       "        text-align: right;\n",
       "    }\n",
       "</style>\n",
       "<table border=\"1\" class=\"dataframe\">\n",
       "  <thead>\n",
       "    <tr style=\"text-align: right;\">\n",
       "      <th></th>\n",
       "      <th>lon</th>\n",
       "      <th>lat</th>\n",
       "      <th>time</th>\n",
       "      <th>pred_AV</th>\n",
       "      <th>pred_GS</th>\n",
       "      <th>pred_CM</th>\n",
       "    </tr>\n",
       "  </thead>\n",
       "  <tbody>\n",
       "    <tr>\n",
       "      <th>0</th>\n",
       "      <td>-124.195</td>\n",
       "      <td>42.005</td>\n",
       "      <td>2010</td>\n",
       "      <td>3.5</td>\n",
       "      <td>4.944805</td>\n",
       "      <td>5.367877</td>\n",
       "    </tr>\n",
       "    <tr>\n",
       "      <th>1</th>\n",
       "      <td>-124.185</td>\n",
       "      <td>42.005</td>\n",
       "      <td>2010</td>\n",
       "      <td>3.5</td>\n",
       "      <td>4.944805</td>\n",
       "      <td>5.367877</td>\n",
       "    </tr>\n",
       "    <tr>\n",
       "      <th>2</th>\n",
       "      <td>-124.175</td>\n",
       "      <td>42.005</td>\n",
       "      <td>2010</td>\n",
       "      <td>3.5</td>\n",
       "      <td>4.944805</td>\n",
       "      <td>5.367877</td>\n",
       "    </tr>\n",
       "    <tr>\n",
       "      <th>3</th>\n",
       "      <td>-124.165</td>\n",
       "      <td>42.005</td>\n",
       "      <td>2010</td>\n",
       "      <td>3.5</td>\n",
       "      <td>4.944805</td>\n",
       "      <td>5.367877</td>\n",
       "    </tr>\n",
       "    <tr>\n",
       "      <th>4</th>\n",
       "      <td>-124.155</td>\n",
       "      <td>42.005</td>\n",
       "      <td>2010</td>\n",
       "      <td>3.5</td>\n",
       "      <td>4.944805</td>\n",
       "      <td>5.367877</td>\n",
       "    </tr>\n",
       "  </tbody>\n",
       "</table>\n",
       "</div>"
      ],
      "text/plain": [
       "       lon     lat  time  pred_AV   pred_GS   pred_CM\n",
       "0 -124.195  42.005  2010      3.5  4.944805  5.367877\n",
       "1 -124.185  42.005  2010      3.5  4.944805  5.367877\n",
       "2 -124.175  42.005  2010      3.5  4.944805  5.367877\n",
       "3 -124.165  42.005  2010      3.5  4.944805  5.367877\n",
       "4 -124.155  42.005  2010      3.5  4.944805  5.367877"
      ]
     },
     "execution_count": 47,
     "metadata": {},
     "output_type": "execute_result"
    }
   ],
   "source": [
    "intersecting_av_gbd_scott.head()"
   ]
  },
  {
   "cell_type": "code",
   "execution_count": null,
   "metadata": {},
   "outputs": [],
   "source": [
    "intersecting_av_gbd_scott.head()"
   ]
  },
  {
   "cell_type": "code",
   "execution_count": 36,
   "metadata": {},
   "outputs": [],
   "source": [
    "one_year = intersecting_av_gbd_scott.loc[intersecting_av_gbd_scott.time == 2010]"
   ]
  },
  {
   "cell_type": "code",
   "execution_count": 31,
   "metadata": {},
   "outputs": [
    {
     "data": {
      "text/plain": [
       "722912"
      ]
     },
     "execution_count": 31,
     "metadata": {},
     "output_type": "execute_result"
    }
   ],
   "source": [
    "one_year.shape[0]"
   ]
  },
  {
   "cell_type": "code",
   "execution_count": 37,
   "metadata": {},
   "outputs": [],
   "source": [
    "min_lon = min(one_year.lon)\n",
    "max_lon = max(one_year.lon)\n",
    "min_lat = min(one_year.lat)\n",
    "max_lat = max(one_year.lat)"
   ]
  },
  {
   "cell_type": "code",
   "execution_count": 38,
   "metadata": {},
   "outputs": [],
   "source": [
    "X_valid = np.asarray(one_year[[\"lon\", \"lat\"]].values.tolist()).astype(np.float32)\n",
    "X_scale = np.max(X_valid, axis=0) - np.min(X_valid, axis=0)"
   ]
  },
  {
   "cell_type": "code",
   "execution_count": 39,
   "metadata": {},
   "outputs": [],
   "source": [
    "def round_nearest(x, a):\n",
    "    return round(round(x / a) * a, -int(math.floor(math.log10(a))))"
   ]
  },
  {
   "cell_type": "code",
   "execution_count": 40,
   "metadata": {},
   "outputs": [],
   "source": [
    "def round_location(locations):\n",
    "    round_loc = [round_nearest(x, 0.005) for x in locations]\n",
    "    round_loc = [x + 0.005 if (str(x)[-1] != '5' or len(str(x).split('.')[1]) !=  3) else x for x in round_loc]\n",
    "    round_loc =  [round(x, -int(math.floor(math.log10(0.005)))) for x in round_loc]\n",
    "    return round_loc"
   ]
  },
  {
   "cell_type": "code",
   "execution_count": 41,
   "metadata": {},
   "outputs": [],
   "source": [
    "def get_splits(X_val, num_splits):\n",
    "    split_range = [X_scale[0]/num_splits, X_scale[1]/num_splits]\n",
    "    split_range = [round(elem, 4) for elem in split_range ]\n",
    "    split_lon_range = split_range[0]\n",
    "    split_lat_range = split_range[1]\n",
    "\n",
    "    start_split_lon = []\n",
    "    for i in range(num_splits):\n",
    "        start_split_lon.append(min_lon + i*split_lon_range)\n",
    "\n",
    "    start_split_lat = []\n",
    "    for i in range(num_splits):\n",
    "        start_split_lat.append(min_lat + i*split_lat_range)\n",
    "\n",
    "    start_split_lon = round_location(start_split_lon)\n",
    "    start_split_lat = round_location(start_split_lat)\n",
    "    \n",
    "    end_split_lon = start_split_lon[1:]\n",
    "    end_split_lon.append(max_lon)\n",
    "    start_split_lon = [x - 0.5 for x in start_split_lon[1:]]\n",
    "    start_split_lon.insert(0, min_lon)\n",
    "\n",
    "    end_split_lat = start_split_lat[1:]\n",
    "    end_split_lat.append(max_lat)\n",
    "    start_split_lat = [x - 0.5 for x in start_split_lat[1:]]\n",
    "    start_split_lat.insert(0, min_lat)\n",
    "    \n",
    "    lon_range = list(zip(start_split_lon, end_split_lon))\n",
    "    lat_range = list(zip(start_split_lat, end_split_lat))\n",
    "    \n",
    "    return lon_range, lat_range"
   ]
  },
  {
   "cell_type": "code",
   "execution_count": 42,
   "metadata": {},
   "outputs": [],
   "source": [
    "lon_range, lat_range = get_splits(X_valid, 50)"
   ]
  },
  {
   "cell_type": "code",
   "execution_count": 43,
   "metadata": {},
   "outputs": [],
   "source": [
    "intersecting_av_gbd_scott = intersecting_av_gbd_scott[['lon', 'lat', 'time', 'pred_AV', 'pred_GS', 'pred_CM']]"
   ]
  },
  {
   "cell_type": "code",
   "execution_count": 48,
   "metadata": {},
   "outputs": [
    {
     "name": "stdout",
     "output_type": "stream",
     "text": [
      "(917, 6)\n",
      "Index(['lon', 'lat', 'time', 'pred_AV'], dtype='object')\n",
      "Index(['lon', 'lat', 'time', 'pm25'], dtype='object')\n",
      "../Data/nationwide_subsets/AV_2010_2016_align.1.csv\n",
      "            lon     lat  time  pm25\n",
      "8142164 -81.565  24.695  2010   7.7\n",
      "8142165 -81.555  24.695  2010   7.7\n",
      "8142166 -81.545  24.695  2010   7.7\n",
      "8142167 -81.535  24.695  2010   7.7\n",
      "8142168 -81.525  24.695  2010   7.7\n",
      "Index(['lon', 'lat', 'time', 'pred_GS'], dtype='object')\n",
      "Index(['lon', 'lat', 'time', 'pm25'], dtype='object')\n",
      "../Data/nationwide_subsets/GS_2010_2016_align.1.csv\n",
      "            lon     lat  time      pm25\n",
      "8142164 -81.565  24.695  2010  6.099124\n",
      "8142165 -81.555  24.695  2010  6.099124\n",
      "8142166 -81.545  24.695  2010  6.099124\n",
      "8142167 -81.535  24.695  2010  6.099124\n",
      "8142168 -81.525  24.695  2010  6.099124\n",
      "Index(['lon', 'lat', 'time', 'pred_CM'], dtype='object')\n",
      "Index(['lon', 'lat', 'time', 'pm25'], dtype='object')\n",
      "../Data/nationwide_subsets/CM_2010_2016_align.1.csv\n",
      "            lon     lat  time      pm25\n",
      "8142164 -81.565  24.695  2010  6.012526\n",
      "8142165 -81.555  24.695  2010  6.012526\n",
      "8142166 -81.545  24.695  2010  6.012526\n",
      "8142167 -81.535  24.695  2010  6.017575\n",
      "8142168 -81.525  24.695  2010  6.017575\n",
      "DF Subset: (133, 6)\n",
      "(1050, 6)\n",
      "Index(['lon', 'lat', 'time', 'pm25'], dtype='object')\n",
      "            lon     lat  time  pm25\n",
      "8142164 -81.565  24.695  2010   7.7\n",
      "8142165 -81.555  24.695  2010   7.7\n",
      "8142166 -81.545  24.695  2010   7.7\n",
      "8142167 -81.535  24.695  2010   7.7\n",
      "8142168 -81.525  24.695  2010   7.7\n",
      "Index(['lon', 'lat', 'time', 'pm25'], dtype='object')\n",
      "            lon     lat  time      pm25\n",
      "8142164 -81.565  24.695  2010  6.099124\n",
      "8142165 -81.555  24.695  2010  6.099124\n",
      "8142166 -81.545  24.695  2010  6.099124\n",
      "8142167 -81.535  24.695  2010  6.099124\n",
      "8142168 -81.525  24.695  2010  6.099124\n",
      "Index(['lon', 'lat', 'time', 'pm25'], dtype='object')\n",
      "            lon     lat  time      pm25\n",
      "8142164 -81.565  24.695  2010  6.012526\n",
      "8142165 -81.555  24.695  2010  6.012526\n",
      "8142166 -81.545  24.695  2010  6.012526\n",
      "8142167 -81.535  24.695  2010  6.017575\n",
      "8142168 -81.525  24.695  2010  6.017575\n"
     ]
    },
    {
     "ename": "KeyboardInterrupt",
     "evalue": "",
     "output_type": "error",
     "traceback": [
      "\u001b[1;31m---------------------------------------------------------------------------\u001b[0m",
      "\u001b[1;31mKeyboardInterrupt\u001b[0m                         Traceback (most recent call last)",
      "\u001b[1;32m<ipython-input-48-9f03d821f2da>\u001b[0m in \u001b[0;36m<module>\u001b[1;34m\u001b[0m\n\u001b[0;32m      9\u001b[0m \u001b[1;32mfor\u001b[0m \u001b[0mi\u001b[0m \u001b[1;32min\u001b[0m \u001b[0mrange\u001b[0m\u001b[1;33m(\u001b[0m\u001b[0mlen\u001b[0m\u001b[1;33m(\u001b[0m\u001b[0mlat_range\u001b[0m\u001b[1;33m)\u001b[0m\u001b[1;33m)\u001b[0m\u001b[1;33m:\u001b[0m\u001b[1;33m\u001b[0m\u001b[1;33m\u001b[0m\u001b[0m\n\u001b[0;32m     10\u001b[0m     \u001b[1;32mfor\u001b[0m \u001b[0mj\u001b[0m \u001b[1;32min\u001b[0m \u001b[0mrange\u001b[0m\u001b[1;33m(\u001b[0m\u001b[0mlen\u001b[0m\u001b[1;33m(\u001b[0m\u001b[0mlon_range\u001b[0m\u001b[1;33m)\u001b[0m\u001b[1;33m)\u001b[0m\u001b[1;33m:\u001b[0m\u001b[1;33m\u001b[0m\u001b[1;33m\u001b[0m\u001b[0m\n\u001b[1;32m---> 11\u001b[1;33m         \u001b[0mdf_subset\u001b[0m \u001b[1;33m=\u001b[0m \u001b[0mmodel\u001b[0m\u001b[1;33m.\u001b[0m\u001b[0mloc\u001b[0m\u001b[1;33m[\u001b[0m\u001b[1;33m(\u001b[0m\u001b[0mmodel\u001b[0m\u001b[1;33m.\u001b[0m\u001b[0mlon\u001b[0m \u001b[1;33m>=\u001b[0m \u001b[0mlon_range\u001b[0m\u001b[1;33m[\u001b[0m\u001b[0mj\u001b[0m\u001b[1;33m]\u001b[0m\u001b[1;33m[\u001b[0m\u001b[1;36m0\u001b[0m\u001b[1;33m]\u001b[0m\u001b[1;33m)\u001b[0m \u001b[1;33m&\u001b[0m \u001b[1;33m(\u001b[0m\u001b[0mmodel\u001b[0m\u001b[1;33m.\u001b[0m\u001b[0mlon\u001b[0m \u001b[1;33m<=\u001b[0m \u001b[0mlon_range\u001b[0m\u001b[1;33m[\u001b[0m\u001b[0mj\u001b[0m\u001b[1;33m]\u001b[0m\u001b[1;33m[\u001b[0m\u001b[1;36m1\u001b[0m\u001b[1;33m]\u001b[0m\u001b[1;33m)\u001b[0m \u001b[1;33m&\u001b[0m \u001b[1;33m(\u001b[0m\u001b[0mmodel\u001b[0m\u001b[1;33m.\u001b[0m\u001b[0mlat\u001b[0m \u001b[1;33m>=\u001b[0m \u001b[0mlat_range\u001b[0m\u001b[1;33m[\u001b[0m\u001b[0mi\u001b[0m\u001b[1;33m]\u001b[0m\u001b[1;33m[\u001b[0m\u001b[1;36m0\u001b[0m\u001b[1;33m]\u001b[0m\u001b[1;33m)\u001b[0m \u001b[1;33m&\u001b[0m \u001b[1;33m(\u001b[0m\u001b[0mmodel\u001b[0m\u001b[1;33m.\u001b[0m\u001b[0mlat\u001b[0m \u001b[1;33m<=\u001b[0m \u001b[0mlat_range\u001b[0m\u001b[1;33m[\u001b[0m\u001b[0mi\u001b[0m\u001b[1;33m]\u001b[0m\u001b[1;33m[\u001b[0m\u001b[1;36m1\u001b[0m\u001b[1;33m]\u001b[0m\u001b[1;33m)\u001b[0m\u001b[1;33m]\u001b[0m\u001b[1;33m\u001b[0m\u001b[1;33m\u001b[0m\u001b[0m\n\u001b[0m\u001b[0;32m     12\u001b[0m         \u001b[0mdf_subset\u001b[0m \u001b[1;33m=\u001b[0m \u001b[0mdf_subset\u001b[0m\u001b[1;33m[\u001b[0m\u001b[1;33m[\u001b[0m\u001b[1;34m'lon'\u001b[0m\u001b[1;33m,\u001b[0m \u001b[1;34m'lat'\u001b[0m\u001b[1;33m,\u001b[0m \u001b[1;34m'time'\u001b[0m\u001b[1;33m,\u001b[0m \u001b[1;34m'pred_AV'\u001b[0m\u001b[1;33m,\u001b[0m \u001b[1;34m'pred_GS'\u001b[0m\u001b[1;33m,\u001b[0m \u001b[1;34m'pred_CM'\u001b[0m\u001b[1;33m]\u001b[0m\u001b[1;33m]\u001b[0m\u001b[1;33m\u001b[0m\u001b[1;33m\u001b[0m\u001b[0m\n\u001b[0;32m     13\u001b[0m         \u001b[1;32mif\u001b[0m \u001b[1;33m(\u001b[0m\u001b[0mdf_subset\u001b[0m\u001b[1;33m.\u001b[0m\u001b[0mshape\u001b[0m\u001b[1;33m[\u001b[0m\u001b[1;36m0\u001b[0m\u001b[1;33m]\u001b[0m \u001b[1;33m!=\u001b[0m \u001b[1;36m0\u001b[0m\u001b[1;33m)\u001b[0m\u001b[1;33m:\u001b[0m\u001b[1;33m\u001b[0m\u001b[1;33m\u001b[0m\u001b[0m\n",
      "\u001b[1;32mc:\\users\\leac7\\appdata\\local\\programs\\python\\python36\\lib\\site-packages\\pandas\\core\\ops.py\u001b[0m in \u001b[0;36mwrapper\u001b[1;34m(self, other)\u001b[0m\n\u001b[0;32m   1851\u001b[0m         unfilled = self._constructor(res_values,\n\u001b[0;32m   1852\u001b[0m                                      index=self.index, name=res_name)\n\u001b[1;32m-> 1853\u001b[1;33m         \u001b[0mfilled\u001b[0m \u001b[1;33m=\u001b[0m \u001b[0mfiller\u001b[0m\u001b[1;33m(\u001b[0m\u001b[0munfilled\u001b[0m\u001b[1;33m)\u001b[0m\u001b[1;33m\u001b[0m\u001b[1;33m\u001b[0m\u001b[0m\n\u001b[0m\u001b[0;32m   1854\u001b[0m         \u001b[1;32mreturn\u001b[0m \u001b[0mfinalizer\u001b[0m\u001b[1;33m(\u001b[0m\u001b[0mfilled\u001b[0m\u001b[1;33m)\u001b[0m\u001b[1;33m\u001b[0m\u001b[1;33m\u001b[0m\u001b[0m\n\u001b[0;32m   1855\u001b[0m \u001b[1;33m\u001b[0m\u001b[0m\n",
      "\u001b[1;32mc:\\users\\leac7\\appdata\\local\\programs\\python\\python36\\lib\\site-packages\\pandas\\core\\ops.py\u001b[0m in \u001b[0;36m<lambda>\u001b[1;34m(x)\u001b[0m\n\u001b[0;32m   1813\u001b[0m \u001b[1;33m\u001b[0m\u001b[0m\n\u001b[0;32m   1814\u001b[0m     \u001b[0mfill_int\u001b[0m \u001b[1;33m=\u001b[0m \u001b[1;32mlambda\u001b[0m \u001b[0mx\u001b[0m\u001b[1;33m:\u001b[0m \u001b[0mx\u001b[0m\u001b[1;33m.\u001b[0m\u001b[0mfillna\u001b[0m\u001b[1;33m(\u001b[0m\u001b[1;36m0\u001b[0m\u001b[1;33m)\u001b[0m\u001b[1;33m\u001b[0m\u001b[1;33m\u001b[0m\u001b[0m\n\u001b[1;32m-> 1815\u001b[1;33m     \u001b[0mfill_bool\u001b[0m \u001b[1;33m=\u001b[0m \u001b[1;32mlambda\u001b[0m \u001b[0mx\u001b[0m\u001b[1;33m:\u001b[0m \u001b[0mx\u001b[0m\u001b[1;33m.\u001b[0m\u001b[0mfillna\u001b[0m\u001b[1;33m(\u001b[0m\u001b[1;32mFalse\u001b[0m\u001b[1;33m)\u001b[0m\u001b[1;33m.\u001b[0m\u001b[0mastype\u001b[0m\u001b[1;33m(\u001b[0m\u001b[0mbool\u001b[0m\u001b[1;33m)\u001b[0m\u001b[1;33m\u001b[0m\u001b[1;33m\u001b[0m\u001b[0m\n\u001b[0m\u001b[0;32m   1816\u001b[0m \u001b[1;33m\u001b[0m\u001b[0m\n\u001b[0;32m   1817\u001b[0m     \u001b[1;32mdef\u001b[0m \u001b[0mwrapper\u001b[0m\u001b[1;33m(\u001b[0m\u001b[0mself\u001b[0m\u001b[1;33m,\u001b[0m \u001b[0mother\u001b[0m\u001b[1;33m)\u001b[0m\u001b[1;33m:\u001b[0m\u001b[1;33m\u001b[0m\u001b[1;33m\u001b[0m\u001b[0m\n",
      "\u001b[1;32mc:\\users\\leac7\\appdata\\local\\programs\\python\\python36\\lib\\site-packages\\pandas\\core\\series.py\u001b[0m in \u001b[0;36mfillna\u001b[1;34m(self, value, method, axis, inplace, limit, downcast, **kwargs)\u001b[0m\n\u001b[0;32m   3832\u001b[0m                                           \u001b[0maxis\u001b[0m\u001b[1;33m=\u001b[0m\u001b[0maxis\u001b[0m\u001b[1;33m,\u001b[0m \u001b[0minplace\u001b[0m\u001b[1;33m=\u001b[0m\u001b[0minplace\u001b[0m\u001b[1;33m,\u001b[0m\u001b[1;33m\u001b[0m\u001b[1;33m\u001b[0m\u001b[0m\n\u001b[0;32m   3833\u001b[0m                                           \u001b[0mlimit\u001b[0m\u001b[1;33m=\u001b[0m\u001b[0mlimit\u001b[0m\u001b[1;33m,\u001b[0m \u001b[0mdowncast\u001b[0m\u001b[1;33m=\u001b[0m\u001b[0mdowncast\u001b[0m\u001b[1;33m,\u001b[0m\u001b[1;33m\u001b[0m\u001b[1;33m\u001b[0m\u001b[0m\n\u001b[1;32m-> 3834\u001b[1;33m                                           **kwargs)\n\u001b[0m\u001b[0;32m   3835\u001b[0m \u001b[1;33m\u001b[0m\u001b[0m\n\u001b[0;32m   3836\u001b[0m     \u001b[1;33m@\u001b[0m\u001b[0mAppender\u001b[0m\u001b[1;33m(\u001b[0m\u001b[0mgeneric\u001b[0m\u001b[1;33m.\u001b[0m\u001b[0m_shared_docs\u001b[0m\u001b[1;33m[\u001b[0m\u001b[1;34m'replace'\u001b[0m\u001b[1;33m]\u001b[0m \u001b[1;33m%\u001b[0m \u001b[0m_shared_doc_kwargs\u001b[0m\u001b[1;33m)\u001b[0m\u001b[1;33m\u001b[0m\u001b[1;33m\u001b[0m\u001b[0m\n",
      "\u001b[1;32mc:\\users\\leac7\\appdata\\local\\programs\\python\\python36\\lib\\site-packages\\pandas\\core\\generic.py\u001b[0m in \u001b[0;36mfillna\u001b[1;34m(self, value, method, axis, inplace, limit, downcast)\u001b[0m\n\u001b[0;32m   6092\u001b[0m                 new_data = self._data.fillna(value=value, limit=limit,\n\u001b[0;32m   6093\u001b[0m                                              \u001b[0minplace\u001b[0m\u001b[1;33m=\u001b[0m\u001b[0minplace\u001b[0m\u001b[1;33m,\u001b[0m\u001b[1;33m\u001b[0m\u001b[1;33m\u001b[0m\u001b[0m\n\u001b[1;32m-> 6094\u001b[1;33m                                              downcast=downcast)\n\u001b[0m\u001b[0;32m   6095\u001b[0m \u001b[1;33m\u001b[0m\u001b[0m\n\u001b[0;32m   6096\u001b[0m             \u001b[1;32melif\u001b[0m \u001b[0misinstance\u001b[0m\u001b[1;33m(\u001b[0m\u001b[0mvalue\u001b[0m\u001b[1;33m,\u001b[0m \u001b[1;33m(\u001b[0m\u001b[0mdict\u001b[0m\u001b[1;33m,\u001b[0m \u001b[0mABCSeries\u001b[0m\u001b[1;33m)\u001b[0m\u001b[1;33m)\u001b[0m\u001b[1;33m:\u001b[0m\u001b[1;33m\u001b[0m\u001b[1;33m\u001b[0m\u001b[0m\n",
      "\u001b[1;32mc:\\users\\leac7\\appdata\\local\\programs\\python\\python36\\lib\\site-packages\\pandas\\core\\internals\\managers.py\u001b[0m in \u001b[0;36mfillna\u001b[1;34m(self, **kwargs)\u001b[0m\n\u001b[0;32m    523\u001b[0m \u001b[1;33m\u001b[0m\u001b[0m\n\u001b[0;32m    524\u001b[0m     \u001b[1;32mdef\u001b[0m \u001b[0mfillna\u001b[0m\u001b[1;33m(\u001b[0m\u001b[0mself\u001b[0m\u001b[1;33m,\u001b[0m \u001b[1;33m**\u001b[0m\u001b[0mkwargs\u001b[0m\u001b[1;33m)\u001b[0m\u001b[1;33m:\u001b[0m\u001b[1;33m\u001b[0m\u001b[1;33m\u001b[0m\u001b[0m\n\u001b[1;32m--> 525\u001b[1;33m         \u001b[1;32mreturn\u001b[0m \u001b[0mself\u001b[0m\u001b[1;33m.\u001b[0m\u001b[0mapply\u001b[0m\u001b[1;33m(\u001b[0m\u001b[1;34m'fillna'\u001b[0m\u001b[1;33m,\u001b[0m \u001b[1;33m**\u001b[0m\u001b[0mkwargs\u001b[0m\u001b[1;33m)\u001b[0m\u001b[1;33m\u001b[0m\u001b[1;33m\u001b[0m\u001b[0m\n\u001b[0m\u001b[0;32m    526\u001b[0m \u001b[1;33m\u001b[0m\u001b[0m\n\u001b[0;32m    527\u001b[0m     \u001b[1;32mdef\u001b[0m \u001b[0mdowncast\u001b[0m\u001b[1;33m(\u001b[0m\u001b[0mself\u001b[0m\u001b[1;33m,\u001b[0m \u001b[1;33m**\u001b[0m\u001b[0mkwargs\u001b[0m\u001b[1;33m)\u001b[0m\u001b[1;33m:\u001b[0m\u001b[1;33m\u001b[0m\u001b[1;33m\u001b[0m\u001b[0m\n",
      "\u001b[1;32mc:\\users\\leac7\\appdata\\local\\programs\\python\\python36\\lib\\site-packages\\pandas\\core\\internals\\managers.py\u001b[0m in \u001b[0;36mapply\u001b[1;34m(self, f, axes, filter, do_integrity_check, consolidate, **kwargs)\u001b[0m\n\u001b[0;32m    393\u001b[0m                                             copy=align_copy)\n\u001b[0;32m    394\u001b[0m \u001b[1;33m\u001b[0m\u001b[0m\n\u001b[1;32m--> 395\u001b[1;33m             \u001b[0mapplied\u001b[0m \u001b[1;33m=\u001b[0m \u001b[0mgetattr\u001b[0m\u001b[1;33m(\u001b[0m\u001b[0mb\u001b[0m\u001b[1;33m,\u001b[0m \u001b[0mf\u001b[0m\u001b[1;33m)\u001b[0m\u001b[1;33m(\u001b[0m\u001b[1;33m**\u001b[0m\u001b[0mkwargs\u001b[0m\u001b[1;33m)\u001b[0m\u001b[1;33m\u001b[0m\u001b[1;33m\u001b[0m\u001b[0m\n\u001b[0m\u001b[0;32m    396\u001b[0m             \u001b[0mresult_blocks\u001b[0m \u001b[1;33m=\u001b[0m \u001b[0m_extend_blocks\u001b[0m\u001b[1;33m(\u001b[0m\u001b[0mapplied\u001b[0m\u001b[1;33m,\u001b[0m \u001b[0mresult_blocks\u001b[0m\u001b[1;33m)\u001b[0m\u001b[1;33m\u001b[0m\u001b[1;33m\u001b[0m\u001b[0m\n\u001b[0;32m    397\u001b[0m \u001b[1;33m\u001b[0m\u001b[0m\n",
      "\u001b[1;32mc:\\users\\leac7\\appdata\\local\\programs\\python\\python36\\lib\\site-packages\\pandas\\core\\internals\\blocks.py\u001b[0m in \u001b[0;36mfillna\u001b[1;34m(self, value, limit, inplace, downcast)\u001b[0m\n\u001b[0;32m    372\u001b[0m                 \u001b[1;32mreturn\u001b[0m \u001b[0mself\u001b[0m\u001b[1;33m\u001b[0m\u001b[1;33m\u001b[0m\u001b[0m\n\u001b[0;32m    373\u001b[0m             \u001b[1;32melse\u001b[0m\u001b[1;33m:\u001b[0m\u001b[1;33m\u001b[0m\u001b[1;33m\u001b[0m\u001b[0m\n\u001b[1;32m--> 374\u001b[1;33m                 \u001b[1;32mreturn\u001b[0m \u001b[0mself\u001b[0m\u001b[1;33m.\u001b[0m\u001b[0mcopy\u001b[0m\u001b[1;33m(\u001b[0m\u001b[1;33m)\u001b[0m\u001b[1;33m\u001b[0m\u001b[1;33m\u001b[0m\u001b[0m\n\u001b[0m\u001b[0;32m    375\u001b[0m \u001b[1;33m\u001b[0m\u001b[0m\n\u001b[0;32m    376\u001b[0m         \u001b[0mmask\u001b[0m \u001b[1;33m=\u001b[0m \u001b[0misna\u001b[0m\u001b[1;33m(\u001b[0m\u001b[0mself\u001b[0m\u001b[1;33m.\u001b[0m\u001b[0mvalues\u001b[0m\u001b[1;33m)\u001b[0m\u001b[1;33m\u001b[0m\u001b[1;33m\u001b[0m\u001b[0m\n",
      "\u001b[1;32mc:\\users\\leac7\\appdata\\local\\programs\\python\\python36\\lib\\site-packages\\pandas\\core\\internals\\blocks.py\u001b[0m in \u001b[0;36mcopy\u001b[1;34m(self, deep)\u001b[0m\n\u001b[0;32m    751\u001b[0m         \u001b[0mvalues\u001b[0m \u001b[1;33m=\u001b[0m \u001b[0mself\u001b[0m\u001b[1;33m.\u001b[0m\u001b[0mvalues\u001b[0m\u001b[1;33m\u001b[0m\u001b[1;33m\u001b[0m\u001b[0m\n\u001b[0;32m    752\u001b[0m         \u001b[1;32mif\u001b[0m \u001b[0mdeep\u001b[0m\u001b[1;33m:\u001b[0m\u001b[1;33m\u001b[0m\u001b[1;33m\u001b[0m\u001b[0m\n\u001b[1;32m--> 753\u001b[1;33m             \u001b[0mvalues\u001b[0m \u001b[1;33m=\u001b[0m \u001b[0mvalues\u001b[0m\u001b[1;33m.\u001b[0m\u001b[0mcopy\u001b[0m\u001b[1;33m(\u001b[0m\u001b[1;33m)\u001b[0m\u001b[1;33m\u001b[0m\u001b[1;33m\u001b[0m\u001b[0m\n\u001b[0m\u001b[0;32m    754\u001b[0m         \u001b[1;32mreturn\u001b[0m \u001b[0mself\u001b[0m\u001b[1;33m.\u001b[0m\u001b[0mmake_block_same_class\u001b[0m\u001b[1;33m(\u001b[0m\u001b[0mvalues\u001b[0m\u001b[1;33m)\u001b[0m\u001b[1;33m\u001b[0m\u001b[1;33m\u001b[0m\u001b[0m\n\u001b[0;32m    755\u001b[0m \u001b[1;33m\u001b[0m\u001b[0m\n",
      "\u001b[1;31mKeyboardInterrupt\u001b[0m: "
     ]
    }
   ],
   "source": [
    "full_data = pd.DataFrame(columns=['lon', 'lat', 'time', 'pred_AV', 'pred_GS', 'pred_CM'])\n",
    "model = intersecting_av_gbd_scott\n",
    "all_models = ['AV', 'GS', 'CM']\n",
    "subset_num = 0\n",
    "subset_shapes = []\n",
    "\n",
    "most_recent_subset = pd.DataFrame(columns=['lon', 'lat', 'pred_AV', 'pred_GS', 'pred_CM'])\n",
    "\n",
    "for i in range(len(lat_range)):\n",
    "    for j in range(len(lon_range)):\n",
    "        df_subset = model.loc[(model.lon >= lon_range[j][0]) & (model.lon <= lon_range[j][1]) & (model.lat >= lat_range[i][0]) & (model.lat <= lat_range[i][1])]\n",
    "        df_subset = df_subset[['lon', 'lat', 'time', 'pred_AV', 'pred_GS', 'pred_CM']]\n",
    "        if (df_subset.shape[0] != 0):\n",
    "            if (df_subset.shape[0] > 800):\n",
    "                most_recent_subset = df_subset\n",
    "                print (most_recent_subset.shape)\n",
    "                full_data = full_data.append(most_recent_subset)\n",
    "                subset_shapes.append(most_recent_subset.shape[0])\n",
    "                subset_num += 1\n",
    "                for m in all_models:\n",
    "                    pred_name = 'pred_{}'.format(m)\n",
    "                    pred_subset = most_recent_subset[['lon', 'lat', 'time', pred_name]]\n",
    "                    print (pred_subset.columns)\n",
    "                    pred_subset = pred_subset.rename(columns={pred_name: \"pm25\"})\n",
    "                    print (pred_subset.columns)\n",
    "                    new_file = '{}{}_2010_2016_align.{}.csv'.format(save_dir, m, subset_num)\n",
    "                    print (new_file)\n",
    "                    print (pred_subset.head())\n",
    "#                     pred_subset.to_csv(new_file, index = False)\n",
    "            else:\n",
    "                print (\"DF Subset: \" + str(df_subset.shape))\n",
    "                most_recent_subset = most_recent_subset.append(df_subset)\n",
    "                print (most_recent_subset.shape)\n",
    "                try:\n",
    "                    subset_shapes.pop()\n",
    "                except:\n",
    "                    pass\n",
    "                subset_shapes.append(most_recent_subset.shape[0])\n",
    "                full_data = full_data.append(most_recent_subset)\n",
    "                for m in all_models:\n",
    "                    pred_name = 'pred_{}'.format(m)\n",
    "                    pred_subset = most_recent_subset[['lon', 'lat', 'time', pred_name]]\n",
    "                    pred_subset = pred_subset.rename(columns={pred_name: \"pm25\"})\n",
    "                    print (pred_subset.columns)\n",
    "                    new_file = '{}{}_2010_2016_align.{}.csv'.format(save_dir, m, subset_num)\n",
    "#                     print (new_file)\n",
    "                    print (pred_subset.head())\n",
    "#                     pred_subset.to_csv(new_file, index = False) "
   ]
  },
  {
   "cell_type": "code",
   "execution_count": null,
   "metadata": {},
   "outputs": [],
   "source": [
    "print (len(subset_shapes))\n",
    "print (np.min(subset_shapes))"
   ]
  },
  {
   "cell_type": "code",
   "execution_count": null,
   "metadata": {},
   "outputs": [],
   "source": [
    "full_data.drop_duplicates(inplace = True)\n",
    "# print (av_2010_2016.shape[0]/7)\n",
    "print (full_data.shape)"
   ]
  },
  {
   "cell_type": "markdown",
   "metadata": {},
   "source": [
    "# 1605 subsets or 1590?"
   ]
  }
 ],
 "metadata": {
  "kernelspec": {
   "display_name": "Python 3",
   "language": "python",
   "name": "python3"
  },
  "language_info": {
   "codemirror_mode": {
    "name": "ipython",
    "version": 3
   },
   "file_extension": ".py",
   "mimetype": "text/x-python",
   "name": "python",
   "nbconvert_exporter": "python",
   "pygments_lexer": "ipython3",
   "version": "3.6.8"
  }
 },
 "nbformat": 4,
 "nbformat_minor": 2
}
