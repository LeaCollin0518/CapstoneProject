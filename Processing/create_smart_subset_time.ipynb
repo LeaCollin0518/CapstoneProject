{
 "cells": [
  {
   "cell_type": "code",
   "execution_count": 1,
   "metadata": {},
   "outputs": [],
   "source": [
    "import pandas as pd\n",
    "import numpy as np\n",
    "import math"
   ]
  },
  {
   "cell_type": "code",
   "execution_count": 6,
   "metadata": {},
   "outputs": [],
   "source": [
    "data_dir = '../Data/cali_example/'\n",
    "save_dir = '../Data/cali_example_overlap_subsets/'"
   ]
  },
  {
   "cell_type": "code",
   "execution_count": 7,
   "metadata": {},
   "outputs": [],
   "source": [
    "models = ['AV', 'GS', 'GM']"
   ]
  },
  {
   "cell_type": "code",
   "execution_count": 118,
   "metadata": {},
   "outputs": [],
   "source": [
    "av_2005 = pd.read_csv(data_dir + 'AV_2005_align.csv')\n",
    "av_2010 = pd.read_csv(data_dir + 'AV_2010_align.csv')\n",
    "av_2011 = pd.read_csv(data_dir + 'AV_2011_align.csv')\n",
    "gm = pd.read_csv(data_dir + 'gb_gm_ca_mapped_2010_2016/gb_gm_ca_mapped_2010_2016/GM_align_2010_2016.csv')\n",
    "gb = pd.read_csv(data_dir + 'gb_gm_ca_mapped_2010_2016/gb_gm_ca_mapped_2010_2016/GB_align_2010_2016.csv')"
   ]
  },
  {
   "cell_type": "code",
   "execution_count": 120,
   "metadata": {},
   "outputs": [],
   "source": [
    "av_2005.columns = ['lon', 'lat', 'pm25']\n",
    "av_2010.columns = ['lon', 'lat', 'pm25'] \n",
    "av_2011.columns = ['lon', 'lat', 'pm25']"
   ]
  },
  {
   "cell_type": "code",
   "execution_count": 122,
   "metadata": {},
   "outputs": [],
   "source": [
    "time_2005 = np.repeat(2005, av_2005.shape[0])\n",
    "time_2010 = np.repeat(2010, av_2010.shape[0])\n",
    "time_2011 = np.repeat(2011, av_2011.shape[0])"
   ]
  },
  {
   "cell_type": "code",
   "execution_count": 123,
   "metadata": {},
   "outputs": [],
   "source": [
    "av_2005['time'] = time_2005\n",
    "av_2010['time'] = time_2010\n",
    "av_2011['time'] = time_2011"
   ]
  },
  {
   "cell_type": "code",
   "execution_count": 126,
   "metadata": {},
   "outputs": [],
   "source": [
    "av_2005_2010 = av_2005.append(av_2010)\n",
    "av_2005_2011 = av_2005_2010.append(av_2011)"
   ]
  },
  {
   "cell_type": "code",
   "execution_count": 127,
   "metadata": {},
   "outputs": [],
   "source": [
    "gm_2005_2011 = gm.loc[gm.time.isin([2005, 2010, 2011])]\n",
    "gb_2005_2011 = gb.loc[gb.time.isin([2005, 2010, 2011])]\n",
    "# gm_2005 = gm.loc[gm.time.isin([2005])]\n",
    "# gb_2005 = gb.loc[gb.time.isin([2005])]"
   ]
  },
  {
   "cell_type": "code",
   "execution_count": 129,
   "metadata": {},
   "outputs": [],
   "source": [
    "intersecting_lat_lon = pd.merge(av_2005_2011, gm_2005_2011, how='inner', on=['lon', 'lat', 'time'])"
   ]
  },
  {
   "cell_type": "code",
   "execution_count": 232,
   "metadata": {},
   "outputs": [
    {
     "data": {
      "text/html": [
       "<div>\n",
       "<style scoped>\n",
       "    .dataframe tbody tr th:only-of-type {\n",
       "        vertical-align: middle;\n",
       "    }\n",
       "\n",
       "    .dataframe tbody tr th {\n",
       "        vertical-align: top;\n",
       "    }\n",
       "\n",
       "    .dataframe thead th {\n",
       "        text-align: right;\n",
       "    }\n",
       "</style>\n",
       "<table border=\"1\" class=\"dataframe\">\n",
       "  <thead>\n",
       "    <tr style=\"text-align: right;\">\n",
       "      <th></th>\n",
       "      <th>lon</th>\n",
       "      <th>lat</th>\n",
       "      <th>pm25_av</th>\n",
       "      <th>time</th>\n",
       "      <th>Unnamed: 0</th>\n",
       "      <th>pm25_gm</th>\n",
       "    </tr>\n",
       "  </thead>\n",
       "  <tbody>\n",
       "    <tr>\n",
       "      <th>0</th>\n",
       "      <td>-124.405</td>\n",
       "      <td>42.005</td>\n",
       "      <td>NaN</td>\n",
       "      <td>2005</td>\n",
       "      <td>983665</td>\n",
       "      <td>2.048217</td>\n",
       "    </tr>\n",
       "    <tr>\n",
       "      <th>1</th>\n",
       "      <td>-124.395</td>\n",
       "      <td>42.005</td>\n",
       "      <td>NaN</td>\n",
       "      <td>2005</td>\n",
       "      <td>983666</td>\n",
       "      <td>2.048217</td>\n",
       "    </tr>\n",
       "    <tr>\n",
       "      <th>2</th>\n",
       "      <td>-124.385</td>\n",
       "      <td>42.005</td>\n",
       "      <td>NaN</td>\n",
       "      <td>2005</td>\n",
       "      <td>983667</td>\n",
       "      <td>2.048217</td>\n",
       "    </tr>\n",
       "    <tr>\n",
       "      <th>3</th>\n",
       "      <td>-124.375</td>\n",
       "      <td>42.005</td>\n",
       "      <td>NaN</td>\n",
       "      <td>2005</td>\n",
       "      <td>983668</td>\n",
       "      <td>2.048217</td>\n",
       "    </tr>\n",
       "    <tr>\n",
       "      <th>4</th>\n",
       "      <td>-124.365</td>\n",
       "      <td>42.005</td>\n",
       "      <td>NaN</td>\n",
       "      <td>2005</td>\n",
       "      <td>983669</td>\n",
       "      <td>2.048217</td>\n",
       "    </tr>\n",
       "  </tbody>\n",
       "</table>\n",
       "</div>"
      ],
      "text/plain": [
       "       lon     lat  pm25_av  time  Unnamed: 0   pm25_gm\n",
       "0 -124.405  42.005      NaN  2005      983665  2.048217\n",
       "1 -124.395  42.005      NaN  2005      983666  2.048217\n",
       "2 -124.385  42.005      NaN  2005      983667  2.048217\n",
       "3 -124.375  42.005      NaN  2005      983668  2.048217\n",
       "4 -124.365  42.005      NaN  2005      983669  2.048217"
      ]
     },
     "execution_count": 232,
     "metadata": {},
     "output_type": "execute_result"
    }
   ],
   "source": [
    "intersecting_lat_lon.head()"
   ]
  },
  {
   "cell_type": "code",
   "execution_count": 233,
   "metadata": {},
   "outputs": [],
   "source": [
    "intersecting_lat_lon.columns = ['lon', 'lat', 'pm25_av', 'time', 'Unnamed: 0', 'pm25_gm']"
   ]
  },
  {
   "cell_type": "code",
   "execution_count": 234,
   "metadata": {},
   "outputs": [],
   "source": [
    "intersecting_lat_lon_all = pd.merge(gb_2005_2011, intersecting_lat_lon, how = 'inner', on=['lon', 'lat', 'time'])"
   ]
  },
  {
   "cell_type": "code",
   "execution_count": 235,
   "metadata": {},
   "outputs": [
    {
     "data": {
      "text/html": [
       "<div>\n",
       "<style scoped>\n",
       "    .dataframe tbody tr th:only-of-type {\n",
       "        vertical-align: middle;\n",
       "    }\n",
       "\n",
       "    .dataframe tbody tr th {\n",
       "        vertical-align: top;\n",
       "    }\n",
       "\n",
       "    .dataframe thead th {\n",
       "        text-align: right;\n",
       "    }\n",
       "</style>\n",
       "<table border=\"1\" class=\"dataframe\">\n",
       "  <thead>\n",
       "    <tr style=\"text-align: right;\">\n",
       "      <th></th>\n",
       "      <th>lon</th>\n",
       "      <th>lat</th>\n",
       "      <th>pm25</th>\n",
       "      <th>time</th>\n",
       "      <th>pm25_av</th>\n",
       "      <th>Unnamed: 0</th>\n",
       "      <th>pm25_gm</th>\n",
       "    </tr>\n",
       "  </thead>\n",
       "  <tbody>\n",
       "    <tr>\n",
       "      <th>0</th>\n",
       "      <td>-114.195</td>\n",
       "      <td>32.595</td>\n",
       "      <td>8.119813</td>\n",
       "      <td>2005</td>\n",
       "      <td>7.1</td>\n",
       "      <td>13209162</td>\n",
       "      <td>3.295776</td>\n",
       "    </tr>\n",
       "    <tr>\n",
       "      <th>1</th>\n",
       "      <td>-114.185</td>\n",
       "      <td>32.595</td>\n",
       "      <td>8.119813</td>\n",
       "      <td>2005</td>\n",
       "      <td>7.0</td>\n",
       "      <td>13209163</td>\n",
       "      <td>3.295776</td>\n",
       "    </tr>\n",
       "    <tr>\n",
       "      <th>2</th>\n",
       "      <td>-114.175</td>\n",
       "      <td>32.595</td>\n",
       "      <td>8.119813</td>\n",
       "      <td>2005</td>\n",
       "      <td>7.1</td>\n",
       "      <td>13209164</td>\n",
       "      <td>3.295776</td>\n",
       "    </tr>\n",
       "    <tr>\n",
       "      <th>3</th>\n",
       "      <td>-114.165</td>\n",
       "      <td>32.595</td>\n",
       "      <td>8.119813</td>\n",
       "      <td>2005</td>\n",
       "      <td>7.1</td>\n",
       "      <td>13209165</td>\n",
       "      <td>3.295776</td>\n",
       "    </tr>\n",
       "    <tr>\n",
       "      <th>4</th>\n",
       "      <td>-114.155</td>\n",
       "      <td>32.595</td>\n",
       "      <td>8.119813</td>\n",
       "      <td>2005</td>\n",
       "      <td>7.1</td>\n",
       "      <td>13209166</td>\n",
       "      <td>3.295776</td>\n",
       "    </tr>\n",
       "  </tbody>\n",
       "</table>\n",
       "</div>"
      ],
      "text/plain": [
       "       lon     lat      pm25  time  pm25_av  Unnamed: 0   pm25_gm\n",
       "0 -114.195  32.595  8.119813  2005      7.1    13209162  3.295776\n",
       "1 -114.185  32.595  8.119813  2005      7.0    13209163  3.295776\n",
       "2 -114.175  32.595  8.119813  2005      7.1    13209164  3.295776\n",
       "3 -114.165  32.595  8.119813  2005      7.1    13209165  3.295776\n",
       "4 -114.155  32.595  8.119813  2005      7.1    13209166  3.295776"
      ]
     },
     "execution_count": 235,
     "metadata": {},
     "output_type": "execute_result"
    }
   ],
   "source": [
    "intersecting_lat_lon_all.head()"
   ]
  },
  {
   "cell_type": "code",
   "execution_count": 236,
   "metadata": {},
   "outputs": [],
   "source": [
    "intersecting_lat_lon_all.columns = ['Unnamed: 0_x', 'time', 'y', 'x', 'pred_gb', 'pred_av', 'Unnamed: 0_y',\n",
    "       'pred_gm']"
   ]
  },
  {
   "cell_type": "code",
   "execution_count": 237,
   "metadata": {},
   "outputs": [],
   "source": [
    "intersecting_lat_lon_all = intersecting_lat_lon_all[['time','x', 'y' 'pred_gb', 'pred_av', 'pred_gm']]"
   ]
  },
  {
   "cell_type": "code",
   "execution_count": 224,
   "metadata": {},
   "outputs": [],
   "source": [
    "all_preds_file = save_dir + 'predictions_2005_2011.csv'"
   ]
  },
  {
   "cell_type": "code",
   "execution_count": 227,
   "metadata": {},
   "outputs": [],
   "source": [
    "intersecting_lat_lon_all.to_csv(all_preds_file, index = False)"
   ]
  },
  {
   "cell_type": "code",
   "execution_count": 142,
   "metadata": {},
   "outputs": [],
   "source": [
    "intersecting_lat_lon_all = intersecting_lat_lon_all[~intersecting_lat_lon_all['pm25_av'].isnull()]"
   ]
  },
  {
   "cell_type": "code",
   "execution_count": 144,
   "metadata": {},
   "outputs": [
    {
     "data": {
      "text/html": [
       "<div>\n",
       "<style scoped>\n",
       "    .dataframe tbody tr th:only-of-type {\n",
       "        vertical-align: middle;\n",
       "    }\n",
       "\n",
       "    .dataframe tbody tr th {\n",
       "        vertical-align: top;\n",
       "    }\n",
       "\n",
       "    .dataframe thead th {\n",
       "        text-align: right;\n",
       "    }\n",
       "</style>\n",
       "<table border=\"1\" class=\"dataframe\">\n",
       "  <thead>\n",
       "    <tr style=\"text-align: right;\">\n",
       "      <th></th>\n",
       "      <th>Unnamed: 0_x</th>\n",
       "      <th>time</th>\n",
       "      <th>lat</th>\n",
       "      <th>lon</th>\n",
       "      <th>pm25</th>\n",
       "      <th>pm25_av</th>\n",
       "      <th>Unnamed: 0_y</th>\n",
       "      <th>pm25_gm</th>\n",
       "    </tr>\n",
       "  </thead>\n",
       "  <tbody>\n",
       "    <tr>\n",
       "      <th>0</th>\n",
       "      <td>246</td>\n",
       "      <td>2005</td>\n",
       "      <td>32.595</td>\n",
       "      <td>-114.195</td>\n",
       "      <td>8.119813</td>\n",
       "      <td>7.1</td>\n",
       "      <td>13209162</td>\n",
       "      <td>3.295776</td>\n",
       "    </tr>\n",
       "    <tr>\n",
       "      <th>1</th>\n",
       "      <td>247</td>\n",
       "      <td>2005</td>\n",
       "      <td>32.595</td>\n",
       "      <td>-114.185</td>\n",
       "      <td>8.119813</td>\n",
       "      <td>7.0</td>\n",
       "      <td>13209163</td>\n",
       "      <td>3.295776</td>\n",
       "    </tr>\n",
       "    <tr>\n",
       "      <th>2</th>\n",
       "      <td>248</td>\n",
       "      <td>2005</td>\n",
       "      <td>32.595</td>\n",
       "      <td>-114.175</td>\n",
       "      <td>8.119813</td>\n",
       "      <td>7.1</td>\n",
       "      <td>13209164</td>\n",
       "      <td>3.295776</td>\n",
       "    </tr>\n",
       "    <tr>\n",
       "      <th>3</th>\n",
       "      <td>249</td>\n",
       "      <td>2005</td>\n",
       "      <td>32.595</td>\n",
       "      <td>-114.165</td>\n",
       "      <td>8.119813</td>\n",
       "      <td>7.1</td>\n",
       "      <td>13209165</td>\n",
       "      <td>3.295776</td>\n",
       "    </tr>\n",
       "    <tr>\n",
       "      <th>4</th>\n",
       "      <td>250</td>\n",
       "      <td>2005</td>\n",
       "      <td>32.595</td>\n",
       "      <td>-114.155</td>\n",
       "      <td>8.119813</td>\n",
       "      <td>7.1</td>\n",
       "      <td>13209166</td>\n",
       "      <td>3.295776</td>\n",
       "    </tr>\n",
       "  </tbody>\n",
       "</table>\n",
       "</div>"
      ],
      "text/plain": [
       "   Unnamed: 0_x  time     lat      lon      pm25  pm25_av  Unnamed: 0_y  \\\n",
       "0           246  2005  32.595 -114.195  8.119813      7.1      13209162   \n",
       "1           247  2005  32.595 -114.185  8.119813      7.0      13209163   \n",
       "2           248  2005  32.595 -114.175  8.119813      7.1      13209164   \n",
       "3           249  2005  32.595 -114.165  8.119813      7.1      13209165   \n",
       "4           250  2005  32.595 -114.155  8.119813      7.1      13209166   \n",
       "\n",
       "    pm25_gm  \n",
       "0  3.295776  \n",
       "1  3.295776  \n",
       "2  3.295776  \n",
       "3  3.295776  \n",
       "4  3.295776  "
      ]
     },
     "execution_count": 144,
     "metadata": {},
     "output_type": "execute_result"
    }
   ],
   "source": [
    "intersecting_lat_lon_all.head()"
   ]
  },
  {
   "cell_type": "code",
   "execution_count": 163,
   "metadata": {},
   "outputs": [],
   "source": [
    "av_2005_2011 = intersecting_lat_lon_all[['lon', 'lat', 'pm25_av', 'time']]\n",
    "gm_2005_2011 = intersecting_lat_lon_all[['lon', 'lat', 'pm25_gm', 'time']]\n",
    "gb_2005_2011 = intersecting_lat_lon_all[['lon', 'lat', 'pm25', 'time']]"
   ]
  },
  {
   "cell_type": "code",
   "execution_count": 210,
   "metadata": {},
   "outputs": [],
   "source": [
    "av_2005_2011_file = data_dir + 'AV_2005_2011_align.csv'\n",
    "gm_2005_2011_file = data_dir + 'GM_2005_2011_align.csv'\n",
    "gb_2005_2011_file = data_dir + 'GB_2005_2011_align.csv'\n",
    "av_2005_2011.to_csv(av_2005_2011_file, index = False)\n",
    "gm_2005_2011.to_csv(gm_2005_2011_file, index = False)\n",
    "gb_2005_2011.to_csv(gb_2005_2011_file, index = False)"
   ]
  },
  {
   "cell_type": "code",
   "execution_count": 165,
   "metadata": {},
   "outputs": [
    {
     "data": {
      "text/html": [
       "<div>\n",
       "<style scoped>\n",
       "    .dataframe tbody tr th:only-of-type {\n",
       "        vertical-align: middle;\n",
       "    }\n",
       "\n",
       "    .dataframe tbody tr th {\n",
       "        vertical-align: top;\n",
       "    }\n",
       "\n",
       "    .dataframe thead th {\n",
       "        text-align: right;\n",
       "    }\n",
       "</style>\n",
       "<table border=\"1\" class=\"dataframe\">\n",
       "  <thead>\n",
       "    <tr style=\"text-align: right;\">\n",
       "      <th></th>\n",
       "      <th>lon</th>\n",
       "      <th>lat</th>\n",
       "      <th>pm25_av</th>\n",
       "      <th>time</th>\n",
       "    </tr>\n",
       "  </thead>\n",
       "  <tbody>\n",
       "    <tr>\n",
       "      <th>0</th>\n",
       "      <td>-114.195</td>\n",
       "      <td>32.595</td>\n",
       "      <td>7.1</td>\n",
       "      <td>2005</td>\n",
       "    </tr>\n",
       "    <tr>\n",
       "      <th>1</th>\n",
       "      <td>-114.185</td>\n",
       "      <td>32.595</td>\n",
       "      <td>7.0</td>\n",
       "      <td>2005</td>\n",
       "    </tr>\n",
       "    <tr>\n",
       "      <th>2</th>\n",
       "      <td>-114.175</td>\n",
       "      <td>32.595</td>\n",
       "      <td>7.1</td>\n",
       "      <td>2005</td>\n",
       "    </tr>\n",
       "    <tr>\n",
       "      <th>3</th>\n",
       "      <td>-114.165</td>\n",
       "      <td>32.595</td>\n",
       "      <td>7.1</td>\n",
       "      <td>2005</td>\n",
       "    </tr>\n",
       "    <tr>\n",
       "      <th>4</th>\n",
       "      <td>-114.155</td>\n",
       "      <td>32.595</td>\n",
       "      <td>7.1</td>\n",
       "      <td>2005</td>\n",
       "    </tr>\n",
       "  </tbody>\n",
       "</table>\n",
       "</div>"
      ],
      "text/plain": [
       "       lon     lat  pm25_av  time\n",
       "0 -114.195  32.595      7.1  2005\n",
       "1 -114.185  32.595      7.0  2005\n",
       "2 -114.175  32.595      7.1  2005\n",
       "3 -114.165  32.595      7.1  2005\n",
       "4 -114.155  32.595      7.1  2005"
      ]
     },
     "execution_count": 165,
     "metadata": {},
     "output_type": "execute_result"
    }
   ],
   "source": [
    "av_2005_2011.head()"
   ]
  },
  {
   "cell_type": "code",
   "execution_count": 166,
   "metadata": {},
   "outputs": [],
   "source": [
    "av_2005_2011.columns = ['lon', 'lat', 'pm25', 'time']\n",
    "gm_2005_2011.columns = ['lon', 'lat', 'pm25', 'time']"
   ]
  },
  {
   "cell_type": "code",
   "execution_count": 149,
   "metadata": {},
   "outputs": [],
   "source": [
    "min_lon = min(av_2005_2011.lon)\n",
    "max_lon = max(av_2005_2011.lon)\n",
    "min_lat = min(av_2005_2011.lat)\n",
    "max_lat = max(av_2005_2011.lat)\n",
    "\n",
    "upper_left = (max_lat, min_lon)\n",
    "upper_right = (max_lat, max_lon)\n",
    "lower_left = (min_lat, min_lon)\n",
    "lower_right = (min_lat, max_lon)"
   ]
  },
  {
   "cell_type": "code",
   "execution_count": 104,
   "metadata": {},
   "outputs": [
    {
     "name": "stdout",
     "output_type": "stream",
     "text": [
      "(42.005, -124.395) (42.005, -114.135) (32.535, -124.395) (32.535, -114.135)\n"
     ]
    }
   ],
   "source": [
    "print (upper_left, upper_right, lower_left, lower_right)"
   ]
  },
  {
   "cell_type": "code",
   "execution_count": 105,
   "metadata": {},
   "outputs": [
    {
     "data": {
      "text/plain": [
       "(723716, 3)"
      ]
     },
     "execution_count": 105,
     "metadata": {},
     "output_type": "execute_result"
    }
   ],
   "source": [
    "test = av_2005.loc[(av_2005.lon >= min_lon) & (av_2005.lon <= max_lon) & (av_2005.lat >= min_lat) & (av_2005.lat <= max_lat)]\n",
    "test.shape"
   ]
  },
  {
   "cell_type": "code",
   "execution_count": 151,
   "metadata": {},
   "outputs": [],
   "source": [
    "X_valid = np.asarray(av_2005_2011[[\"lon\", \"lat\"]].values.tolist()).astype(np.float32)"
   ]
  },
  {
   "cell_type": "code",
   "execution_count": 152,
   "metadata": {},
   "outputs": [],
   "source": [
    "X_scale = np.max(X_valid, axis=0) - np.min(X_valid, axis=0)"
   ]
  },
  {
   "cell_type": "code",
   "execution_count": 153,
   "metadata": {},
   "outputs": [
    {
     "data": {
      "text/plain": [
       "array([10.2599945,  9.470001 ], dtype=float32)"
      ]
     },
     "execution_count": 153,
     "metadata": {},
     "output_type": "execute_result"
    }
   ],
   "source": [
    "X_scale"
   ]
  },
  {
   "cell_type": "code",
   "execution_count": 154,
   "metadata": {},
   "outputs": [
    {
     "data": {
      "text/plain": [
       "array([[-114.195,   32.595],\n",
       "       [-114.185,   32.595],\n",
       "       [-114.175,   32.595],\n",
       "       [-114.165,   32.595],\n",
       "       [-114.155,   32.595]], dtype=float32)"
      ]
     },
     "execution_count": 154,
     "metadata": {},
     "output_type": "execute_result"
    }
   ],
   "source": [
    "X_valid[:5]"
   ]
  },
  {
   "cell_type": "code",
   "execution_count": 155,
   "metadata": {},
   "outputs": [],
   "source": [
    "def round_nearest(x, a):\n",
    "    return round(round(x / a) * a, -int(math.floor(math.log10(a))))"
   ]
  },
  {
   "cell_type": "code",
   "execution_count": 156,
   "metadata": {},
   "outputs": [
    {
     "name": "stdout",
     "output_type": "stream",
     "text": [
      "1.71 1.5783\n"
     ]
    }
   ],
   "source": [
    "split_range = [X_scale[0]/6, X_scale[1]/6]\n",
    "split_range = [ round(elem, 4) for elem in split_range ]\n",
    "split_lon_range = split_range[0]\n",
    "split_lat_range = split_range[1]\n",
    "print (split_lon_range, split_lat_range)"
   ]
  },
  {
   "cell_type": "code",
   "execution_count": 188,
   "metadata": {},
   "outputs": [],
   "source": [
    "start_split_lon = []\n",
    "for i in range(10):\n",
    "    start_split_lon.append(min_lon + i*split_lon_range)\n",
    "    \n",
    "start_split_lat = []\n",
    "for i in range(10):\n",
    "    start_split_lat.append(min_lat + i*split_lat_range)"
   ]
  },
  {
   "cell_type": "code",
   "execution_count": 189,
   "metadata": {},
   "outputs": [],
   "source": [
    "a = [round_nearest(x, 0.005) for x in start_split_lat]\n",
    "b = [x + 0.005 if (str(x)[-1] != '5' or len(str(x).split('.')[1]) !=  3) else x for x in a]\n",
    "start_split_lat = [round(x, -int(math.floor(math.log10(0.005)))) for x in b]"
   ]
  },
  {
   "cell_type": "code",
   "execution_count": 190,
   "metadata": {},
   "outputs": [
    {
     "data": {
      "text/plain": [
       "([32.535,\n",
       "  34.115,\n",
       "  35.695,\n",
       "  37.275,\n",
       "  38.855,\n",
       "  40.425,\n",
       "  42.005,\n",
       "  43.585,\n",
       "  45.165,\n",
       "  46.745],\n",
       " [-124.395,\n",
       "  -122.685,\n",
       "  -120.975,\n",
       "  -119.265,\n",
       "  -117.55499999999999,\n",
       "  -115.845,\n",
       "  -114.13499999999999,\n",
       "  -112.425,\n",
       "  -110.715,\n",
       "  -109.005])"
      ]
     },
     "execution_count": 190,
     "metadata": {},
     "output_type": "execute_result"
    }
   ],
   "source": [
    "start_split_lat, start_split_lon"
   ]
  },
  {
   "cell_type": "code",
   "execution_count": 191,
   "metadata": {},
   "outputs": [
    {
     "name": "stdout",
     "output_type": "stream",
     "text": [
      "[-124.395, -123.185, -121.475, -119.765, -118.055, -116.345, -114.635, -112.925, -111.215, -109.505]\n",
      "[-122.685, -120.975, -119.265, -117.555, -115.845, -114.135, -112.425, -110.715, -109.005, -114.135]\n"
     ]
    }
   ],
   "source": [
    "start_split_lon = [round(x, 3) for x in start_split_lon]\n",
    "end_split_lon = start_split_lon[1:]\n",
    "end_split_lon.append(max_lon)\n",
    "start_split_lon = [x - 0.5 for x in start_split_lon[1:]]\n",
    "start_split_lon.insert(0, min_lon)\n",
    "print (start_split_lon)\n",
    "print (end_split_lon)\n",
    "\n",
    "end_split_lat = start_split_lat[1:]\n",
    "end_split_lat.append(max_lat)\n",
    "start_split_lat = [x - 0.5 for x in start_split_lat[1:]]\n",
    "start_split_lat.insert(0, min_lat)\n",
    "\n",
    "lon_range = list(zip(start_split_lon, end_split_lon))\n",
    "lat_range = list(zip(start_split_lat, end_split_lat))"
   ]
  },
  {
   "cell_type": "code",
   "execution_count": 192,
   "metadata": {},
   "outputs": [
    {
     "data": {
      "text/plain": [
       "[(32.535, 34.115),\n",
       " (33.615, 35.695),\n",
       " (35.195, 37.275),\n",
       " (36.775, 38.855),\n",
       " (38.355, 40.425),\n",
       " (39.925, 42.005),\n",
       " (41.505, 43.585),\n",
       " (43.085, 45.165),\n",
       " (44.665, 46.745),\n",
       " (46.245, 42.005)]"
      ]
     },
     "execution_count": 192,
     "metadata": {},
     "output_type": "execute_result"
    }
   ],
   "source": [
    "lat_range"
   ]
  },
  {
   "cell_type": "code",
   "execution_count": 193,
   "metadata": {},
   "outputs": [
    {
     "data": {
      "text/plain": [
       "[(-124.395, -122.685),\n",
       " (-123.185, -120.975),\n",
       " (-121.475, -119.265),\n",
       " (-119.765, -117.555),\n",
       " (-118.055, -115.845),\n",
       " (-116.345, -114.135),\n",
       " (-114.635, -112.425),\n",
       " (-112.925, -110.715),\n",
       " (-111.215, -109.005),\n",
       " (-109.505, -114.135)]"
      ]
     },
     "execution_count": 193,
     "metadata": {},
     "output_type": "execute_result"
    }
   ],
   "source": [
    "lon_range"
   ]
  },
  {
   "cell_type": "code",
   "execution_count": 204,
   "metadata": {},
   "outputs": [
    {
     "name": "stdout",
     "output_type": "stream",
     "text": [
      "../Data/cali_example_overlap_subsets/GB_2005_2011_align.1.csv\n",
      "../Data/cali_example_overlap_subsets/GB_2005_2011_align.2.csv\n",
      "../Data/cali_example_overlap_subsets/GB_2005_2011_align.3.csv\n",
      "../Data/cali_example_overlap_subsets/GB_2005_2011_align.4.csv\n",
      "../Data/cali_example_overlap_subsets/GB_2005_2011_align.5.csv\n",
      "../Data/cali_example_overlap_subsets/GB_2005_2011_align.6.csv\n",
      "../Data/cali_example_overlap_subsets/GB_2005_2011_align.7.csv\n",
      "../Data/cali_example_overlap_subsets/GB_2005_2011_align.8.csv\n",
      "../Data/cali_example_overlap_subsets/GB_2005_2011_align.9.csv\n",
      "../Data/cali_example_overlap_subsets/GB_2005_2011_align.10.csv\n",
      "../Data/cali_example_overlap_subsets/GB_2005_2011_align.11.csv\n",
      "../Data/cali_example_overlap_subsets/GB_2005_2011_align.12.csv\n",
      "../Data/cali_example_overlap_subsets/GB_2005_2011_align.13.csv\n",
      "../Data/cali_example_overlap_subsets/GB_2005_2011_align.14.csv\n",
      "../Data/cali_example_overlap_subsets/GB_2005_2011_align.15.csv\n",
      "../Data/cali_example_overlap_subsets/GB_2005_2011_align.16.csv\n",
      "../Data/cali_example_overlap_subsets/GB_2005_2011_align.17.csv\n",
      "../Data/cali_example_overlap_subsets/GB_2005_2011_align.18.csv\n",
      "../Data/cali_example_overlap_subsets/GB_2005_2011_align.19.csv\n",
      "../Data/cali_example_overlap_subsets/GB_2005_2011_align.20.csv\n",
      "../Data/cali_example_overlap_subsets/GB_2005_2011_align.21.csv\n",
      "../Data/cali_example_overlap_subsets/GB_2005_2011_align.22.csv\n",
      "../Data/cali_example_overlap_subsets/GB_2005_2011_align.23.csv\n",
      "../Data/cali_example_overlap_subsets/GB_2005_2011_align.24.csv\n",
      "../Data/cali_example_overlap_subsets/GB_2005_2011_align.25.csv\n",
      "../Data/cali_example_overlap_subsets/GB_2005_2011_align.26.csv\n",
      "../Data/cali_example_overlap_subsets/GB_2005_2011_align.27.csv\n",
      "../Data/cali_example_overlap_subsets/GB_2005_2011_align.28.csv\n",
      "../Data/cali_example_overlap_subsets/GB_2005_2011_align.29.csv\n",
      "../Data/cali_example_overlap_subsets/GB_2005_2011_align.30.csv\n",
      "../Data/cali_example_overlap_subsets/GB_2005_2011_align.31.csv\n",
      "../Data/cali_example_overlap_subsets/GB_2005_2011_align.32.csv\n",
      "../Data/cali_example_overlap_subsets/GB_2005_2011_align.33.csv\n",
      "../Data/cali_example_overlap_subsets/GB_2005_2011_align.34.csv\n",
      "../Data/cali_example_overlap_subsets/GB_2005_2011_align.35.csv\n",
      "../Data/cali_example_overlap_subsets/GB_2005_2011_align.36.csv\n",
      "../Data/cali_example_overlap_subsets/GB_2005_2011_align.37.csv\n",
      "../Data/cali_example_overlap_subsets/GB_2005_2011_align.38.csv\n",
      "../Data/cali_example_overlap_subsets/GB_2005_2011_align.39.csv\n",
      "../Data/cali_example_overlap_subsets/GB_2005_2011_align.40.csv\n",
      "../Data/cali_example_overlap_subsets/GB_2005_2011_align.41.csv\n",
      "../Data/cali_example_overlap_subsets/GB_2005_2011_align.42.csv\n",
      "../Data/cali_example_overlap_subsets/GB_2005_2011_align.43.csv\n",
      "../Data/cali_example_overlap_subsets/GB_2005_2011_align.44.csv\n",
      "../Data/cali_example_overlap_subsets/GB_2005_2011_align.45.csv\n"
     ]
    }
   ],
   "source": [
    "monthly_pred = pd.DataFrame(columns=['lon', 'lat', 'pm25', 'time'])\n",
    "subset_num = 1\n",
    "num_subset = {'AV' : 1, 'GB' : 1, 'GM' : 1}\n",
    "num_coords = 0\n",
    "models = [av_2005_2011, gm_2005_2011, gb_2005_2011]\n",
    "model_list = ['AV', 'GM', 'GB']\n",
    "\n",
    "for m, model in enumerate(models):\n",
    "    for i in range(len(lat_range)):\n",
    "        for j in range(len(lon_range)):\n",
    "            df_subset = model.loc[(model.lon >= lon_range[j][0]) & (model.lon <= lon_range[j][1]) & (model.lat >= lat_range[i][0]) & (model.lat <= lat_range[i][1])]\n",
    "            df_subset = df_subset[['lon', 'lat', 'pm25', 'time']]\n",
    "            monthly_pred = monthly_pred.append(df_subset)\n",
    "            if (df_subset.shape[0] != 0):\n",
    "                new_file = '{}{}_2005_2011_align.{}.csv'.format(save_dir, model_list[m], num_subset[model_list[m]])\n",
    "#                 print (new_file)\n",
    "                num_subset[model_list[m]] += 1\n",
    "#                 df_subset.to_csv(new_file, index = False)"
   ]
  },
  {
   "cell_type": "code",
   "execution_count": 205,
   "metadata": {},
   "outputs": [
    {
     "name": "stdout",
     "output_type": "stream",
     "text": [
      "0.0\n"
     ]
    }
   ],
   "source": [
    "print (num_coords/3)"
   ]
  },
  {
   "cell_type": "code",
   "execution_count": 206,
   "metadata": {},
   "outputs": [],
   "source": [
    "monthly_pred.drop_duplicates(inplace = True)"
   ]
  },
  {
   "cell_type": "code",
   "execution_count": 157,
   "metadata": {},
   "outputs": [
    {
     "data": {
      "text/plain": [
       "(723716, 5)"
      ]
     },
     "execution_count": 157,
     "metadata": {},
     "output_type": "execute_result"
    }
   ],
   "source": [
    "av_jan.shape"
   ]
  },
  {
   "cell_type": "code",
   "execution_count": 24,
   "metadata": {},
   "outputs": [
    {
     "data": {
      "text/plain": [
       "[1.71, 1.578]"
      ]
     },
     "execution_count": 24,
     "metadata": {},
     "output_type": "execute_result"
    }
   ],
   "source": [
    "split_range"
   ]
  },
  {
   "cell_type": "code",
   "execution_count": null,
   "metadata": {},
   "outputs": [],
   "source": [
    "split_poitns = []\n"
   ]
  },
  {
   "cell_type": "code",
   "execution_count": 9,
   "metadata": {},
   "outputs": [
    {
     "name": "stdout",
     "output_type": "stream",
     "text": [
      "../Data/cali_pred_data_2010_monthly/AV_clean_20101_align.1.csv\n",
      "(2879, 5)\n",
      "../Data/cali_pred_data_2010_monthly/AV_clean_20101_align.2.csv\n",
      "(8324, 5)\n",
      "../Data/cali_pred_data_2010_monthly/AV_clean_20101_align.3.csv\n",
      "(10757, 5)\n",
      "../Data/cali_pred_data_2010_monthly/AV_clean_20101_align.4.csv\n",
      "(12501, 5)\n",
      "../Data/cali_pred_data_2010_monthly/AV_clean_20101_align.5.csv\n",
      "(11819, 5)\n",
      "../Data/cali_pred_data_2010_monthly/AV_clean_20101_align.6.csv\n",
      "(8040, 5)\n",
      "../Data/cali_pred_data_2010_monthly/AV_clean_20101_align.7.csv\n",
      "(16928, 5)\n",
      "../Data/cali_pred_data_2010_monthly/AV_clean_20101_align.8.csv\n",
      "(22216, 5)\n",
      "../Data/cali_pred_data_2010_monthly/AV_clean_20101_align.9.csv\n",
      "(22230, 5)\n",
      "../Data/cali_pred_data_2010_monthly/AV_clean_20101_align.10.csv\n",
      "(22230, 5)\n",
      "../Data/cali_pred_data_2010_monthly/AV_clean_20101_align.11.csv\n",
      "(16685, 5)\n",
      "../Data/cali_pred_data_2010_monthly/AV_clean_20101_align.12.csv\n",
      "(27531, 5)\n",
      "../Data/cali_pred_data_2010_monthly/AV_clean_20101_align.13.csv\n",
      "(27531, 5)\n",
      "../Data/cali_pred_data_2010_monthly/AV_clean_20101_align.14.csv\n",
      "(27515, 5)\n",
      "../Data/cali_pred_data_2010_monthly/AV_clean_20101_align.15.csv\n",
      "(27360, 5)\n",
      "../Data/cali_pred_data_2010_monthly/AV_clean_20101_align.16.csv\n",
      "(19324, 5)\n",
      "../Data/cali_pred_data_2010_monthly/AV_clean_20101_align.17.csv\n",
      "(30096, 5)\n",
      "../Data/cali_pred_data_2010_monthly/AV_clean_20101_align.18.csv\n",
      "(30096, 5)\n",
      "../Data/cali_pred_data_2010_monthly/AV_clean_20101_align.19.csv\n",
      "(30096, 5)\n",
      "../Data/cali_pred_data_2010_monthly/AV_clean_20101_align.20.csv\n",
      "(30096, 5)\n",
      "../Data/cali_pred_data_2010_monthly/AV_clean_20101_align.21.csv\n",
      "(29406, 5)\n",
      "../Data/cali_pred_data_2010_monthly/AV_clean_20101_align.22.csv\n",
      "(32490, 5)\n",
      "../Data/cali_pred_data_2010_monthly/AV_clean_20101_align.23.csv\n",
      "(32490, 5)\n",
      "../Data/cali_pred_data_2010_monthly/AV_clean_20101_align.24.csv\n",
      "(32319, 5)\n",
      "../Data/cali_pred_data_2010_monthly/AV_clean_20101_align.25.csv\n",
      "(32319, 5)\n",
      "../Data/cali_pred_data_2010_monthly/AV_clean_20101_align.26.csv\n",
      "(30820, 5)\n",
      "../Data/cali_pred_data_2010_monthly/AV_clean_20101_align.27.csv\n",
      "(32490, 5)\n",
      "../Data/cali_pred_data_2010_monthly/AV_clean_20101_align.28.csv\n",
      "(32490, 5)\n",
      "../Data/cali_pred_data_2010_monthly/AV_clean_20101_align.29.csv\n",
      "(32319, 5)\n",
      "../Data/cali_pred_data_2010_monthly/AV_clean_20101_align.30.csv\n",
      "(32319, 5)\n",
      "../Data/cali_pred_data_2010_monthly/GS_clean_20101_align.1.csv\n",
      "(2879, 6)\n",
      "../Data/cali_pred_data_2010_monthly/GS_clean_20101_align.2.csv\n",
      "(8324, 6)\n",
      "../Data/cali_pred_data_2010_monthly/GS_clean_20101_align.3.csv\n",
      "(10757, 6)\n",
      "../Data/cali_pred_data_2010_monthly/GS_clean_20101_align.4.csv\n",
      "(12501, 6)\n",
      "../Data/cali_pred_data_2010_monthly/GS_clean_20101_align.5.csv\n",
      "(11819, 6)\n",
      "../Data/cali_pred_data_2010_monthly/GS_clean_20101_align.6.csv\n",
      "(8040, 6)\n",
      "../Data/cali_pred_data_2010_monthly/GS_clean_20101_align.7.csv\n",
      "(16928, 6)\n",
      "../Data/cali_pred_data_2010_monthly/GS_clean_20101_align.8.csv\n",
      "(22216, 6)\n",
      "../Data/cali_pred_data_2010_monthly/GS_clean_20101_align.9.csv\n",
      "(22230, 6)\n",
      "../Data/cali_pred_data_2010_monthly/GS_clean_20101_align.10.csv\n",
      "(22230, 6)\n",
      "../Data/cali_pred_data_2010_monthly/GS_clean_20101_align.11.csv\n",
      "(16685, 6)\n",
      "../Data/cali_pred_data_2010_monthly/GS_clean_20101_align.12.csv\n",
      "(27531, 6)\n",
      "../Data/cali_pred_data_2010_monthly/GS_clean_20101_align.13.csv\n",
      "(27531, 6)\n",
      "../Data/cali_pred_data_2010_monthly/GS_clean_20101_align.14.csv\n",
      "(27515, 6)\n",
      "../Data/cali_pred_data_2010_monthly/GS_clean_20101_align.15.csv\n",
      "(27360, 6)\n",
      "../Data/cali_pred_data_2010_monthly/GS_clean_20101_align.16.csv\n",
      "(19324, 6)\n",
      "../Data/cali_pred_data_2010_monthly/GS_clean_20101_align.17.csv\n",
      "(30096, 6)\n",
      "../Data/cali_pred_data_2010_monthly/GS_clean_20101_align.18.csv\n",
      "(30096, 6)\n",
      "../Data/cali_pred_data_2010_monthly/GS_clean_20101_align.19.csv\n",
      "(30096, 6)\n",
      "../Data/cali_pred_data_2010_monthly/GS_clean_20101_align.20.csv\n",
      "(30096, 6)\n",
      "../Data/cali_pred_data_2010_monthly/GS_clean_20101_align.21.csv\n",
      "(29406, 6)\n",
      "../Data/cali_pred_data_2010_monthly/GS_clean_20101_align.22.csv\n",
      "(32490, 6)\n",
      "../Data/cali_pred_data_2010_monthly/GS_clean_20101_align.23.csv\n",
      "(32490, 6)\n",
      "../Data/cali_pred_data_2010_monthly/GS_clean_20101_align.24.csv\n",
      "(32319, 6)\n",
      "../Data/cali_pred_data_2010_monthly/GS_clean_20101_align.25.csv\n",
      "(32319, 6)\n",
      "../Data/cali_pred_data_2010_monthly/GS_clean_20101_align.26.csv\n",
      "(30820, 6)\n",
      "../Data/cali_pred_data_2010_monthly/GS_clean_20101_align.27.csv\n",
      "(32490, 6)\n",
      "../Data/cali_pred_data_2010_monthly/GS_clean_20101_align.28.csv\n",
      "(32490, 6)\n",
      "../Data/cali_pred_data_2010_monthly/GS_clean_20101_align.29.csv\n",
      "(32319, 6)\n",
      "../Data/cali_pred_data_2010_monthly/GS_clean_20101_align.30.csv\n",
      "(32319, 6)\n",
      "../Data/cali_pred_data_2010_monthly/GM_clean_20101_align.1.csv\n",
      "(2879, 7)\n",
      "../Data/cali_pred_data_2010_monthly/GM_clean_20101_align.2.csv\n",
      "(8324, 7)\n",
      "../Data/cali_pred_data_2010_monthly/GM_clean_20101_align.3.csv\n",
      "(10757, 7)\n",
      "../Data/cali_pred_data_2010_monthly/GM_clean_20101_align.4.csv\n",
      "(12501, 7)\n",
      "../Data/cali_pred_data_2010_monthly/GM_clean_20101_align.5.csv\n",
      "(11819, 7)\n",
      "../Data/cali_pred_data_2010_monthly/GM_clean_20101_align.6.csv\n",
      "(8040, 7)\n",
      "../Data/cali_pred_data_2010_monthly/GM_clean_20101_align.7.csv\n",
      "(16928, 7)\n",
      "../Data/cali_pred_data_2010_monthly/GM_clean_20101_align.8.csv\n",
      "(22216, 7)\n",
      "../Data/cali_pred_data_2010_monthly/GM_clean_20101_align.9.csv\n",
      "(22230, 7)\n",
      "../Data/cali_pred_data_2010_monthly/GM_clean_20101_align.10.csv\n",
      "(22230, 7)\n",
      "../Data/cali_pred_data_2010_monthly/GM_clean_20101_align.11.csv\n",
      "(16685, 7)\n",
      "../Data/cali_pred_data_2010_monthly/GM_clean_20101_align.12.csv\n",
      "(27531, 7)\n",
      "../Data/cali_pred_data_2010_monthly/GM_clean_20101_align.13.csv\n",
      "(27531, 7)\n",
      "../Data/cali_pred_data_2010_monthly/GM_clean_20101_align.14.csv\n",
      "(27515, 7)\n",
      "../Data/cali_pred_data_2010_monthly/GM_clean_20101_align.15.csv\n",
      "(27360, 7)\n",
      "../Data/cali_pred_data_2010_monthly/GM_clean_20101_align.16.csv\n",
      "(19324, 7)\n",
      "../Data/cali_pred_data_2010_monthly/GM_clean_20101_align.17.csv\n",
      "(30096, 7)\n",
      "../Data/cali_pred_data_2010_monthly/GM_clean_20101_align.18.csv\n",
      "(30096, 7)\n",
      "../Data/cali_pred_data_2010_monthly/GM_clean_20101_align.19.csv\n",
      "(30096, 7)\n",
      "../Data/cali_pred_data_2010_monthly/GM_clean_20101_align.20.csv\n",
      "(30096, 7)\n",
      "../Data/cali_pred_data_2010_monthly/GM_clean_20101_align.21.csv\n",
      "(29406, 7)\n",
      "../Data/cali_pred_data_2010_monthly/GM_clean_20101_align.22.csv\n",
      "(32490, 7)\n",
      "../Data/cali_pred_data_2010_monthly/GM_clean_20101_align.23.csv\n",
      "(32490, 7)\n",
      "../Data/cali_pred_data_2010_monthly/GM_clean_20101_align.24.csv\n",
      "(32319, 7)\n",
      "../Data/cali_pred_data_2010_monthly/GM_clean_20101_align.25.csv\n",
      "(32319, 7)\n",
      "../Data/cali_pred_data_2010_monthly/GM_clean_20101_align.26.csv\n",
      "(30820, 7)\n",
      "../Data/cali_pred_data_2010_monthly/GM_clean_20101_align.27.csv\n",
      "(32490, 7)\n",
      "../Data/cali_pred_data_2010_monthly/GM_clean_20101_align.28.csv\n",
      "(32490, 7)\n",
      "../Data/cali_pred_data_2010_monthly/GM_clean_20101_align.29.csv\n",
      "(32319, 7)\n",
      "../Data/cali_pred_data_2010_monthly/GM_clean_20101_align.30.csv\n",
      "(32319, 7)\n"
     ]
    }
   ],
   "source": [
    "#this creates different sized splits\n",
    "\n",
    "num_lon_splits = 6\n",
    "total_coords = 0\n",
    "lon_splits = np.array_split(np.unique(np.sort(av_jan.lon.values)), num_lon_splits)\n",
    "num_subset = {'AV' : 1, 'GS' : 1, 'GM' : 1}\n",
    "\n",
    "for model in models:\n",
    "    model_df = pd.read_csv('{}{}_clean_20101_align.csv'.format(data_dir,model))\n",
    "    for i in range(num_lon_splits):\n",
    "        sub_lon = lon_splits[i]\n",
    "        df_sub = model_df.loc[model_df.lon.isin(sub_lon)]\n",
    "        num_lat_splits = 5\n",
    "        lat_splits = np.array_split(np.unique(np.sort(df_sub.lat.values)), num_lat_splits)\n",
    "        for j in range(num_lat_splits):\n",
    "            sub_lat = lat_splits[j]\n",
    "            df_sub_sub = df_sub.loc[df_sub.lat.isin(sub_lat)]\n",
    "            total_coords += df_sub_sub.shape[0]\n",
    "            new_file = '{}{}_clean_20101_align.{}.csv'.format(data_dir, model, num_subset[model])\n",
    "            print (new_file)\n",
    "            num_subset[model] += 1\n",
    "            print (df_sub_sub.shape)\n",
    "#             df_sub_sub.to_csv(new_file, index = False)"
   ]
  },
  {
   "cell_type": "code",
   "execution_count": 83,
   "metadata": {},
   "outputs": [],
   "source": [
    "# using coordinates from R\n",
    "num_coords = 0\n",
    "num_r_subsegs = 36\n",
    "num_subsegs = {'AV' : 0, 'GS' : 0, 'GM' : 0}\n",
    "\n",
    "for model in models:\n",
    "    model_df = pd.read_csv('{}{}_clean_20101_align.csv'.format(data_dir,model))\n",
    "    for i in range(1, num_r_subsegs + 1):\n",
    "        file_name = '{}coordinates_{}.csv'.format(data_dir, i)\n",
    "        coordinates = pd.read_csv(file_name)\n",
    "        lon_list = list(np.around(np.array(np.unique(coordinates.x.values)),3))\n",
    "        lat_list = list(np.around(np.array(np.unique(coordinates.y.values)),3))\n",
    "        df_sub = model_df.loc[(model_df.lon.isin(lon_list)) & (model_df.lat.isin(lat_list))]\n",
    "        if (df_sub.shape[0] != 0):\n",
    "            df_sub = df_sub[['lon', 'lat', 'pm25']]\n",
    "            num_subsegs[model] += 1\n",
    "            new_file = '{}{}_clean_20101_align.{}.csv'.format(data_dir, model, num_subsegs[model])\n",
    "            df_sub.to_csv(new_file, index = False)"
   ]
  }
 ],
 "metadata": {
  "kernelspec": {
   "display_name": "Python 3",
   "language": "python",
   "name": "python3"
  },
  "language_info": {
   "codemirror_mode": {
    "name": "ipython",
    "version": 3
   },
   "file_extension": ".py",
   "mimetype": "text/x-python",
   "name": "python",
   "nbconvert_exporter": "python",
   "pygments_lexer": "ipython3",
   "version": "3.6.8"
  }
 },
 "nbformat": 4,
 "nbformat_minor": 2
}
