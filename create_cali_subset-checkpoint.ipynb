{
 "cells": [
  {
   "cell_type": "markdown",
   "metadata": {},
   "source": [
    "## Create Subset"
   ]
  },
  {
   "cell_type": "code",
   "execution_count": 45,
   "metadata": {},
   "outputs": [],
   "source": [
    "import pandas as pd\n",
    "import numpy as np\n",
    "import os\n",
    "import pickle as pk"
   ]
  },
  {
   "cell_type": "code",
   "execution_count": 24,
   "metadata": {},
   "outputs": [],
   "source": [
    "training_data = pd.read_csv('./Data/cali_example/training_data_2010.csv', usecols = [1, 2, 3, 4, 5, 6])\n",
    "av = pd.read_csv('./Data/cali_example/AV_2010_align.csv', usecols = [1,2,3])\n",
    "gm = pd.read_csv('./Data/cali_example/GM_2010_align.csv', usecols = [1,2,3])\n",
    "gs = pd.read_csv('./Data/cali_example/GS_2010_align.csv', usecols = [1,2,3])"
   ]
  },
  {
   "cell_type": "code",
   "execution_count": 25,
   "metadata": {},
   "outputs": [],
   "source": [
    "training_data = training_data.loc[(training_data.lon >= -124.0) & (training_data.lon <= -120.0) & (training_data.lat >= 40.0) & (training_data.lat <= 44.0)]"
   ]
  },
  {
   "cell_type": "code",
   "execution_count": 27,
   "metadata": {},
   "outputs": [],
   "source": [
    "av = av.loc[(av.lon >= -124.0) & (av.lon <= -120.0) & (av.lat >= 40.0) & (av.lat <= 44.0)]"
   ]
  },
  {
   "cell_type": "code",
   "execution_count": 28,
   "metadata": {},
   "outputs": [],
   "source": [
    "gm = gm.loc[(gm.lon >= -124.0) & (gm.lon <= -120.0) & (gm.lat >= 40.0) & (gm.lat <= 44.0)]"
   ]
  },
  {
   "cell_type": "code",
   "execution_count": 29,
   "metadata": {},
   "outputs": [],
   "source": [
    "gs = gs.loc[(gs.lon >= -124.0) & (gs.lon <= -120.0) & (gs.lat >= 40.0) & (gs.lat <= 44.0)]"
   ]
  },
  {
   "cell_type": "code",
   "execution_count": 33,
   "metadata": {},
   "outputs": [],
   "source": [
    "training_data.to_csv('./Cali_Example/example/data/training_data_2010.csv', index = False)\n",
    "av.to_csv('./Cali_Example/example/data/AV_2010_align.csv')\n",
    "gm.to_csv('./Cali_Example/example/data/GM_2010_align.csv')\n",
    "gs.to_csv('./Cali_Example/example/data/GS_2010_align.csv')"
   ]
  },
  {
   "cell_type": "markdown",
   "metadata": {},
   "source": [
    "## Create file to visualize BNE predictions"
   ]
  },
  {
   "cell_type": "code",
   "execution_count": 46,
   "metadata": {},
   "outputs": [],
   "source": [
    "_SAVE_ADDR_PREFIX = \"./Cali_Example/result_ca_2010/calibre_2d_annual_pm25_example_ca_2010/\"\n",
    "family_name = \"hmc\""
   ]
  },
  {
   "cell_type": "code",
   "execution_count": 47,
   "metadata": {},
   "outputs": [],
   "source": [
    "with open(os.path.join(_SAVE_ADDR_PREFIX,\n",
    "                       '{}/ensemble_posterior_pred_mean_sample.pkl'.format(family_name)), 'rb') as file:\n",
    "    ensemble_mean_val = pk.load(file)\n",
    "    \n",
    "with open(os.path.join(_SAVE_ADDR_PREFIX,\n",
    "                       '{}/ensemble_posterior_pred_dist_sample.pkl'.format(family_name)), 'rb') as file:\n",
    "    ensemble_sample_val = pk.load(file)"
   ]
  },
  {
   "cell_type": "code",
   "execution_count": 48,
   "metadata": {},
   "outputs": [],
   "source": [
    "post_mean_dict = {\n",
    "    \"overall\": np.mean(ensemble_sample_val, axis=1),\n",
    "    \"mean\": np.mean(ensemble_mean_val, axis=1),\n",
    "    \"resid\": np.mean(ensemble_sample_val - ensemble_mean_val, axis=1)\n",
    "}"
   ]
  },
  {
   "cell_type": "code",
   "execution_count": 49,
   "metadata": {},
   "outputs": [
    {
     "data": {
      "text/plain": [
       "(80400,)"
      ]
     },
     "execution_count": 49,
     "metadata": {},
     "output_type": "execute_result"
    }
   ],
   "source": [
    "post_mean_dict['overall'].shape"
   ]
  },
  {
   "cell_type": "code",
   "execution_count": 55,
   "metadata": {},
   "outputs": [],
   "source": [
    "locations = pd.read_csv('./Cali_Example/example/data/AV_2010_align.csv', usecols = [1,2,3])"
   ]
  },
  {
   "cell_type": "code",
   "execution_count": 56,
   "metadata": {},
   "outputs": [
    {
     "data": {
      "text/plain": [
       "(80400, 3)"
      ]
     },
     "execution_count": 56,
     "metadata": {},
     "output_type": "execute_result"
    }
   ],
   "source": [
    "locations.shape"
   ]
  },
  {
   "cell_type": "code",
   "execution_count": 57,
   "metadata": {},
   "outputs": [],
   "source": [
    "locations['mean_overall'] = post_mean_dict['overall']\n",
    "locations['mean_mean'] = post_mean_dict['mean']"
   ]
  },
  {
   "cell_type": "code",
   "execution_count": 60,
   "metadata": {},
   "outputs": [],
   "source": [
    "locations.to_csv('./Data/cali_example/model_predictions.csv', index = False)"
   ]
  }
 ],
 "metadata": {
  "kernelspec": {
   "display_name": "Python 3",
   "language": "python",
   "name": "python3"
  },
  "language_info": {
   "codemirror_mode": {
    "name": "ipython",
    "version": 3
   },
   "file_extension": ".py",
   "mimetype": "text/x-python",
   "name": "python",
   "nbconvert_exporter": "python",
   "pygments_lexer": "ipython3",
   "version": "3.6.8"
  }
 },
 "nbformat": 4,
 "nbformat_minor": 2
}
