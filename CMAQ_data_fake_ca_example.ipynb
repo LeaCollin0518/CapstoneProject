{
 "cells": [
  {
   "cell_type": "code",
   "execution_count": 1,
   "metadata": {},
   "outputs": [],
   "source": [
    "import pandas as pd\n",
    "import numpy as np"
   ]
  },
  {
   "cell_type": "code",
   "execution_count": 2,
   "metadata": {},
   "outputs": [],
   "source": [
    "outputs_2010 = pd.read_csv('EPA_CMAQ/outputs/2010_pm25_daily_average 2.txt') "
   ]
  },
  {
   "cell_type": "code",
   "execution_count": 3,
   "metadata": {},
   "outputs": [],
   "source": [
    "outputs_2010['s_FIPS'] = outputs_2010['FIPS'].astype(str) #= outputs_2010.apply(lambda x: str(x.FIPS)[0]=='6', axis=1)"
   ]
  },
  {
   "cell_type": "code",
   "execution_count": 4,
   "metadata": {},
   "outputs": [],
   "source": [
    "ca_outputs_2010 = outputs_2010[outputs_2010.s_FIPS.str[0] =='6']"
   ]
  },
  {
   "cell_type": "code",
   "execution_count": 5,
   "metadata": {},
   "outputs": [
    {
     "data": {
      "text/html": [
       "<div>\n",
       "<style scoped>\n",
       "    .dataframe tbody tr th:only-of-type {\n",
       "        vertical-align: middle;\n",
       "    }\n",
       "\n",
       "    .dataframe tbody tr th {\n",
       "        vertical-align: top;\n",
       "    }\n",
       "\n",
       "    .dataframe thead th {\n",
       "        text-align: right;\n",
       "    }\n",
       "</style>\n",
       "<table border=\"1\" class=\"dataframe\">\n",
       "  <thead>\n",
       "    <tr style=\"text-align: right;\">\n",
       "      <th></th>\n",
       "      <th>Date</th>\n",
       "      <th>FIPS</th>\n",
       "      <th>Longitude</th>\n",
       "      <th>Latitude</th>\n",
       "      <th>pm25_daily_average(ug/m3)</th>\n",
       "      <th>pm25_daily_average_stderr(ug/m3)</th>\n",
       "      <th>s_FIPS</th>\n",
       "    </tr>\n",
       "  </thead>\n",
       "  <tbody>\n",
       "    <tr>\n",
       "      <td>3391</td>\n",
       "      <td>2010/01/01</td>\n",
       "      <td>6001400100</td>\n",
       "      <td>-122.23181</td>\n",
       "      <td>37.86754</td>\n",
       "      <td>24.762</td>\n",
       "      <td>7.2211</td>\n",
       "      <td>6001400100</td>\n",
       "    </tr>\n",
       "    <tr>\n",
       "      <td>3392</td>\n",
       "      <td>2010/01/01</td>\n",
       "      <td>6001400200</td>\n",
       "      <td>-122.24948</td>\n",
       "      <td>37.84817</td>\n",
       "      <td>24.861</td>\n",
       "      <td>7.4563</td>\n",
       "      <td>6001400200</td>\n",
       "    </tr>\n",
       "    <tr>\n",
       "      <td>3393</td>\n",
       "      <td>2010/01/01</td>\n",
       "      <td>6001400300</td>\n",
       "      <td>-122.25442</td>\n",
       "      <td>37.84056</td>\n",
       "      <td>24.545</td>\n",
       "      <td>7.2497</td>\n",
       "      <td>6001400300</td>\n",
       "    </tr>\n",
       "    <tr>\n",
       "      <td>3394</td>\n",
       "      <td>2010/01/01</td>\n",
       "      <td>6001400400</td>\n",
       "      <td>-122.25752</td>\n",
       "      <td>37.84801</td>\n",
       "      <td>24.904</td>\n",
       "      <td>7.4018</td>\n",
       "      <td>6001400400</td>\n",
       "    </tr>\n",
       "    <tr>\n",
       "      <td>3395</td>\n",
       "      <td>2010/01/01</td>\n",
       "      <td>6001400500</td>\n",
       "      <td>-122.26480</td>\n",
       "      <td>37.84853</td>\n",
       "      <td>24.300</td>\n",
       "      <td>7.2837</td>\n",
       "      <td>6001400500</td>\n",
       "    </tr>\n",
       "  </tbody>\n",
       "</table>\n",
       "</div>"
      ],
      "text/plain": [
       "            Date        FIPS  Longitude  Latitude  pm25_daily_average(ug/m3)  \\\n",
       "3391  2010/01/01  6001400100 -122.23181  37.86754                     24.762   \n",
       "3392  2010/01/01  6001400200 -122.24948  37.84817                     24.861   \n",
       "3393  2010/01/01  6001400300 -122.25442  37.84056                     24.545   \n",
       "3394  2010/01/01  6001400400 -122.25752  37.84801                     24.904   \n",
       "3395  2010/01/01  6001400500 -122.26480  37.84853                     24.300   \n",
       "\n",
       "      pm25_daily_average_stderr(ug/m3)      s_FIPS  \n",
       "3391                            7.2211  6001400100  \n",
       "3392                            7.4563  6001400200  \n",
       "3393                            7.2497  6001400300  \n",
       "3394                            7.4018  6001400400  \n",
       "3395                            7.2837  6001400500  "
      ]
     },
     "execution_count": 5,
     "metadata": {},
     "output_type": "execute_result"
    }
   ],
   "source": [
    "ca_outputs_2010.head()"
   ]
  },
  {
   "cell_type": "code",
   "execution_count": 6,
   "metadata": {},
   "outputs": [],
   "source": [
    "ca_annual_2010 = ca_outputs_2010[['Longitude', 'Latitude', 'FIPS', 'pm25_daily_average(ug/m3)']].\\\n",
    "groupby('FIPS').mean().reset_index()"
   ]
  },
  {
   "cell_type": "code",
   "execution_count": 7,
   "metadata": {},
   "outputs": [],
   "source": [
    "# round to nearest 0.05 \n",
    "ca_annual_2010['approx_Long'] = round(ca_annual_2010.Longitude/0.005) * 0.005\n",
    "ca_annual_2010['approx_Lat'] = round(ca_annual_2010.Latitude/0.005) * 0.005"
   ]
  },
  {
   "cell_type": "code",
   "execution_count": 8,
   "metadata": {},
   "outputs": [],
   "source": [
    "ref = pd.read_csv('/Users/linghe/Desktop/Columbia/2019 Fall/Capstone/calibre/example/data/dh_ca_annual_2010.csv') "
   ]
  },
  {
   "cell_type": "code",
   "execution_count": 9,
   "metadata": {},
   "outputs": [],
   "source": [
    "ref['approx_Long'] = round(ref.x/0.005) * 0.005\n",
    "ref['approx_Lat'] = round(ref.y/0.005) * 0.005"
   ]
  },
  {
   "cell_type": "code",
   "execution_count": 10,
   "metadata": {},
   "outputs": [
    {
     "data": {
      "text/html": [
       "<div>\n",
       "<style scoped>\n",
       "    .dataframe tbody tr th:only-of-type {\n",
       "        vertical-align: middle;\n",
       "    }\n",
       "\n",
       "    .dataframe tbody tr th {\n",
       "        vertical-align: top;\n",
       "    }\n",
       "\n",
       "    .dataframe thead th {\n",
       "        text-align: right;\n",
       "    }\n",
       "</style>\n",
       "<table border=\"1\" class=\"dataframe\">\n",
       "  <thead>\n",
       "    <tr style=\"text-align: right;\">\n",
       "      <th></th>\n",
       "      <th>x</th>\n",
       "      <th>y</th>\n",
       "      <th>PM25</th>\n",
       "      <th>approx_Long</th>\n",
       "      <th>approx_Lat</th>\n",
       "    </tr>\n",
       "  </thead>\n",
       "  <tbody>\n",
       "    <tr>\n",
       "      <td>0</td>\n",
       "      <td>-124.405</td>\n",
       "      <td>42.005</td>\n",
       "      <td>NaN</td>\n",
       "      <td>-124.405</td>\n",
       "      <td>42.005</td>\n",
       "    </tr>\n",
       "    <tr>\n",
       "      <td>1</td>\n",
       "      <td>-124.395</td>\n",
       "      <td>42.005</td>\n",
       "      <td>NaN</td>\n",
       "      <td>-124.395</td>\n",
       "      <td>42.005</td>\n",
       "    </tr>\n",
       "    <tr>\n",
       "      <td>2</td>\n",
       "      <td>-124.385</td>\n",
       "      <td>42.005</td>\n",
       "      <td>NaN</td>\n",
       "      <td>-124.385</td>\n",
       "      <td>42.005</td>\n",
       "    </tr>\n",
       "    <tr>\n",
       "      <td>3</td>\n",
       "      <td>-124.375</td>\n",
       "      <td>42.005</td>\n",
       "      <td>NaN</td>\n",
       "      <td>-124.375</td>\n",
       "      <td>42.005</td>\n",
       "    </tr>\n",
       "    <tr>\n",
       "      <td>4</td>\n",
       "      <td>-124.365</td>\n",
       "      <td>42.005</td>\n",
       "      <td>NaN</td>\n",
       "      <td>-124.365</td>\n",
       "      <td>42.005</td>\n",
       "    </tr>\n",
       "  </tbody>\n",
       "</table>\n",
       "</div>"
      ],
      "text/plain": [
       "         x       y  PM25  approx_Long  approx_Lat\n",
       "0 -124.405  42.005   NaN     -124.405      42.005\n",
       "1 -124.395  42.005   NaN     -124.395      42.005\n",
       "2 -124.385  42.005   NaN     -124.385      42.005\n",
       "3 -124.375  42.005   NaN     -124.375      42.005\n",
       "4 -124.365  42.005   NaN     -124.365      42.005"
      ]
     },
     "execution_count": 10,
     "metadata": {},
     "output_type": "execute_result"
    }
   ],
   "source": [
    "ref.head()"
   ]
  },
  {
   "cell_type": "code",
   "execution_count": 11,
   "metadata": {},
   "outputs": [
    {
     "data": {
      "text/html": [
       "<div>\n",
       "<style scoped>\n",
       "    .dataframe tbody tr th:only-of-type {\n",
       "        vertical-align: middle;\n",
       "    }\n",
       "\n",
       "    .dataframe tbody tr th {\n",
       "        vertical-align: top;\n",
       "    }\n",
       "\n",
       "    .dataframe thead th {\n",
       "        text-align: right;\n",
       "    }\n",
       "</style>\n",
       "<table border=\"1\" class=\"dataframe\">\n",
       "  <thead>\n",
       "    <tr style=\"text-align: right;\">\n",
       "      <th></th>\n",
       "      <th>FIPS</th>\n",
       "      <th>Longitude</th>\n",
       "      <th>Latitude</th>\n",
       "      <th>pm25_daily_average(ug/m3)</th>\n",
       "      <th>approx_Long</th>\n",
       "      <th>approx_Lat</th>\n",
       "    </tr>\n",
       "  </thead>\n",
       "  <tbody>\n",
       "    <tr>\n",
       "      <td>0</td>\n",
       "      <td>6001400100</td>\n",
       "      <td>-122.23181</td>\n",
       "      <td>37.86754</td>\n",
       "      <td>9.780627</td>\n",
       "      <td>-122.230</td>\n",
       "      <td>37.87</td>\n",
       "    </tr>\n",
       "    <tr>\n",
       "      <td>1</td>\n",
       "      <td>6001400200</td>\n",
       "      <td>-122.24948</td>\n",
       "      <td>37.84817</td>\n",
       "      <td>9.902219</td>\n",
       "      <td>-122.250</td>\n",
       "      <td>37.85</td>\n",
       "    </tr>\n",
       "    <tr>\n",
       "      <td>2</td>\n",
       "      <td>6001400300</td>\n",
       "      <td>-122.25442</td>\n",
       "      <td>37.84056</td>\n",
       "      <td>9.863416</td>\n",
       "      <td>-122.255</td>\n",
       "      <td>37.84</td>\n",
       "    </tr>\n",
       "    <tr>\n",
       "      <td>3</td>\n",
       "      <td>6001400400</td>\n",
       "      <td>-122.25752</td>\n",
       "      <td>37.84801</td>\n",
       "      <td>9.854425</td>\n",
       "      <td>-122.260</td>\n",
       "      <td>37.85</td>\n",
       "    </tr>\n",
       "    <tr>\n",
       "      <td>4</td>\n",
       "      <td>6001400500</td>\n",
       "      <td>-122.26480</td>\n",
       "      <td>37.84853</td>\n",
       "      <td>9.832364</td>\n",
       "      <td>-122.265</td>\n",
       "      <td>37.85</td>\n",
       "    </tr>\n",
       "  </tbody>\n",
       "</table>\n",
       "</div>"
      ],
      "text/plain": [
       "         FIPS  Longitude  Latitude  pm25_daily_average(ug/m3)  approx_Long  \\\n",
       "0  6001400100 -122.23181  37.86754                   9.780627     -122.230   \n",
       "1  6001400200 -122.24948  37.84817                   9.902219     -122.250   \n",
       "2  6001400300 -122.25442  37.84056                   9.863416     -122.255   \n",
       "3  6001400400 -122.25752  37.84801                   9.854425     -122.260   \n",
       "4  6001400500 -122.26480  37.84853                   9.832364     -122.265   \n",
       "\n",
       "   approx_Lat  \n",
       "0       37.87  \n",
       "1       37.85  \n",
       "2       37.84  \n",
       "3       37.85  \n",
       "4       37.85  "
      ]
     },
     "execution_count": 11,
     "metadata": {},
     "output_type": "execute_result"
    }
   ],
   "source": [
    "ca_annual_2010.head()"
   ]
  },
  {
   "cell_type": "code",
   "execution_count": 12,
   "metadata": {},
   "outputs": [],
   "source": [
    "ca_annual_2010.drop_duplicates(subset = ['approx_Long','approx_Lat'], \n",
    "                     keep = False, inplace = True) "
   ]
  },
  {
   "cell_type": "code",
   "execution_count": 13,
   "metadata": {},
   "outputs": [],
   "source": [
    "joined_df = ref.merge(ca_annual_2010[['Longitude', 'Latitude', 'pm25_daily_average(ug/m3)', 'approx_Long', 'approx_Lat']], \\\n",
    "         how='left', on=['approx_Long','approx_Lat'])"
   ]
  },
  {
   "cell_type": "code",
   "execution_count": 14,
   "metadata": {},
   "outputs": [
    {
     "data": {
      "text/plain": [
       "(974544, 8)"
      ]
     },
     "execution_count": 14,
     "metadata": {},
     "output_type": "execute_result"
    }
   ],
   "source": [
    "joined_df.shape"
   ]
  },
  {
   "cell_type": "code",
   "execution_count": 15,
   "metadata": {},
   "outputs": [],
   "source": [
    "cmaq_ca_annual_2010 = joined_df[['x', 'y', 'pm25_daily_average(ug/m3)']]"
   ]
  },
  {
   "cell_type": "code",
   "execution_count": 16,
   "metadata": {},
   "outputs": [
    {
     "name": "stderr",
     "output_type": "stream",
     "text": [
      "/anaconda3/envs/dlenv/lib/python3.6/site-packages/pandas/core/frame.py:4223: SettingWithCopyWarning: \n",
      "A value is trying to be set on a copy of a slice from a DataFrame\n",
      "\n",
      "See the caveats in the documentation: http://pandas.pydata.org/pandas-docs/stable/user_guide/indexing.html#returning-a-view-versus-a-copy\n",
      "  return super().rename(**kwargs)\n"
     ]
    }
   ],
   "source": [
    "cmaq_ca_annual_2010.rename(columns={'x':'lon',\n",
    "                          'y':'lat',\n",
    "                          'pm25_daily_average(ug/m3)': 'pm25'}, \n",
    "                 inplace=True)"
   ]
  },
  {
   "cell_type": "code",
   "execution_count": 17,
   "metadata": {},
   "outputs": [
    {
     "data": {
      "text/plain": [
       "(974544, 3)"
      ]
     },
     "execution_count": 17,
     "metadata": {},
     "output_type": "execute_result"
    }
   ],
   "source": [
    "cmaq_ca_annual_2010.shape"
   ]
  },
  {
   "cell_type": "code",
   "execution_count": 18,
   "metadata": {},
   "outputs": [],
   "source": [
    "# cmaq_ca_annual_2010.to_csv('/Users/linghe/Desktop/Columbia/2019 Fall/Capstone/'+\\\n",
    "# 'calibre/example/data/CMAQ_2010_align.csv')"
   ]
  },
  {
   "cell_type": "code",
   "execution_count": 19,
   "metadata": {},
   "outputs": [],
   "source": [
    "cmaq_ca_annual_2010_1 = cmaq_ca_annual_2010.copy()\n",
    "cmaq_ca_annual_2010_2 = cmaq_ca_annual_2010.copy()\n",
    "\n",
    "fake_pm25 = np.random.uniform(ca_annual_2010['pm25_daily_average(ug/m3)'].min(), \\\n",
    "                              ca_annual_2010['pm25_daily_average(ug/m3)'].max(), (2, ref.shape[0]))"
   ]
  },
  {
   "cell_type": "code",
   "execution_count": 20,
   "metadata": {},
   "outputs": [],
   "source": [
    "cmaq_ca_annual_2010_1['pm25'] = fake_pm25[0]\n",
    "cmaq_ca_annual_2010_2['pm25'] = fake_pm25[1]"
   ]
  },
  {
   "cell_type": "code",
   "execution_count": 21,
   "metadata": {},
   "outputs": [],
   "source": [
    "cmaq_ca_annual_2010_1.to_csv('/Users/linghe/Desktop/Columbia/2019 Fall/Capstone/'+\\\n",
    "'calibre/example/data/CMAQ1_2010_align.csv')"
   ]
  },
  {
   "cell_type": "code",
   "execution_count": 22,
   "metadata": {},
   "outputs": [],
   "source": [
    "cmaq_ca_annual_2010_2.to_csv('/Users/linghe/Desktop/Columbia/2019 Fall/Capstone/'+\\\n",
    "'calibre/example/data/CMAQ2_2010_align.csv')"
   ]
  },
  {
   "cell_type": "code",
   "execution_count": null,
   "metadata": {},
   "outputs": [],
   "source": []
  }
 ],
 "metadata": {
  "kernelspec": {
   "display_name": "Python 3",
   "language": "python",
   "name": "python3"
  },
  "language_info": {
   "codemirror_mode": {
    "name": "ipython",
    "version": 3
   },
   "file_extension": ".py",
   "mimetype": "text/x-python",
   "name": "python",
   "nbconvert_exporter": "python",
   "pygments_lexer": "ipython3",
   "version": "3.6.9"
  }
 },
 "nbformat": 4,
 "nbformat_minor": 2
}
