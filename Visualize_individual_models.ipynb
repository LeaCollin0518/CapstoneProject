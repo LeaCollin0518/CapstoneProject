{
 "cells": [
  {
   "cell_type": "code",
   "execution_count": 1,
   "metadata": {},
   "outputs": [
    {
     "name": "stdout",
     "output_type": "stream",
     "text": [
      "WARNING:tensorflow:From /Users/linghe/Desktop/Columbia/2019 Fall/Capstone/calibre/calibre/util/distribution.py:93: RegisterKL.__init__ (from tensorflow.python.ops.distributions.kullback_leibler) is deprecated and will be removed after 2019-01-01.\n",
      "Instructions for updating:\n",
      "The TensorFlow Distributions library has moved to TensorFlow Probability (https://github.com/tensorflow/probability). You should update all references to use `tfp.distributions` instead of `tf.distributions`.\n"
     ]
    }
   ],
   "source": [
    "import os\n",
    "import time\n",
    "\n",
    "from importlib import reload\n",
    "\n",
    "import pickle as pk\n",
    "import pandas as pd\n",
    "\n",
    "import numpy as np\n",
    "from scipy.stats import norm as norm_dist\n",
    "\n",
    "from sklearn.cluster import KMeans\n",
    "from sklearn.isotonic import IsotonicRegression\n",
    "from sklearn.model_selection import KFold\n",
    "\n",
    "import tensorflow as tf\n",
    "import tensorflow_probability as tfp\n",
    "from tensorflow_probability import edward2 as ed\n",
    "\n",
    "#sys.path.extend([os.getcwd()])\n",
    "\n",
    "from calibre.model import gaussian_process as gp\n",
    "from calibre.model import tailfree_process as tail_free\n",
    "from calibre.model import gp_regression_monotone as gpr_mono\n",
    "from calibre.model import adaptive_ensemble\n",
    "\n",
    "from calibre.inference import mcmc\n",
    "\n",
    "from calibre.calibration import score\n",
    "\n",
    "import calibre.util.misc as misc_util\n",
    "import calibre.util.metric as metric_util\n",
    "import calibre.util.visual as visual_util\n",
    "import calibre.util.matrix as matrix_util\n",
    "import calibre.util.ensemble as ensemble_util\n",
    "import calibre.util.calibration as calib_util\n",
    "\n",
    "import calibre.util.experiment_pred as pred_util\n",
    "\n",
    "from calibre.util.inference import make_value_setter\n",
    "\n",
    "import matplotlib.pyplot as plt\n",
    "import seaborn as sns\n"
   ]
  },
  {
   "cell_type": "code",
   "execution_count": 2,
   "metadata": {},
   "outputs": [],
   "source": [
    "AV_US = pd.read_csv(\"all_models/AV_2010_2016_align.csv\")"
   ]
  },
  {
   "cell_type": "code",
   "execution_count": 3,
   "metadata": {},
   "outputs": [],
   "source": [
    "AV_US_2016 = AV_US[AV_US.time==2016]"
   ]
  },
  {
   "cell_type": "code",
   "execution_count": 4,
   "metadata": {},
   "outputs": [
    {
     "data": {
      "text/html": [
       "<div>\n",
       "<style scoped>\n",
       "    .dataframe tbody tr th:only-of-type {\n",
       "        vertical-align: middle;\n",
       "    }\n",
       "\n",
       "    .dataframe tbody tr th {\n",
       "        vertical-align: top;\n",
       "    }\n",
       "\n",
       "    .dataframe thead th {\n",
       "        text-align: right;\n",
       "    }\n",
       "</style>\n",
       "<table border=\"1\" class=\"dataframe\">\n",
       "  <thead>\n",
       "    <tr style=\"text-align: right;\">\n",
       "      <th></th>\n",
       "      <th>lon</th>\n",
       "      <th>lat</th>\n",
       "      <th>time</th>\n",
       "      <th>pm25</th>\n",
       "    </tr>\n",
       "  </thead>\n",
       "  <tbody>\n",
       "    <tr>\n",
       "      <td>48706878</td>\n",
       "      <td>-95.095</td>\n",
       "      <td>49.295</td>\n",
       "      <td>2016</td>\n",
       "      <td>3.0</td>\n",
       "    </tr>\n",
       "    <tr>\n",
       "      <td>48706879</td>\n",
       "      <td>-95.085</td>\n",
       "      <td>49.295</td>\n",
       "      <td>2016</td>\n",
       "      <td>3.0</td>\n",
       "    </tr>\n",
       "    <tr>\n",
       "      <td>48706880</td>\n",
       "      <td>-95.075</td>\n",
       "      <td>49.295</td>\n",
       "      <td>2016</td>\n",
       "      <td>3.0</td>\n",
       "    </tr>\n",
       "    <tr>\n",
       "      <td>48706881</td>\n",
       "      <td>-95.065</td>\n",
       "      <td>49.295</td>\n",
       "      <td>2016</td>\n",
       "      <td>3.0</td>\n",
       "    </tr>\n",
       "    <tr>\n",
       "      <td>48706882</td>\n",
       "      <td>-95.055</td>\n",
       "      <td>49.295</td>\n",
       "      <td>2016</td>\n",
       "      <td>3.0</td>\n",
       "    </tr>\n",
       "  </tbody>\n",
       "</table>\n",
       "</div>"
      ],
      "text/plain": [
       "             lon     lat  time  pm25\n",
       "48706878 -95.095  49.295  2016   3.0\n",
       "48706879 -95.085  49.295  2016   3.0\n",
       "48706880 -95.075  49.295  2016   3.0\n",
       "48706881 -95.065  49.295  2016   3.0\n",
       "48706882 -95.055  49.295  2016   3.0"
      ]
     },
     "execution_count": 4,
     "metadata": {},
     "output_type": "execute_result"
    }
   ],
   "source": [
    "AV_US_2016.head()"
   ]
  },
  {
   "cell_type": "code",
   "execution_count": 5,
   "metadata": {},
   "outputs": [
    {
     "data": {
      "text/plain": [
       "(8117813, 4)"
      ]
     },
     "execution_count": 5,
     "metadata": {},
     "output_type": "execute_result"
    }
   ],
   "source": [
    "AV_US_2016.shape"
   ]
  },
  {
   "cell_type": "code",
   "execution_count": 6,
   "metadata": {},
   "outputs": [],
   "source": [
    "GS_US = pd.read_csv(\"all_models/GS_2010_2016_align.csv\")"
   ]
  },
  {
   "cell_type": "code",
   "execution_count": 7,
   "metadata": {},
   "outputs": [],
   "source": [
    "GS_US_2016 = GS_US[GS_US.time==2016]"
   ]
  },
  {
   "cell_type": "code",
   "execution_count": 8,
   "metadata": {},
   "outputs": [
    {
     "data": {
      "text/html": [
       "<div>\n",
       "<style scoped>\n",
       "    .dataframe tbody tr th:only-of-type {\n",
       "        vertical-align: middle;\n",
       "    }\n",
       "\n",
       "    .dataframe tbody tr th {\n",
       "        vertical-align: top;\n",
       "    }\n",
       "\n",
       "    .dataframe thead th {\n",
       "        text-align: right;\n",
       "    }\n",
       "</style>\n",
       "<table border=\"1\" class=\"dataframe\">\n",
       "  <thead>\n",
       "    <tr style=\"text-align: right;\">\n",
       "      <th></th>\n",
       "      <th>lon</th>\n",
       "      <th>lat</th>\n",
       "      <th>time</th>\n",
       "      <th>pm25</th>\n",
       "    </tr>\n",
       "  </thead>\n",
       "  <tbody>\n",
       "    <tr>\n",
       "      <td>48706878</td>\n",
       "      <td>-95.095</td>\n",
       "      <td>49.295</td>\n",
       "      <td>2016</td>\n",
       "      <td>6.008982</td>\n",
       "    </tr>\n",
       "    <tr>\n",
       "      <td>48706879</td>\n",
       "      <td>-95.085</td>\n",
       "      <td>49.295</td>\n",
       "      <td>2016</td>\n",
       "      <td>6.008982</td>\n",
       "    </tr>\n",
       "    <tr>\n",
       "      <td>48706880</td>\n",
       "      <td>-95.075</td>\n",
       "      <td>49.295</td>\n",
       "      <td>2016</td>\n",
       "      <td>6.008982</td>\n",
       "    </tr>\n",
       "    <tr>\n",
       "      <td>48706881</td>\n",
       "      <td>-95.065</td>\n",
       "      <td>49.295</td>\n",
       "      <td>2016</td>\n",
       "      <td>6.008982</td>\n",
       "    </tr>\n",
       "    <tr>\n",
       "      <td>48706882</td>\n",
       "      <td>-95.055</td>\n",
       "      <td>49.295</td>\n",
       "      <td>2016</td>\n",
       "      <td>6.008982</td>\n",
       "    </tr>\n",
       "  </tbody>\n",
       "</table>\n",
       "</div>"
      ],
      "text/plain": [
       "             lon     lat  time      pm25\n",
       "48706878 -95.095  49.295  2016  6.008982\n",
       "48706879 -95.085  49.295  2016  6.008982\n",
       "48706880 -95.075  49.295  2016  6.008982\n",
       "48706881 -95.065  49.295  2016  6.008982\n",
       "48706882 -95.055  49.295  2016  6.008982"
      ]
     },
     "execution_count": 8,
     "metadata": {},
     "output_type": "execute_result"
    }
   ],
   "source": [
    "GS_US_2016.head()"
   ]
  },
  {
   "cell_type": "code",
   "execution_count": 9,
   "metadata": {},
   "outputs": [
    {
     "data": {
      "text/plain": [
       "(8117813, 4)"
      ]
     },
     "execution_count": 9,
     "metadata": {},
     "output_type": "execute_result"
    }
   ],
   "source": [
    "GS_US_2016.shape"
   ]
  },
  {
   "cell_type": "code",
   "execution_count": 10,
   "metadata": {},
   "outputs": [],
   "source": [
    "SC_US = pd.read_csv(\"all_models/SC_2010_2016_align.csv\")"
   ]
  },
  {
   "cell_type": "code",
   "execution_count": 11,
   "metadata": {},
   "outputs": [],
   "source": [
    "SC_US_2016 = SC_US[SC_US.time==2016]"
   ]
  },
  {
   "cell_type": "code",
   "execution_count": 12,
   "metadata": {},
   "outputs": [
    {
     "data": {
      "text/html": [
       "<div>\n",
       "<style scoped>\n",
       "    .dataframe tbody tr th:only-of-type {\n",
       "        vertical-align: middle;\n",
       "    }\n",
       "\n",
       "    .dataframe tbody tr th {\n",
       "        vertical-align: top;\n",
       "    }\n",
       "\n",
       "    .dataframe thead th {\n",
       "        text-align: right;\n",
       "    }\n",
       "</style>\n",
       "<table border=\"1\" class=\"dataframe\">\n",
       "  <thead>\n",
       "    <tr style=\"text-align: right;\">\n",
       "      <th></th>\n",
       "      <th>lon</th>\n",
       "      <th>lat</th>\n",
       "      <th>time</th>\n",
       "      <th>pm25</th>\n",
       "    </tr>\n",
       "  </thead>\n",
       "  <tbody>\n",
       "    <tr>\n",
       "      <td>48706878</td>\n",
       "      <td>-95.095</td>\n",
       "      <td>49.295</td>\n",
       "      <td>2016</td>\n",
       "      <td>7.939744</td>\n",
       "    </tr>\n",
       "    <tr>\n",
       "      <td>48706879</td>\n",
       "      <td>-95.085</td>\n",
       "      <td>49.295</td>\n",
       "      <td>2016</td>\n",
       "      <td>7.939744</td>\n",
       "    </tr>\n",
       "    <tr>\n",
       "      <td>48706880</td>\n",
       "      <td>-95.075</td>\n",
       "      <td>49.295</td>\n",
       "      <td>2016</td>\n",
       "      <td>7.939744</td>\n",
       "    </tr>\n",
       "    <tr>\n",
       "      <td>48706881</td>\n",
       "      <td>-95.065</td>\n",
       "      <td>49.295</td>\n",
       "      <td>2016</td>\n",
       "      <td>7.939744</td>\n",
       "    </tr>\n",
       "    <tr>\n",
       "      <td>48706882</td>\n",
       "      <td>-95.055</td>\n",
       "      <td>49.295</td>\n",
       "      <td>2016</td>\n",
       "      <td>7.939744</td>\n",
       "    </tr>\n",
       "  </tbody>\n",
       "</table>\n",
       "</div>"
      ],
      "text/plain": [
       "             lon     lat  time      pm25\n",
       "48706878 -95.095  49.295  2016  7.939744\n",
       "48706879 -95.085  49.295  2016  7.939744\n",
       "48706880 -95.075  49.295  2016  7.939744\n",
       "48706881 -95.065  49.295  2016  7.939744\n",
       "48706882 -95.055  49.295  2016  7.939744"
      ]
     },
     "execution_count": 12,
     "metadata": {},
     "output_type": "execute_result"
    }
   ],
   "source": [
    "SC_US_2016.head()"
   ]
  },
  {
   "cell_type": "code",
   "execution_count": 13,
   "metadata": {},
   "outputs": [
    {
     "data": {
      "text/plain": [
       "(8117813, 4)"
      ]
     },
     "execution_count": 13,
     "metadata": {},
     "output_type": "execute_result"
    }
   ],
   "source": [
    "SC_US_2016.shape"
   ]
  },
  {
   "cell_type": "code",
   "execution_count": 14,
   "metadata": {},
   "outputs": [],
   "source": [
    "X_train = pd.read_csv(\"all_models/training_2010_2016.csv\")"
   ]
  },
  {
   "cell_type": "code",
   "execution_count": 15,
   "metadata": {},
   "outputs": [
    {
     "data": {
      "text/html": [
       "<div>\n",
       "<style scoped>\n",
       "    .dataframe tbody tr th:only-of-type {\n",
       "        vertical-align: middle;\n",
       "    }\n",
       "\n",
       "    .dataframe tbody tr th {\n",
       "        vertical-align: top;\n",
       "    }\n",
       "\n",
       "    .dataframe thead th {\n",
       "        text-align: right;\n",
       "    }\n",
       "</style>\n",
       "<table border=\"1\" class=\"dataframe\">\n",
       "  <thead>\n",
       "    <tr style=\"text-align: right;\">\n",
       "      <th></th>\n",
       "      <th>time</th>\n",
       "      <th>lon</th>\n",
       "      <th>lat</th>\n",
       "      <th>pm25_obs</th>\n",
       "      <th>pred_AV</th>\n",
       "      <th>pred_SC</th>\n",
       "      <th>pred_GS</th>\n",
       "    </tr>\n",
       "  </thead>\n",
       "  <tbody>\n",
       "    <tr>\n",
       "      <td>0</td>\n",
       "      <td>2010</td>\n",
       "      <td>-124.083900</td>\n",
       "      <td>41.560800</td>\n",
       "      <td>2.835678</td>\n",
       "      <td>3.4</td>\n",
       "      <td>4.578975</td>\n",
       "      <td>5.364638</td>\n",
       "    </tr>\n",
       "    <tr>\n",
       "      <td>1</td>\n",
       "      <td>2010</td>\n",
       "      <td>-124.058900</td>\n",
       "      <td>42.552000</td>\n",
       "      <td>2.970706</td>\n",
       "      <td>3.3</td>\n",
       "      <td>4.419969</td>\n",
       "      <td>4.742808</td>\n",
       "    </tr>\n",
       "    <tr>\n",
       "      <td>2</td>\n",
       "      <td>2010</td>\n",
       "      <td>-123.348466</td>\n",
       "      <td>42.434139</td>\n",
       "      <td>6.405263</td>\n",
       "      <td>6.6</td>\n",
       "      <td>13.098448</td>\n",
       "      <td>6.467641</td>\n",
       "    </tr>\n",
       "    <tr>\n",
       "      <td>3</td>\n",
       "      <td>2010</td>\n",
       "      <td>-123.139831</td>\n",
       "      <td>44.066304</td>\n",
       "      <td>6.289076</td>\n",
       "      <td>5.8</td>\n",
       "      <td>7.118291</td>\n",
       "      <td>7.146530</td>\n",
       "    </tr>\n",
       "    <tr>\n",
       "      <td>4</td>\n",
       "      <td>2010</td>\n",
       "      <td>-123.083737</td>\n",
       "      <td>44.026312</td>\n",
       "      <td>5.686517</td>\n",
       "      <td>5.9</td>\n",
       "      <td>12.025641</td>\n",
       "      <td>6.839928</td>\n",
       "    </tr>\n",
       "  </tbody>\n",
       "</table>\n",
       "</div>"
      ],
      "text/plain": [
       "   time         lon        lat  pm25_obs  pred_AV    pred_SC   pred_GS\n",
       "0  2010 -124.083900  41.560800  2.835678      3.4   4.578975  5.364638\n",
       "1  2010 -124.058900  42.552000  2.970706      3.3   4.419969  4.742808\n",
       "2  2010 -123.348466  42.434139  6.405263      6.6  13.098448  6.467641\n",
       "3  2010 -123.139831  44.066304  6.289076      5.8   7.118291  7.146530\n",
       "4  2010 -123.083737  44.026312  5.686517      5.9  12.025641  6.839928"
      ]
     },
     "execution_count": 15,
     "metadata": {},
     "output_type": "execute_result"
    }
   ],
   "source": [
    "X_train.head()"
   ]
  },
  {
   "cell_type": "code",
   "execution_count": 16,
   "metadata": {},
   "outputs": [],
   "source": [
    "X_train_US_2016 = X_train[X_train.time==2016]"
   ]
  },
  {
   "cell_type": "markdown",
   "metadata": {},
   "source": [
    "# Changes I made in visual.py\n",
    "\n",
    "line 612 -> figsize from (10,8) to (15,8)\n",
    "line 625& 626 - commented out "
   ]
  },
  {
   "cell_type": "code",
   "execution_count": 17,
   "metadata": {},
   "outputs": [
    {
     "data": {
      "text/plain": [
       "count    8.117813e+06\n",
       "mean     5.396070e+00\n",
       "std      1.925534e+00\n",
       "min      1.700000e+00\n",
       "25%      3.800000e+00\n",
       "50%      5.100000e+00\n",
       "75%      7.000000e+00\n",
       "max      1.650000e+01\n",
       "Name: pm25, dtype: float64"
      ]
     },
     "execution_count": 17,
     "metadata": {},
     "output_type": "execute_result"
    }
   ],
   "source": [
    "AV_US_2016['pm25'].describe()"
   ]
  },
  {
   "cell_type": "code",
   "execution_count": 18,
   "metadata": {},
   "outputs": [
    {
     "data": {
      "text/plain": [
       "count    8.117813e+06\n",
       "mean     9.276140e+00\n",
       "std      5.073778e+00\n",
       "min     -4.916766e-01\n",
       "25%      6.511864e+00\n",
       "50%      8.198214e+00\n",
       "75%      1.029527e+01\n",
       "max      6.013055e+01\n",
       "Name: pm25, dtype: float64"
      ]
     },
     "execution_count": 18,
     "metadata": {},
     "output_type": "execute_result"
    }
   ],
   "source": [
    "SC_US_2016['pm25'].describe()"
   ]
  },
  {
   "cell_type": "code",
   "execution_count": 19,
   "metadata": {},
   "outputs": [
    {
     "data": {
      "text/plain": [
       "60.13055"
      ]
     },
     "execution_count": 19,
     "metadata": {},
     "output_type": "execute_result"
    }
   ],
   "source": [
    "max(SC_US_2016['pm25'])"
   ]
  },
  {
   "cell_type": "code",
   "execution_count": 20,
   "metadata": {},
   "outputs": [
    {
     "data": {
      "text/plain": [
       "count    8.117813e+06\n",
       "mean     7.639032e+00\n",
       "std      1.589585e+00\n",
       "min      3.654308e+00\n",
       "25%      6.371464e+00\n",
       "50%      7.414586e+00\n",
       "75%      8.757052e+00\n",
       "max      1.889925e+01\n",
       "Name: pm25, dtype: float64"
      ]
     },
     "execution_count": 20,
     "metadata": {},
     "output_type": "execute_result"
    }
   ],
   "source": [
    "GS_US_2016['pm25'].describe()"
   ]
  },
  {
   "cell_type": "code",
   "execution_count": 170,
   "metadata": {},
   "outputs": [],
   "source": [
    "#bounding box \n",
    "min_lon = -124.409591\n",
    "max_lon = -114.131211\n",
    "min_lat = 32.534156\n",
    "max_lat = 42.009518\n"
   ]
  },
  {
   "cell_type": "code",
   "execution_count": 193,
   "metadata": {},
   "outputs": [],
   "source": [
    "def filter_state(df):\n",
    "    out = df[(df.lat>=min_lat) & (df.lat<=max_lat) & \\\n",
    "    (df.lon>=min_lon) & (df.lon<=max_lon)]\n",
    "    \n",
    "    return out \n",
    "    "
   ]
  },
  {
   "cell_type": "code",
   "execution_count": 198,
   "metadata": {},
   "outputs": [],
   "source": [
    "X_train_US_2016_state = filter_state(X_train_US_2016)"
   ]
  },
  {
   "cell_type": "code",
   "execution_count": 194,
   "metadata": {},
   "outputs": [],
   "source": [
    "AV_US_2016_state = filter_state(AV_US_2016)"
   ]
  },
  {
   "cell_type": "code",
   "execution_count": 195,
   "metadata": {},
   "outputs": [],
   "source": [
    "GS_US_2016_state = filter_state(GS_US_2016)"
   ]
  },
  {
   "cell_type": "code",
   "execution_count": 196,
   "metadata": {},
   "outputs": [],
   "source": [
    "SC_US_2016_state = filter_state(SC_US_2016)"
   ]
  },
  {
   "cell_type": "code",
   "execution_count": 141,
   "metadata": {},
   "outputs": [],
   "source": [
    "# AV_2016_US_original = pd.read_csv('all_models/AV_2016_align.csv')\n",
    "# GBD_2016_US_original = pd.read_csv('all_models/GBD_2016_align.csv')\n",
    "# SC_2016_US_original = pd.read_csv('all_models/scott_2016_align.csv')"
   ]
  },
  {
   "cell_type": "code",
   "execution_count": 156,
   "metadata": {},
   "outputs": [],
   "source": [
    "# AV_US_2016_state_original = filter_state(AV_2016_US_original)\n",
    "# GBD_US_2016_state_original = filter_state(GBD_2016_US_original)\n",
    "# SC_US_2016_state_original = filter_state(SC_2016_US_original)"
   ]
  },
  {
   "cell_type": "code",
   "execution_count": 177,
   "metadata": {},
   "outputs": [],
   "source": [
    "import shapefile as shp  # Requires the pyshp package\n",
    "sf = shp.Reader('tl_2017_us_state/tl_2017_us_state.shp')\n"
   ]
  },
  {
   "cell_type": "code",
   "execution_count": 191,
   "metadata": {},
   "outputs": [],
   "source": [
    "state_sf = np.take(sf.shapeRecords(), sf_df[sf_df[5].isin(['CA', 'NV', 'AZ'])].index)"
   ]
  },
  {
   "cell_type": "code",
   "execution_count": 192,
   "metadata": {},
   "outputs": [
    {
     "data": {
      "image/png": "[encoded data removed]",
      "text/plain": [
       "<Figure size 720x576 with 1 Axes>"
      ]
     },
     "metadata": {
      "needs_background": "light"
     },
     "output_type": "display_data"
    }
   ],
   "source": [
    "plt.figure(figsize=(10, 8))\n",
    "for shape in state_sf:\n",
    "    x = [i[0] for i in shape.shape.points[:]]\n",
    "    y = [i[1] for i in shape.shape.points[:]]\n",
    "    plt.scatter(x,y,color='black',s=0.01)\n",
    "plt.show()"
   ]
  },
  {
   "cell_type": "code",
   "execution_count": 203,
   "metadata": {},
   "outputs": [],
   "source": [
    "color_norm_pred = visual_util.make_color_norm(\n",
    "        np.array([4, 10]),  # exclude \"resid\" vales from pal\n",
    "        method=\"percentile\")\n",
    "\n",
    "\n",
    "save_name ='all_models/GS_US_2016_CA.png'\n",
    "plot_data = GS_US_2016_state['pm25']\n",
    "X=GS_US_2016_state[['lon', 'lat']].values\n",
    "X_monitor=X_train_US_2016_state[['lon','lat']].values\n",
    "cmap=plt.get_cmap('RdYlGn_r')\n",
    "norm=color_norm_pred\n",
    "norm_method=\"percentile\"\n",
    "save_addr=save_name"
   ]
  },
  {
   "cell_type": "code",
   "execution_count": 204,
   "metadata": {},
   "outputs": [],
   "source": [
    "# 2d color plot using scatter\n",
    "# made changes here on the fig size\n",
    "plt.figure(figsize=(10, 8))\n",
    "plt.scatter(x=X[:, 0], y=X[:, 1],\n",
    "                s=3,\n",
    "                c=plot_data, cmap=cmap, norm=norm)\n",
    "cbar = plt.colorbar()\n",
    "\n",
    "# plot monitors\n",
    "if isinstance(X_monitor, np.ndarray):\n",
    "    plt.scatter(x=X_monitor[:, 0], y=X_monitor[:, 1],\n",
    "                    s=10, c='black')\n",
    "\n",
    "# adjust plot window\n",
    "plt.xlim((np.min(X[:, 0]), np.max(X[:, 0])))\n",
    "plt.ylim((np.min(X[:, 1]), np.max(X[:, 1])))\n",
    "\n",
    "\n",
    "#overlap the state borders\n",
    "for shape in state_sf:\n",
    "    x = [i[0] for i in shape.shape.points[:]]\n",
    "    y = [i[1] for i in shape.shape.points[:]]\n",
    "    plt.scatter(x,y,color='black',s=0.01)\n",
    "\n",
    "if save_addr:\n",
    "    plt.savefig(save_addr, bbox_inches='tight')\n",
    "    plt.close()\n",
    "    plt.ion()\n",
    "else:\n",
    "    plt.show()"
   ]
  },
  {
   "cell_type": "code",
   "execution_count": 38,
   "metadata": {},
   "outputs": [],
   "source": [
    "# color_norm_pred = visual_util.make_color_norm(\n",
    "#         np.array([4, 14]),  # exclude \"resid\" vales from pal\n",
    "#         method=\"percentile\")\n",
    "\n",
    "\n",
    "# save_name = 'all_models/SC_US_2016_state.png'\n",
    "# color_norm = visual_util.posterior_heatmap_2d(SC_US_2016_state['pm25'],\n",
    "#                                                       X=SC_US_2016_state[['lon', 'lat']].values, \\\n",
    "#                                               X_monitor=X_train_US_2016_state[['lon','lat']].values,\n",
    "#                                                       cmap='RdYlGn_r',\n",
    "#                                                       norm=color_norm_pred,\n",
    "#                                                       norm_method=\"percentile\",\n",
    "#                                                       save_addr=save_name)\n",
    "\n"
   ]
  },
  {
   "cell_type": "code",
   "execution_count": null,
   "metadata": {},
   "outputs": [],
   "source": []
  }
 ],
 "metadata": {
  "kernelspec": {
   "display_name": "Python 3",
   "language": "python",
   "name": "python3"
  },
  "language_info": {
   "codemirror_mode": {
    "name": "ipython",
    "version": 3
   },
   "file_extension": ".py",
   "mimetype": "text/x-python",
   "name": "python",
   "nbconvert_exporter": "python",
   "pygments_lexer": "ipython3",
   "version": "3.6.9"
  }
 },
 "nbformat": 4,
 "nbformat_minor": 2
}
